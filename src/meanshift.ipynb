{
 "cells": [
  {
   "cell_type": "markdown",
   "metadata": {},
   "source": [
    "# Algoritmo MeanShift"
   ]
  },
  {
   "cell_type": "markdown",
   "metadata": {},
   "source": [
    "## Índice"
   ]
  },
  {
   "cell_type": "markdown",
   "metadata": {},
   "source": [
    "- [Link para retornar ao notebook principal](#retornar-para-notebook-principal---mainipynb)\n",
    "- [Importando bibliotecas e pacotes](#importando-bibliotecas-e-pacotes)\n",
    "- [Importando datasets](#importando-datasets)\n",
    "- [Testes com o algoritmo](#testes-com-o-algoritmo)\n",
    "- [Aplicando o algoritmo MeanShift]()"
   ]
  },
  {
   "cell_type": "markdown",
   "metadata": {},
   "source": [
    "## Retornar para notebook principal - main.ipynb"
   ]
  },
  {
   "cell_type": "markdown",
   "metadata": {},
   "source": [
    "[Link para notebook principal](./main.ipynb)"
   ]
  },
  {
   "cell_type": "markdown",
   "metadata": {},
   "source": [
    "## Importando bibliotecas e pacotes"
   ]
  },
  {
   "cell_type": "code",
   "execution_count": 1,
   "metadata": {},
   "outputs": [],
   "source": [
    "from utils.alterar_dataset import deletar_valores_absurdos, preencher_valores_faltantes_linha\n",
    "from sklearn.metrics import silhouette_score, davies_bouldin_score, calinski_harabasz_score\n",
    "from sklearn.model_selection import train_test_split\n",
    "from utils.parametros import ParametrosMeanshift\n",
    "from sklearn.cluster import estimate_bandwidth\n",
    "from sklearn.impute import SimpleImputer\n",
    "from models.meanshift import Meanshift\n",
    "from matplotlib import pyplot as plt\n",
    "import seaborn as sns\n",
    "import pandas as pd\n",
    "import numpy as np"
   ]
  },
  {
   "cell_type": "markdown",
   "metadata": {},
   "source": [
    "## Importando datasets"
   ]
  },
  {
   "cell_type": "code",
   "execution_count": 2,
   "metadata": {},
   "outputs": [],
   "source": [
    "df_funcao_renal = pd.read_csv(\"../databases/raw/InputFuncaoRenal.csv\", sep = \",\", index_col = \"subject_id\")\n",
    "df_dieta_grupos = pd.read_csv(\"../databases/raw/dva_dieta_grupos.csv\", sep = \",\", index_col = \"subject_id\")\n",
    "df_perfil_hepatico = pd.read_csv(\"../databases/raw/InputPerfilHepatico.csv\", sep = \",\", index_col = \"subject_id\")\n",
    "df_ureia = pd.read_csv(\"../databases/processed/ureia_pivoted.csv\", sep = \",\", index_col = \"subject_id\")\n",
    "df_creatinina = pd.read_csv(\"../databases/processed/creatinina_pivoted.csv\", sep = \",\", index_col = \"subject_id\")"
   ]
  },
  {
   "cell_type": "markdown",
   "metadata": {},
   "source": [
    "## Testes com o Algoritmo"
   ]
  },
  {
   "cell_type": "markdown",
   "metadata": {},
   "source": [
    "### DATASET Funcao Renal"
   ]
  },
  {
   "cell_type": "code",
   "execution_count": 3,
   "metadata": {},
   "outputs": [
    {
     "name": "stdout",
     "output_type": "stream",
     "text": [
      "PARA O QUANTIL < 0.2 > OS RESULTADOS SÃO:\n",
      "====================\n",
      "SILHOUETTE SCORE:  [1.0, -0.00013345789403449188, 1.0, 1.0, 1.0, 1.0]\n",
      "DAVIS-BOULDIN SCORE:  0.0\n",
      "CALINSKI-HARABASZ SCORE:  1.0\n",
      "QUANTIDADE DE GRUPOS: 25\n",
      "====================\n",
      "\n",
      "\n",
      "PARA O QUANTIL < 0.25 > OS RESULTADOS SÃO:\n",
      "====================\n",
      "SILHOUETTE SCORE:  [0.767706173302503, 0.12370790505587803, 0.7645057772236232, 0.767706173302503, 0.7645057772236232, 0.767706173302503]\n",
      "DAVIS-BOULDIN SCORE:  0.7393294782399168\n",
      "CALINSKI-HARABASZ SCORE:  21579.78483257319\n",
      "QUANTIDADE DE GRUPOS: 8\n",
      "====================\n",
      "\n",
      "\n",
      "PARA O QUANTIL < 0.3 > OS RESULTADOS SÃO:\n",
      "====================\n",
      "SILHOUETTE SCORE:  [0.7820985425449464, 0.02397030346205312, 0.7738723041669752, 0.7820985425449464, 0.7738723041669752, 0.7820985425449464]\n",
      "DAVIS-BOULDIN SCORE:  0.6926368214558204\n",
      "CALINSKI-HARABASZ SCORE:  21912.91814080217\n",
      "QUANTIDADE DE GRUPOS: 7\n",
      "====================\n",
      "\n",
      "\n",
      "PARA O QUANTIL < 0.4 > OS RESULTADOS SÃO:\n",
      "====================\n",
      "SILHOUETTE SCORE:  [0.7445469068674132, 0.14252289831332657, 0.7189695777536332, 0.7445469068674132, 0.7189695777536332, 0.7445469068674132]\n",
      "DAVIS-BOULDIN SCORE:  0.8108048477735894\n",
      "CALINSKI-HARABASZ SCORE:  18584.83559834333\n",
      "QUANTIDADE DE GRUPOS: 5\n",
      "====================\n",
      "\n",
      "\n",
      "PARA O QUANTIL < 0.5 > OS RESULTADOS SÃO:\n",
      "====================\n",
      "SILHOUETTE SCORE:  [0.7253300440512355, 0.15309601448814728, 0.7251926137912906, 0.7253300440512355, 0.7251926137912906, 0.7253300440512355]\n",
      "DAVIS-BOULDIN SCORE:  0.6113711182191346\n",
      "CALINSKI-HARABASZ SCORE:  25146.47999369303\n",
      "QUANTIDADE DE GRUPOS: 3\n",
      "====================\n",
      "\n",
      "\n",
      "PARA O QUANTIL < 0.6 > OS RESULTADOS SÃO:\n",
      "====================\n",
      "SILHOUETTE SCORE:  [0.7380175135237754, 0.18810217728218312, 0.7141329406844735, 0.7380175135237754, 0.7141329406844735, 0.7380175135237754]\n",
      "DAVIS-BOULDIN SCORE:  0.5324779436270574\n",
      "CALINSKI-HARABASZ SCORE:  19704.887038093548\n",
      "QUANTIDADE DE GRUPOS: 2\n",
      "====================\n",
      "\n",
      "\n"
     ]
    }
   ],
   "source": [
    "quantis_escolhidos = [0.2, 0.25, 0.3, 0.4, 0.5, 0.6]\n",
    "\n",
    "for quantil in quantis_escolhidos:\n",
    "    bandwidth = estimate_bandwidth(X = df_funcao_renal, quantile = quantil, random_state = 42)\n",
    "    meanshift = Meanshift(bandwidth = bandwidth,\n",
    "                          nro_max_iteracoes = 500,\n",
    "                          nro_threads = -1)\n",
    "    meanshift.fit(df_funcao_renal)\n",
    "    y_funcao_renal = meanshift.fit_predict(df_funcao_renal)\n",
    "    \n",
    "    silhouette = []\n",
    "\n",
    "    for metrica in [\"cityblock\", \"cosine\", \"euclidean\", \"l1\", \"l2\", \"manhattan\"]:\n",
    "        silhouette.append(silhouette_score(df_funcao_renal, y_funcao_renal, metric = metrica))\n",
    "\n",
    "    davies_bouldin = davies_bouldin_score(df_funcao_renal, y_funcao_renal)\n",
    "    calinski = calinski_harabasz_score(df_funcao_renal, y_funcao_renal)\n",
    "\n",
    "    print(f\"PARA O QUANTIL < {quantil} > OS RESULTADOS SÃO:\", end = \"\\n\")\n",
    "    print(\"=\" * 20)\n",
    "    print(\"SILHOUETTE SCORE: \", silhouette, end = \"\\n\")\n",
    "    print(\"DAVIS-BOULDIN SCORE: \", davies_bouldin, end = \"\\n\")\n",
    "    print(\"CALINSKI-HARABASZ SCORE: \", calinski, end = \"\\n\")\n",
    "    print(f\"QUANTIDADE DE GRUPOS: {len(np.unique(meanshift.getLabels()))}\")\n",
    "    print(\"=\" * 20, end = \"\\n\\n\\n\")"
   ]
  },
  {
   "cell_type": "markdown",
   "metadata": {},
   "source": [
    "Como podemos notar acima, os melhores parâmetros são:\n",
    "- métrica: qualquer uma, exceto \"cityblock\";\n",
    "- quantil: 0.2;\n",
    "- frequência mínima: 1;\n",
    "- número máximo de iterações: 500;\n",
    "- semente randômica: 42.\n",
    "\n",
    "Com o número de clusteres: 5."
   ]
  },
  {
   "cell_type": "markdown",
   "metadata": {},
   "source": [
    "### DATASET Dieta Grupos"
   ]
  },
  {
   "cell_type": "code",
   "execution_count": 4,
   "metadata": {},
   "outputs": [
    {
     "name": "stdout",
     "output_type": "stream",
     "text": [
      "PARA O QUANTIL < 0.2 > OS RESULTADOS SÃO:\n",
      "====================\n",
      "SILHOUETTE SCORE:  [0.14783360272991927, -0.586399347158496, 0.1893650130593205, 0.14783360272991927, 0.1893650130593205, 0.14783360272991927]\n",
      "DAVIS-BOULDIN SCORE:  1.1763008775949684\n",
      "CALINSKI-HARABASZ SCORE:  139.85322497688574\n",
      "QUANTIDADE DE GRUPOS: 25\n",
      "====================\n",
      "\n",
      "\n",
      "PARA O QUANTIL < 0.25 > OS RESULTADOS SÃO:\n",
      "====================\n",
      "SILHOUETTE SCORE:  [0.22561520282267178, -0.5916939477539512, 0.2421173795311405, 0.22561520282267178, 0.2421173795311405, 0.22561520282267178]\n",
      "DAVIS-BOULDIN SCORE:  1.1147975968368442\n",
      "CALINSKI-HARABASZ SCORE:  153.98846696197288\n",
      "QUANTIDADE DE GRUPOS: 20\n",
      "====================\n",
      "\n",
      "\n",
      "PARA O QUANTIL < 0.3 > OS RESULTADOS SÃO:\n",
      "====================\n",
      "SILHOUETTE SCORE:  [0.2386684790528939, -0.5870436959106852, 0.2645822490873655, 0.2386684790528939, 0.2645822490873655, 0.2386684790528939]\n",
      "DAVIS-BOULDIN SCORE:  1.052293240060704\n",
      "CALINSKI-HARABASZ SCORE:  134.09984291300785\n",
      "QUANTIDADE DE GRUPOS: 16\n",
      "====================\n",
      "\n",
      "\n",
      "PARA O QUANTIL < 0.4 > OS RESULTADOS SÃO:\n",
      "====================\n",
      "SILHOUETTE SCORE:  [0.24317731149290167, -0.5927387201841084, 0.3359935243747827, 0.24317731149290167, 0.3359935243747827, 0.24317731149290167]\n",
      "DAVIS-BOULDIN SCORE:  0.825432158054771\n",
      "CALINSKI-HARABASZ SCORE:  99.32570469203793\n",
      "QUANTIDADE DE GRUPOS: 10\n",
      "====================\n",
      "\n",
      "\n",
      "PARA O QUANTIL < 0.5 > OS RESULTADOS SÃO:\n",
      "====================\n",
      "SILHOUETTE SCORE:  [0.3108806642274857, -0.5808438428986116, 0.37222230845153675, 0.3108806642274857, 0.37222230845153675, 0.3108806642274857]\n",
      "DAVIS-BOULDIN SCORE:  0.785325678618163\n",
      "CALINSKI-HARABASZ SCORE:  68.5540104130139\n",
      "QUANTIDADE DE GRUPOS: 9\n",
      "====================\n",
      "\n",
      "\n",
      "PARA O QUANTIL < 0.6 > OS RESULTADOS SÃO:\n",
      "====================\n",
      "SILHOUETTE SCORE:  [0.4284650267264221, -0.26393919500083574, 0.5088849303088104, 0.4284650267264221, 0.5088849303088104, 0.4284650267264221]\n",
      "DAVIS-BOULDIN SCORE:  0.6519725083905875\n",
      "CALINSKI-HARABASZ SCORE:  40.68426371136064\n",
      "QUANTIDADE DE GRUPOS: 6\n",
      "====================\n",
      "\n",
      "\n"
     ]
    }
   ],
   "source": [
    "quantis_escolhidos = [0.2, 0.25, 0.3, 0.4, 0.5, 0.6]\n",
    "\n",
    "for quantil in quantis_escolhidos:\n",
    "    bandwidth = estimate_bandwidth(X = df_dieta_grupos, quantile = quantil, random_state = 42)\n",
    "    meanshift = Meanshift(bandwidth = bandwidth,\n",
    "                          nro_max_iteracoes = 500,\n",
    "                          nro_threads = -1)\n",
    "    meanshift.fit(df_dieta_grupos)\n",
    "    y_dieta_grupos = meanshift.fit_predict(df_dieta_grupos)\n",
    "    \n",
    "    silhouette = []\n",
    "\n",
    "    for metrica in [\"cityblock\", \"cosine\", \"euclidean\", \"l1\", \"l2\", \"manhattan\"]:\n",
    "        silhouette.append(silhouette_score(df_dieta_grupos, y_dieta_grupos, metric = metrica))\n",
    "\n",
    "    davies_bouldin = davies_bouldin_score(df_dieta_grupos, y_dieta_grupos)\n",
    "    calinski = calinski_harabasz_score(df_dieta_grupos, y_dieta_grupos)\n",
    "\n",
    "    print(f\"PARA O QUANTIL < {quantil} > OS RESULTADOS SÃO:\", end = \"\\n\")\n",
    "    print(\"=\" * 20)\n",
    "    print(\"SILHOUETTE SCORE: \", silhouette, end = \"\\n\")\n",
    "    print(\"DAVIS-BOULDIN SCORE: \", davies_bouldin, end = \"\\n\")\n",
    "    print(\"CALINSKI-HARABASZ SCORE: \", calinski, end = \"\\n\")\n",
    "    print(f\"QUANTIDADE DE GRUPOS: {len(np.unique(meanshift.getLabels()))}\")\n",
    "    print(\"=\" * 20, end = \"\\n\\n\\n\")"
   ]
  },
  {
   "cell_type": "markdown",
   "metadata": {},
   "source": [
    "Como podemos notar acima, os melhores parâmetros são:\n",
    "- métrica: qualquer uma, exceto \"euclidean\";\n",
    "- quantil: 0.6;\n",
    "- frequência mínima: 1;\n",
    "- número máximo de iterações: 500;\n",
    "- semente randômica: 42.\n",
    "\n",
    "Com o número de clusteres: 6."
   ]
  },
  {
   "cell_type": "markdown",
   "metadata": {},
   "source": [
    "### DATASET Perfil Hepatico"
   ]
  },
  {
   "cell_type": "code",
   "execution_count": 5,
   "metadata": {},
   "outputs": [
    {
     "name": "stdout",
     "output_type": "stream",
     "text": [
      "PARA O QUANTIL < 0.2 > OS RESULTADOS SÃO:\n",
      "====================\n",
      "SILHOUETTE SCORE:  [0.5591197380759249, -0.09945565098983042, 0.5273898315871121, 0.5591197380759249, 0.5273898315871121, 0.5591197380759249]\n",
      "DAVIS-BOULDIN SCORE:  1.1573282447520783\n",
      "CALINSKI-HARABASZ SCORE:  1696.3939534258216\n",
      "QUANTIDADE DE GRUPOS: 33\n",
      "====================\n",
      "\n",
      "\n",
      "PARA O QUANTIL < 0.25 > OS RESULTADOS SÃO:\n",
      "====================\n",
      "SILHOUETTE SCORE:  [0.5630997029087442, -0.085850168073472, 0.5319133748993254, 0.5630997029087442, 0.5319133748993254, 0.5630997029087442]\n",
      "DAVIS-BOULDIN SCORE:  1.2716137520125304\n",
      "CALINSKI-HARABASZ SCORE:  1753.888294547341\n",
      "QUANTIDADE DE GRUPOS: 26\n",
      "====================\n",
      "\n",
      "\n",
      "PARA O QUANTIL < 0.3 > OS RESULTADOS SÃO:\n",
      "====================\n",
      "SILHOUETTE SCORE:  [0.5788718316128073, -0.09457566982501672, 0.5391172113839361, 0.5788718316128073, 0.5391172113839361, 0.5788718316128073]\n",
      "DAVIS-BOULDIN SCORE:  1.203818111350865\n",
      "CALINSKI-HARABASZ SCORE:  3009.7597145498235\n",
      "QUANTIDADE DE GRUPOS: 13\n",
      "====================\n",
      "\n",
      "\n",
      "PARA O QUANTIL < 0.4 > OS RESULTADOS SÃO:\n",
      "====================\n",
      "SILHOUETTE SCORE:  [0.5998464517668343, -0.07679397691067627, 0.5680426285666547, 0.5998464517668343, 0.5680426285666547, 0.5998464517668343]\n",
      "DAVIS-BOULDIN SCORE:  1.0903237900449834\n",
      "CALINSKI-HARABASZ SCORE:  3733.1146655571683\n",
      "QUANTIDADE DE GRUPOS: 8\n",
      "====================\n",
      "\n",
      "\n",
      "PARA O QUANTIL < 0.5 > OS RESULTADOS SÃO:\n",
      "====================\n",
      "SILHOUETTE SCORE:  [0.6470469709155162, -0.008104999952236066, 0.5991756060501237, 0.6470469709155162, 0.5991756060501237, 0.6470469709155162]\n",
      "DAVIS-BOULDIN SCORE:  0.8380482490018036\n",
      "CALINSKI-HARABASZ SCORE:  7848.236051058308\n",
      "QUANTIDADE DE GRUPOS: 2\n",
      "====================\n",
      "\n",
      "\n",
      "PARA O QUANTIL < 0.6 > OS RESULTADOS SÃO:\n",
      "====================\n",
      "SILHOUETTE SCORE:  [0.6509502312202577, 0.011485006896757556, 0.6048649191054539, 0.6509502312202577, 0.6048649191054539, 0.6509502312202577]\n",
      "DAVIS-BOULDIN SCORE:  0.8395679711104772\n",
      "CALINSKI-HARABASZ SCORE:  8324.27521262369\n",
      "QUANTIDADE DE GRUPOS: 2\n",
      "====================\n",
      "\n",
      "\n"
     ]
    }
   ],
   "source": [
    "quantis_escolhidos = [0.2, 0.25, 0.3, 0.4, 0.5, 0.6]\n",
    "\n",
    "for quantil in quantis_escolhidos:\n",
    "    bandwidth = estimate_bandwidth(X = df_perfil_hepatico, quantile = quantil, random_state = 42)\n",
    "    meanshift = Meanshift(bandwidth = bandwidth,\n",
    "                          nro_max_iteracoes = 500,\n",
    "                          nro_threads = -1)\n",
    "    meanshift.fit(df_perfil_hepatico)\n",
    "    y_perfil_hepatico = meanshift.fit_predict(df_perfil_hepatico)\n",
    "    \n",
    "    silhouette = []\n",
    "\n",
    "    for metrica in [\"cityblock\", \"cosine\", \"euclidean\", \"l1\", \"l2\", \"manhattan\"]:\n",
    "        silhouette.append(silhouette_score(df_perfil_hepatico, y_perfil_hepatico, metric = metrica))\n",
    "\n",
    "    davies_bouldin = davies_bouldin_score(df_perfil_hepatico, y_perfil_hepatico)\n",
    "    calinski = calinski_harabasz_score(df_perfil_hepatico, y_perfil_hepatico)\n",
    "\n",
    "    print(f\"PARA O QUANTIL < {quantil} > OS RESULTADOS SÃO:\", end = \"\\n\")\n",
    "    print(\"=\" * 20)\n",
    "    print(\"SILHOUETTE SCORE: \", silhouette, end = \"\\n\")\n",
    "    print(\"DAVIS-BOULDIN SCORE: \", davies_bouldin, end = \"\\n\")\n",
    "    print(\"CALINSKI-HARABASZ SCORE: \", calinski, end = \"\\n\")\n",
    "    print(f\"QUANTIDADE DE GRUPOS: {len(np.unique(meanshift.getLabels()))}\")\n",
    "    print(\"=\" * 20, end = \"\\n\\n\\n\")"
   ]
  },
  {
   "cell_type": "markdown",
   "metadata": {},
   "source": [
    "Como podemos notar acima, os melhores parâmetros são:\n",
    "- métrica: qualquer uma, exceto \"cityblock\";\n",
    "- quantil: 0.6;\n",
    "- frequência mínima: 1;\n",
    "- número máximo de iterações: 500;\n",
    "- semente randômica: 42.\n",
    "\n",
    "Com o número de clusteres: 2."
   ]
  },
  {
   "cell_type": "markdown",
   "metadata": {},
   "source": [
    "### DATASET ureia"
   ]
  },
  {
   "cell_type": "markdown",
   "metadata": {},
   "source": [
    "#### Removendo valores outliers do dataset e os substituindo por `np.nan`"
   ]
  },
  {
   "cell_type": "code",
   "execution_count": 3,
   "metadata": {},
   "outputs": [
    {
     "data": {
      "text/plain": [
       "ureia_dia_1    212.0\n",
       "ureia_dia_2    162.0\n",
       "ureia_dia_3    171.0\n",
       "ureia_dia_4    184.0\n",
       "ureia_dia_5    182.0\n",
       "ureia_dia_6    206.0\n",
       "ureia_dia_7    195.0\n",
       "dtype: float64"
      ]
     },
     "execution_count": 3,
     "metadata": {},
     "output_type": "execute_result"
    }
   ],
   "source": [
    "novo_df_ureia_tratado = deletar_valores_absurdos(df_ureia, df_ureia.max().max())\n",
    "novo_df_ureia_tratado.max()"
   ]
  },
  {
   "cell_type": "markdown",
   "metadata": {},
   "source": [
    "#### Iterando pelo dataset e inserindo dados de dias anteriores em dias posteriores que contém dados nulos"
   ]
  },
  {
   "cell_type": "code",
   "execution_count": 4,
   "metadata": {},
   "outputs": [
    {
     "data": {
      "text/html": [
       "<div>\n",
       "<style scoped>\n",
       "    .dataframe tbody tr th:only-of-type {\n",
       "        vertical-align: middle;\n",
       "    }\n",
       "\n",
       "    .dataframe tbody tr th {\n",
       "        vertical-align: top;\n",
       "    }\n",
       "\n",
       "    .dataframe thead th {\n",
       "        text-align: right;\n",
       "    }\n",
       "</style>\n",
       "<table border=\"1\" class=\"dataframe\">\n",
       "  <thead>\n",
       "    <tr style=\"text-align: right;\">\n",
       "      <th></th>\n",
       "      <th>ureia_dia_1</th>\n",
       "      <th>ureia_dia_2</th>\n",
       "      <th>ureia_dia_3</th>\n",
       "      <th>ureia_dia_4</th>\n",
       "      <th>ureia_dia_5</th>\n",
       "      <th>ureia_dia_6</th>\n",
       "      <th>ureia_dia_7</th>\n",
       "    </tr>\n",
       "    <tr>\n",
       "      <th>subject_id</th>\n",
       "      <th></th>\n",
       "      <th></th>\n",
       "      <th></th>\n",
       "      <th></th>\n",
       "      <th></th>\n",
       "      <th></th>\n",
       "      <th></th>\n",
       "    </tr>\n",
       "  </thead>\n",
       "  <tbody>\n",
       "    <tr>\n",
       "      <th>10001884</th>\n",
       "      <td>30.0</td>\n",
       "      <td>30.0</td>\n",
       "      <td>38.0</td>\n",
       "      <td>31.0</td>\n",
       "      <td>26.0</td>\n",
       "      <td>22.0</td>\n",
       "      <td>14.0</td>\n",
       "    </tr>\n",
       "    <tr>\n",
       "      <th>10004422</th>\n",
       "      <td>21.0</td>\n",
       "      <td>13.0</td>\n",
       "      <td>17.0</td>\n",
       "      <td>16.0</td>\n",
       "      <td>20.0</td>\n",
       "      <td>24.0</td>\n",
       "      <td>24.0</td>\n",
       "    </tr>\n",
       "    <tr>\n",
       "      <th>10004733</th>\n",
       "      <td>44.0</td>\n",
       "      <td>41.0</td>\n",
       "      <td>39.0</td>\n",
       "      <td>37.0</td>\n",
       "      <td>28.0</td>\n",
       "      <td>26.0</td>\n",
       "      <td>28.0</td>\n",
       "    </tr>\n",
       "    <tr>\n",
       "      <th>10005606</th>\n",
       "      <td>6.0</td>\n",
       "      <td>6.0</td>\n",
       "      <td>10.0</td>\n",
       "      <td>6.0</td>\n",
       "      <td>11.0</td>\n",
       "      <td>11.0</td>\n",
       "      <td>15.0</td>\n",
       "    </tr>\n",
       "    <tr>\n",
       "      <th>10010867</th>\n",
       "      <td>8.0</td>\n",
       "      <td>5.0</td>\n",
       "      <td>5.0</td>\n",
       "      <td>5.0</td>\n",
       "      <td>6.0</td>\n",
       "      <td>7.0</td>\n",
       "      <td>9.0</td>\n",
       "    </tr>\n",
       "    <tr>\n",
       "      <th>10019777</th>\n",
       "      <td>17.0</td>\n",
       "      <td>22.0</td>\n",
       "      <td>16.0</td>\n",
       "      <td>19.0</td>\n",
       "      <td>18.0</td>\n",
       "      <td>17.0</td>\n",
       "      <td>16.0</td>\n",
       "    </tr>\n",
       "    <tr>\n",
       "      <th>10020944</th>\n",
       "      <td>34.0</td>\n",
       "      <td>28.0</td>\n",
       "      <td>26.0</td>\n",
       "      <td>22.0</td>\n",
       "      <td>21.0</td>\n",
       "      <td>20.0</td>\n",
       "      <td>19.0</td>\n",
       "    </tr>\n",
       "    <tr>\n",
       "      <th>10023486</th>\n",
       "      <td>42.0</td>\n",
       "      <td>48.0</td>\n",
       "      <td>54.0</td>\n",
       "      <td>63.0</td>\n",
       "      <td>68.0</td>\n",
       "      <td>69.0</td>\n",
       "      <td>70.0</td>\n",
       "    </tr>\n",
       "    <tr>\n",
       "      <th>10032381</th>\n",
       "      <td>9.0</td>\n",
       "      <td>9.0</td>\n",
       "      <td>9.0</td>\n",
       "      <td>14.0</td>\n",
       "      <td>21.0</td>\n",
       "      <td>24.0</td>\n",
       "      <td>26.0</td>\n",
       "    </tr>\n",
       "    <tr>\n",
       "      <th>10035747</th>\n",
       "      <td>20.0</td>\n",
       "      <td>16.0</td>\n",
       "      <td>14.0</td>\n",
       "      <td>14.0</td>\n",
       "      <td>19.0</td>\n",
       "      <td>19.0</td>\n",
       "      <td>18.0</td>\n",
       "    </tr>\n",
       "  </tbody>\n",
       "</table>\n",
       "</div>"
      ],
      "text/plain": [
       "            ureia_dia_1  ureia_dia_2  ureia_dia_3  ureia_dia_4  ureia_dia_5  \\\n",
       "subject_id                                                                    \n",
       "10001884           30.0         30.0         38.0         31.0         26.0   \n",
       "10004422           21.0         13.0         17.0         16.0         20.0   \n",
       "10004733           44.0         41.0         39.0         37.0         28.0   \n",
       "10005606            6.0          6.0         10.0          6.0         11.0   \n",
       "10010867            8.0          5.0          5.0          5.0          6.0   \n",
       "10019777           17.0         22.0         16.0         19.0         18.0   \n",
       "10020944           34.0         28.0         26.0         22.0         21.0   \n",
       "10023486           42.0         48.0         54.0         63.0         68.0   \n",
       "10032381            9.0          9.0          9.0         14.0         21.0   \n",
       "10035747           20.0         16.0         14.0         14.0         19.0   \n",
       "\n",
       "            ureia_dia_6  ureia_dia_7  \n",
       "subject_id                            \n",
       "10001884           22.0         14.0  \n",
       "10004422           24.0         24.0  \n",
       "10004733           26.0         28.0  \n",
       "10005606           11.0         15.0  \n",
       "10010867            7.0          9.0  \n",
       "10019777           17.0         16.0  \n",
       "10020944           20.0         19.0  \n",
       "10023486           69.0         70.0  \n",
       "10032381           24.0         26.0  \n",
       "10035747           19.0         18.0  "
      ]
     },
     "execution_count": 4,
     "metadata": {},
     "output_type": "execute_result"
    }
   ],
   "source": [
    "novo_df_ureia_tratado = preencher_valores_faltantes_linha(novo_df_ureia_tratado)\n",
    "novo_df_ureia_tratado.head(10)"
   ]
  },
  {
   "cell_type": "code",
   "execution_count": 5,
   "metadata": {},
   "outputs": [
    {
     "data": {
      "text/plain": [
       "ureia_dia_1    21\n",
       "ureia_dia_2     2\n",
       "ureia_dia_3     5\n",
       "ureia_dia_4     5\n",
       "ureia_dia_5     7\n",
       "ureia_dia_6    12\n",
       "ureia_dia_7    32\n",
       "dtype: int64"
      ]
     },
     "execution_count": 5,
     "metadata": {},
     "output_type": "execute_result"
    }
   ],
   "source": [
    "novo_df_ureia_tratado.isna().sum()"
   ]
  },
  {
   "cell_type": "markdown",
   "metadata": {},
   "source": [
    "#### Deletando linhas que contém valores nulos - mesmo depois da inserção de dados artificiais"
   ]
  },
  {
   "cell_type": "code",
   "execution_count": 11,
   "metadata": {},
   "outputs": [
    {
     "data": {
      "text/plain": [
       "Index([10344732, 10463546, 10477920, 10553635, 10583686, 10615339, 10996857,\n",
       "       11542534, 11611745, 11638303, 11663336, 11833476, 12344021, 12374214,\n",
       "       12606435, 12934260, 13679248, 13681485, 13824877, 13827765, 13911200,\n",
       "       14363068, 14383658, 14623418, 14691603, 14696918, 14785854, 14816630,\n",
       "       15090519, 15158294, 15204620, 15409850, 15455733, 15583807, 15640315,\n",
       "       15763754, 15993533, 16327028, 16832227, 17131210, 17327554, 17484283,\n",
       "       17635990, 17718694, 17803326, 18135694, 18152377, 18213765, 18560897,\n",
       "       18638524, 18757959, 18976063, 19392949, 19571102, 19571265, 19694231],\n",
       "      dtype='int64', name='subject_id')"
      ]
     },
     "execution_count": 11,
     "metadata": {},
     "output_type": "execute_result"
    }
   ],
   "source": [
    "novo_df_ureia_tratado[novo_df_ureia_tratado.isna().any(axis = 1)].index"
   ]
  },
  {
   "cell_type": "code",
   "execution_count": 13,
   "metadata": {},
   "outputs": [
    {
     "data": {
      "text/plain": [
       "0"
      ]
     },
     "execution_count": 13,
     "metadata": {},
     "output_type": "execute_result"
    }
   ],
   "source": [
    "novo_df_ureia_tratado = novo_df_ureia_tratado.dropna(axis = 0)\n",
    "novo_df_ureia_tratado.isna().sum().sum()"
   ]
  },
  {
   "cell_type": "markdown",
   "metadata": {},
   "source": [
    "#### Testando o dataset"
   ]
  },
  {
   "cell_type": "code",
   "execution_count": 14,
   "metadata": {},
   "outputs": [
    {
     "name": "stdout",
     "output_type": "stream",
     "text": [
      "PARA O QUANTIL < 0.2 > OS RESULTADOS SÃO:\n",
      "====================\n",
      "SILHOUETTE SCORE:  [0.3501187052067762, -0.7908135074153225, 0.36335722546221205, 0.3501187052067762, 0.36335722546221205, 0.3501187052067762]\n",
      "DAVIS-BOULDIN SCORE:  0.9252779058828404\n",
      "CALINSKI-HARABASZ SCORE:  257.4793527545113\n",
      "QUANTIDADE DE GRUPOS: 38\n",
      "====================\n",
      "\n",
      "\n",
      "PARA O QUANTIL < 0.25 > OS RESULTADOS SÃO:\n",
      "====================\n",
      "SILHOUETTE SCORE:  [0.42387133969091256, -0.7817387514013644, 0.4239396458445569, 0.42387133969091256, 0.4239396458445569, 0.42387133969091256]\n",
      "DAVIS-BOULDIN SCORE:  1.1192592651480433\n",
      "CALINSKI-HARABASZ SCORE:  283.93565626670755\n",
      "QUANTIDADE DE GRUPOS: 27\n",
      "====================\n",
      "\n",
      "\n",
      "PARA O QUANTIL < 0.3 > OS RESULTADOS SÃO:\n",
      "====================\n",
      "SILHOUETTE SCORE:  [0.44536513846576037, -0.7613535965900691, 0.4715205655617684, 0.44536513846576037, 0.4715205655617684, 0.44536513846576037]\n",
      "DAVIS-BOULDIN SCORE:  0.9504426513215882\n",
      "CALINSKI-HARABASZ SCORE:  297.20444545103874\n",
      "QUANTIDADE DE GRUPOS: 20\n",
      "====================\n",
      "\n",
      "\n",
      "PARA O QUANTIL < 0.4 > OS RESULTADOS SÃO:\n",
      "====================\n",
      "SILHOUETTE SCORE:  [0.40905427539319394, -0.7105289546748877, 0.5001002612226009, 0.40905427539319394, 0.5001002612226009, 0.40905427539319394]\n",
      "DAVIS-BOULDIN SCORE:  1.376344039021711\n",
      "CALINSKI-HARABASZ SCORE:  285.0374551311417\n",
      "QUANTIDADE DE GRUPOS: 10\n",
      "====================\n",
      "\n",
      "\n",
      "PARA O QUANTIL < 0.5 > OS RESULTADOS SÃO:\n",
      "====================\n",
      "SILHOUETTE SCORE:  [0.4400682539751474, -0.4369622413913217, 0.5077577527215441, 0.4400682539751474, 0.5077577527215441, 0.4400682539751474]\n",
      "DAVIS-BOULDIN SCORE:  1.1111329788798652\n",
      "CALINSKI-HARABASZ SCORE:  546.9682107881582\n",
      "QUANTIDADE DE GRUPOS: 5\n",
      "====================\n",
      "\n",
      "\n",
      "PARA O QUANTIL < 0.6 > OS RESULTADOS SÃO:\n",
      "====================\n",
      "SILHOUETTE SCORE:  [0.6829472306055966, -0.2481589648436143, 0.6706086522918171, 0.6829472306055966, 0.6706086522918171, 0.6829472306055966]\n",
      "DAVIS-BOULDIN SCORE:  0.4994504571080698\n",
      "CALINSKI-HARABASZ SCORE:  680.9836654851038\n",
      "QUANTIDADE DE GRUPOS: 2\n",
      "====================\n",
      "\n",
      "\n"
     ]
    }
   ],
   "source": [
    "quantis_escolhidos = [0.2, 0.25, 0.3, 0.4, 0.5, 0.6]\n",
    "\n",
    "for quantil in quantis_escolhidos:\n",
    "    bandwidth = estimate_bandwidth(X = novo_df_ureia_tratado, quantile = quantil, random_state = 42, n_jobs = -1)\n",
    "    meanshift = Meanshift(bandwidth = bandwidth,\n",
    "                          nro_max_iteracoes = 1200,\n",
    "                          nro_threads = -1)\n",
    "    meanshift.fit(novo_df_ureia_tratado)\n",
    "    y_ureia = meanshift.predict(novo_df_ureia_tratado)\n",
    "    \n",
    "    silhouette = []\n",
    "\n",
    "    for metrica in [\"cityblock\", \"cosine\", \"euclidean\", \"l1\", \"l2\", \"manhattan\"]:\n",
    "        silhouette.append(silhouette_score(novo_df_ureia_tratado, y_ureia, metric = metrica))\n",
    "\n",
    "    davies_bouldin = davies_bouldin_score(novo_df_ureia_tratado, y_ureia)\n",
    "    calinski = calinski_harabasz_score(novo_df_ureia_tratado, y_ureia)\n",
    "\n",
    "    print(f\"PARA O QUANTIL < {quantil} > OS RESULTADOS SÃO:\", end = \"\\n\")\n",
    "    print(\"=\" * 20)\n",
    "    print(\"SILHOUETTE SCORE: \", silhouette, end = \"\\n\")\n",
    "    print(\"DAVIS-BOULDIN SCORE: \", davies_bouldin, end = \"\\n\")\n",
    "    print(\"CALINSKI-HARABASZ SCORE: \", calinski, end = \"\\n\")\n",
    "    print(f\"QUANTIDADE DE GRUPOS: {len(np.unique(meanshift.getLabels()))}\")\n",
    "    print(\"=\" * 20, end = \"\\n\\n\\n\")"
   ]
  },
  {
   "cell_type": "markdown",
   "metadata": {},
   "source": [
    "Como podemos notar acima, os melhores parâmetros são:\n",
    "- métrica: l1;\n",
    "- quantil: 0.6;\n",
    "- frequência mínima: 1;\n",
    "- número máximo de iterações: 1200;\n",
    "- semente randômica: 42.\n",
    "\n",
    "Com o número de clusteres: 2."
   ]
  },
  {
   "cell_type": "markdown",
   "metadata": {},
   "source": [
    "### DATASET creatinina"
   ]
  },
  {
   "cell_type": "markdown",
   "metadata": {},
   "source": [
    "#### Removendo valores outliers do dataset e os substituindo por `np.nan`"
   ]
  },
  {
   "cell_type": "code",
   "execution_count": 17,
   "metadata": {},
   "outputs": [
    {
     "data": {
      "text/plain": [
       "creatinina_dia_1    18.5\n",
       "creatinina_dia_2    16.0\n",
       "creatinina_dia_3    15.0\n",
       "creatinina_dia_4    14.6\n",
       "creatinina_dia_5    14.7\n",
       "creatinina_dia_6    15.2\n",
       "creatinina_dia_7    15.6\n",
       "dtype: float64"
      ]
     },
     "execution_count": 17,
     "metadata": {},
     "output_type": "execute_result"
    }
   ],
   "source": [
    "novo_df_creatinina_tratado = deletar_valores_absurdos(df_creatinina, df_creatinina.max().max())\n",
    "novo_df_creatinina_tratado.max()"
   ]
  },
  {
   "cell_type": "markdown",
   "metadata": {},
   "source": [
    "#### Iterando pelo dataset e inserindo dados de dias anteriores em dias posteriores que contém dados nulos"
   ]
  },
  {
   "cell_type": "code",
   "execution_count": 18,
   "metadata": {},
   "outputs": [
    {
     "data": {
      "text/html": [
       "<div>\n",
       "<style scoped>\n",
       "    .dataframe tbody tr th:only-of-type {\n",
       "        vertical-align: middle;\n",
       "    }\n",
       "\n",
       "    .dataframe tbody tr th {\n",
       "        vertical-align: top;\n",
       "    }\n",
       "\n",
       "    .dataframe thead th {\n",
       "        text-align: right;\n",
       "    }\n",
       "</style>\n",
       "<table border=\"1\" class=\"dataframe\">\n",
       "  <thead>\n",
       "    <tr style=\"text-align: right;\">\n",
       "      <th></th>\n",
       "      <th>creatinina_dia_1</th>\n",
       "      <th>creatinina_dia_2</th>\n",
       "      <th>creatinina_dia_3</th>\n",
       "      <th>creatinina_dia_4</th>\n",
       "      <th>creatinina_dia_5</th>\n",
       "      <th>creatinina_dia_6</th>\n",
       "      <th>creatinina_dia_7</th>\n",
       "    </tr>\n",
       "    <tr>\n",
       "      <th>subject_id</th>\n",
       "      <th></th>\n",
       "      <th></th>\n",
       "      <th></th>\n",
       "      <th></th>\n",
       "      <th></th>\n",
       "      <th></th>\n",
       "      <th></th>\n",
       "    </tr>\n",
       "  </thead>\n",
       "  <tbody>\n",
       "    <tr>\n",
       "      <th>10001884</th>\n",
       "      <td>1.1</td>\n",
       "      <td>1.1</td>\n",
       "      <td>1.3</td>\n",
       "      <td>0.9</td>\n",
       "      <td>0.8</td>\n",
       "      <td>0.6</td>\n",
       "      <td>0.5</td>\n",
       "    </tr>\n",
       "    <tr>\n",
       "      <th>10004422</th>\n",
       "      <td>0.7</td>\n",
       "      <td>0.7</td>\n",
       "      <td>0.7</td>\n",
       "      <td>0.6</td>\n",
       "      <td>0.6</td>\n",
       "      <td>0.7</td>\n",
       "      <td>0.7</td>\n",
       "    </tr>\n",
       "    <tr>\n",
       "      <th>10004733</th>\n",
       "      <td>3.4</td>\n",
       "      <td>3.8</td>\n",
       "      <td>3.7</td>\n",
       "      <td>3.4</td>\n",
       "      <td>2.6</td>\n",
       "      <td>2.6</td>\n",
       "      <td>2.7</td>\n",
       "    </tr>\n",
       "    <tr>\n",
       "      <th>10005606</th>\n",
       "      <td>0.7</td>\n",
       "      <td>0.6</td>\n",
       "      <td>0.5</td>\n",
       "      <td>0.4</td>\n",
       "      <td>0.5</td>\n",
       "      <td>0.5</td>\n",
       "      <td>0.5</td>\n",
       "    </tr>\n",
       "    <tr>\n",
       "      <th>10010867</th>\n",
       "      <td>0.7</td>\n",
       "      <td>0.7</td>\n",
       "      <td>0.5</td>\n",
       "      <td>0.3</td>\n",
       "      <td>0.4</td>\n",
       "      <td>0.5</td>\n",
       "      <td>0.5</td>\n",
       "    </tr>\n",
       "    <tr>\n",
       "      <th>10019777</th>\n",
       "      <td>0.9</td>\n",
       "      <td>0.7</td>\n",
       "      <td>0.9</td>\n",
       "      <td>0.8</td>\n",
       "      <td>0.7</td>\n",
       "      <td>0.6</td>\n",
       "      <td>0.5</td>\n",
       "    </tr>\n",
       "    <tr>\n",
       "      <th>10020944</th>\n",
       "      <td>1.4</td>\n",
       "      <td>1.6</td>\n",
       "      <td>1.8</td>\n",
       "      <td>1.6</td>\n",
       "      <td>1.5</td>\n",
       "      <td>1.8</td>\n",
       "      <td>1.6</td>\n",
       "    </tr>\n",
       "    <tr>\n",
       "      <th>10023486</th>\n",
       "      <td>3.1</td>\n",
       "      <td>3.4</td>\n",
       "      <td>3.2</td>\n",
       "      <td>3.4</td>\n",
       "      <td>2.8</td>\n",
       "      <td>2.2</td>\n",
       "      <td>1.9</td>\n",
       "    </tr>\n",
       "    <tr>\n",
       "      <th>10032381</th>\n",
       "      <td>1.3</td>\n",
       "      <td>1.2</td>\n",
       "      <td>1.2</td>\n",
       "      <td>1.2</td>\n",
       "      <td>1.2</td>\n",
       "      <td>1.2</td>\n",
       "      <td>1.2</td>\n",
       "    </tr>\n",
       "    <tr>\n",
       "      <th>10035747</th>\n",
       "      <td>1.1</td>\n",
       "      <td>1.1</td>\n",
       "      <td>0.9</td>\n",
       "      <td>0.9</td>\n",
       "      <td>1.0</td>\n",
       "      <td>0.9</td>\n",
       "      <td>0.9</td>\n",
       "    </tr>\n",
       "  </tbody>\n",
       "</table>\n",
       "</div>"
      ],
      "text/plain": [
       "            creatinina_dia_1  creatinina_dia_2  creatinina_dia_3  \\\n",
       "subject_id                                                         \n",
       "10001884                 1.1               1.1               1.3   \n",
       "10004422                 0.7               0.7               0.7   \n",
       "10004733                 3.4               3.8               3.7   \n",
       "10005606                 0.7               0.6               0.5   \n",
       "10010867                 0.7               0.7               0.5   \n",
       "10019777                 0.9               0.7               0.9   \n",
       "10020944                 1.4               1.6               1.8   \n",
       "10023486                 3.1               3.4               3.2   \n",
       "10032381                 1.3               1.2               1.2   \n",
       "10035747                 1.1               1.1               0.9   \n",
       "\n",
       "            creatinina_dia_4  creatinina_dia_5  creatinina_dia_6  \\\n",
       "subject_id                                                         \n",
       "10001884                 0.9               0.8               0.6   \n",
       "10004422                 0.6               0.6               0.7   \n",
       "10004733                 3.4               2.6               2.6   \n",
       "10005606                 0.4               0.5               0.5   \n",
       "10010867                 0.3               0.4               0.5   \n",
       "10019777                 0.8               0.7               0.6   \n",
       "10020944                 1.6               1.5               1.8   \n",
       "10023486                 3.4               2.8               2.2   \n",
       "10032381                 1.2               1.2               1.2   \n",
       "10035747                 0.9               1.0               0.9   \n",
       "\n",
       "            creatinina_dia_7  \n",
       "subject_id                    \n",
       "10001884                 0.5  \n",
       "10004422                 0.7  \n",
       "10004733                 2.7  \n",
       "10005606                 0.5  \n",
       "10010867                 0.5  \n",
       "10019777                 0.5  \n",
       "10020944                 1.6  \n",
       "10023486                 1.9  \n",
       "10032381                 1.2  \n",
       "10035747                 0.9  "
      ]
     },
     "execution_count": 18,
     "metadata": {},
     "output_type": "execute_result"
    }
   ],
   "source": [
    "novo_df_creatinina_tratado = preencher_valores_faltantes_linha(novo_df_creatinina_tratado)\n",
    "novo_df_creatinina_tratado.head(10)"
   ]
  },
  {
   "cell_type": "code",
   "execution_count": 19,
   "metadata": {},
   "outputs": [
    {
     "data": {
      "text/plain": [
       "creatinina_dia_1    18\n",
       "creatinina_dia_2     2\n",
       "creatinina_dia_3     5\n",
       "creatinina_dia_4     5\n",
       "creatinina_dia_5     7\n",
       "creatinina_dia_6    12\n",
       "creatinina_dia_7    33\n",
       "dtype: int64"
      ]
     },
     "execution_count": 19,
     "metadata": {},
     "output_type": "execute_result"
    }
   ],
   "source": [
    "novo_df_creatinina_tratado.isna().sum()"
   ]
  },
  {
   "cell_type": "markdown",
   "metadata": {},
   "source": [
    "#### Deletando linhas que contém valores nulos - mesmo depois da inserção de dados artificiais"
   ]
  },
  {
   "cell_type": "code",
   "execution_count": 20,
   "metadata": {},
   "outputs": [
    {
     "data": {
      "text/plain": [
       "Index([10344732, 10463546, 10477920, 10553635, 10615339, 10996857, 11542534,\n",
       "       11611745, 11638303, 11663336, 11833476, 12344021, 12374214, 12606435,\n",
       "       12917345, 12934260, 13679248, 13681485, 13824877, 13827765, 13911200,\n",
       "       14363068, 14383658, 14623418, 14691603, 14696918, 14785854, 14816630,\n",
       "       15090519, 15158294, 15204620, 15409850, 15455733, 15583807, 15640315,\n",
       "       15763754, 15993533, 16327028, 16832227, 17131210, 17327554, 17484283,\n",
       "       17635990, 17718694, 17803326, 17963938, 18135694, 18152377, 18560897,\n",
       "       18638524, 18757959, 19571102, 19571265, 19694231],\n",
       "      dtype='int64', name='subject_id')"
      ]
     },
     "execution_count": 20,
     "metadata": {},
     "output_type": "execute_result"
    }
   ],
   "source": [
    "novo_df_creatinina_tratado[novo_df_creatinina_tratado.isna().any(axis = 1)].index"
   ]
  },
  {
   "cell_type": "code",
   "execution_count": 21,
   "metadata": {},
   "outputs": [
    {
     "data": {
      "text/plain": [
       "0"
      ]
     },
     "execution_count": 21,
     "metadata": {},
     "output_type": "execute_result"
    }
   ],
   "source": [
    "novo_df_creatinina_tratado = novo_df_creatinina_tratado.dropna(axis = 0)\n",
    "novo_df_creatinina_tratado.isna().sum().sum()"
   ]
  },
  {
   "cell_type": "markdown",
   "metadata": {},
   "source": [
    "#### Testando o dataset"
   ]
  },
  {
   "cell_type": "code",
   "execution_count": 24,
   "metadata": {},
   "outputs": [
    {
     "name": "stdout",
     "output_type": "stream",
     "text": [
      "PARA O QUANTIL < 0.2 > OS RESULTADOS SÃO:\n",
      "====================\n",
      "SILHOUETTE SCORE:  [0.4730360482581453, -0.8061576422166221, 0.4841037330338197, 0.4730360482581453, 0.4841037330338197, 0.4730360482581453]\n",
      "DAVIS-BOULDIN SCORE:  0.6957417492883807\n",
      "CALINSKI-HARABASZ SCORE:  172.5696658895079\n",
      "QUANTIDADE DE GRUPOS: 106\n",
      "====================\n",
      "\n",
      "\n",
      "PARA O QUANTIL < 0.25 > OS RESULTADOS SÃO:\n",
      "====================\n",
      "SILHOUETTE SCORE:  [0.4947405065769635, -0.7997224462605007, 0.49542664296485983, 0.4947405065769635, 0.49542664296485983, 0.4947405065769635]\n",
      "DAVIS-BOULDIN SCORE:  0.7156134314371138\n",
      "CALINSKI-HARABASZ SCORE:  208.3856170877336\n",
      "QUANTIDADE DE GRUPOS: 84\n",
      "====================\n",
      "\n",
      "\n",
      "PARA O QUANTIL < 0.3 > OS RESULTADOS SÃO:\n",
      "====================\n",
      "SILHOUETTE SCORE:  [0.5021075343189514, -0.78849429478645, 0.5030791407470235, 0.5021075343189514, 0.5030791407470235, 0.5021075343189514]\n",
      "DAVIS-BOULDIN SCORE:  0.7386802735785525\n",
      "CALINSKI-HARABASZ SCORE:  225.67775392689506\n",
      "QUANTIDADE DE GRUPOS: 75\n",
      "====================\n",
      "\n",
      "\n",
      "PARA O QUANTIL < 0.4 > OS RESULTADOS SÃO:\n",
      "====================\n",
      "SILHOUETTE SCORE:  [0.5528931659702135, -0.7918165768527415, 0.5546415512176286, 0.5528931659702135, 0.5546415512176286, 0.5528931659702135]\n",
      "DAVIS-BOULDIN SCORE:  0.7200865046105127\n",
      "CALINSKI-HARABASZ SCORE:  259.479591182659\n",
      "QUANTIDADE DE GRUPOS: 57\n",
      "====================\n",
      "\n",
      "\n",
      "PARA O QUANTIL < 0.5 > OS RESULTADOS SÃO:\n",
      "====================\n",
      "SILHOUETTE SCORE:  [0.5657186351838233, -0.7819369249956739, 0.6032534707048814, 0.5657186351838233, 0.6032534707048814, 0.5657186351838233]\n",
      "DAVIS-BOULDIN SCORE:  0.9079201868811223\n",
      "CALINSKI-HARABASZ SCORE:  209.54344017620156\n",
      "QUANTIDADE DE GRUPOS: 36\n",
      "====================\n",
      "\n",
      "\n",
      "PARA O QUANTIL < 0.6 > OS RESULTADOS SÃO:\n",
      "====================\n",
      "SILHOUETTE SCORE:  [0.5662537590277803, -0.7819736128600281, 0.6074594727578537, 0.5662537590277803, 0.6074594727578537, 0.5662537590277803]\n",
      "DAVIS-BOULDIN SCORE:  0.8318736780865467\n",
      "CALINSKI-HARABASZ SCORE:  230.6414303658419\n",
      "QUANTIDADE DE GRUPOS: 30\n",
      "====================\n",
      "\n",
      "\n"
     ]
    }
   ],
   "source": [
    "quantis_escolhidos = [0.2, 0.25, 0.3, 0.4, 0.5, 0.6]\n",
    "\n",
    "for quantil in quantis_escolhidos:\n",
    "    bandwidth = estimate_bandwidth(X = novo_df_creatinina_tratado, quantile = quantil, random_state = 42, n_jobs = -1)\n",
    "    meanshift = Meanshift(bandwidth = bandwidth,\n",
    "                          nro_max_iteracoes = 1200,\n",
    "                          nro_threads = -1)\n",
    "    meanshift.fit(novo_df_creatinina_tratado)\n",
    "    y_creatinina = meanshift.predict(novo_df_creatinina_tratado)\n",
    "    \n",
    "    silhouette = []\n",
    "\n",
    "    for metrica in [\"cityblock\", \"cosine\", \"euclidean\", \"l1\", \"l2\", \"manhattan\"]:\n",
    "        silhouette.append(silhouette_score(novo_df_creatinina_tratado, y_creatinina, metric = metrica))\n",
    "\n",
    "    davies_bouldin = davies_bouldin_score(novo_df_creatinina_tratado, y_creatinina)\n",
    "    calinski = calinski_harabasz_score(novo_df_creatinina_tratado, y_creatinina)\n",
    "\n",
    "    print(f\"PARA O QUANTIL < {quantil} > OS RESULTADOS SÃO:\", end = \"\\n\")\n",
    "    print(\"=\" * 20)\n",
    "    print(\"SILHOUETTE SCORE: \", silhouette, end = \"\\n\")\n",
    "    print(\"DAVIS-BOULDIN SCORE: \", davies_bouldin, end = \"\\n\")\n",
    "    print(\"CALINSKI-HARABASZ SCORE: \", calinski, end = \"\\n\")\n",
    "    print(f\"QUANTIDADE DE GRUPOS: {len(np.unique(meanshift.getLabels()))}\")\n",
    "    print(\"=\" * 20, end = \"\\n\\n\\n\")"
   ]
  },
  {
   "cell_type": "markdown",
   "metadata": {},
   "source": [
    "Como podemos notar acima, os melhores parâmetros são:\n",
    "- métrica: l2;\n",
    "- quantil: 0.6;\n",
    "- frequência mínima: 1;\n",
    "- número máximo de iterações: 1200;\n",
    "- semente randômica: 42.\n",
    "\n",
    "Com o número de clusteres: 30."
   ]
  },
  {
   "cell_type": "markdown",
   "metadata": {},
   "source": [
    "## Implementação do Algoritmo"
   ]
  },
  {
   "cell_type": "markdown",
   "metadata": {},
   "source": [
    "### DATASET Funcao Renal"
   ]
  },
  {
   "cell_type": "markdown",
   "metadata": {},
   "source": [
    "#### Recebendo os hiper-parâmetros testados acima"
   ]
  },
  {
   "cell_type": "code",
   "execution_count": 25,
   "metadata": {},
   "outputs": [],
   "source": [
    "hiperparametros_meanshift = ParametrosMeanshift(path_arquivo_hiperparametros = \"./hiperparametros/hiperparametros_meanshift.txt\", nome_dataset = \"funcao_renal\")"
   ]
  },
  {
   "cell_type": "markdown",
   "metadata": {},
   "source": [
    "#### Criando o modelo - seguindo o resultado alcançado nos testes acima"
   ]
  },
  {
   "cell_type": "code",
   "execution_count": 35,
   "metadata": {},
   "outputs": [],
   "source": [
    "bandwidth = estimate_bandwidth(X = df_funcao_renal.values,\n",
    "                               quantile = hiperparametros_meanshift.getQuantil(),\n",
    "                               random_state = hiperparametros_meanshift.getSemente_randomica(),\n",
    "                               n_jobs = -1)\n",
    "\n",
    "meanshift_funcao_renal = Meanshift(bandwidth = bandwidth,\n",
    "                                   usar_versao_discreta_pontos = hiperparametros_meanshift.getUsar_versao_discreta_pontos(),\n",
    "                                   frequencia_minima = hiperparametros_meanshift.getFrequencia_minima(),\n",
    "                                   clusterizar_todos_pontos = hiperparametros_meanshift.getClusterizar_todos_pontos(),\n",
    "                                   nro_threads = hiperparametros_meanshift.getNro_threads(),\n",
    "                                   nro_max_iteracoes = hiperparametros_meanshift.getNro_max_iteracoes())\n",
    "\n",
    "meanshift_funcao_renal.fit(df_funcao_renal.values)\n",
    "y_funcao_renal = meanshift_funcao_renal.fit_predict(df_funcao_renal.values)"
   ]
  },
  {
   "cell_type": "markdown",
   "metadata": {},
   "source": [
    "##### Verificando resultados do modelo"
   ]
  },
  {
   "cell_type": "code",
   "execution_count": 36,
   "metadata": {},
   "outputs": [
    {
     "name": "stdout",
     "output_type": "stream",
     "text": [
      "SILHOUETTE SCORE:  0.878551043460099\n",
      "DAVIS-BOULDIN SCORE:  0.6012694218729446\n",
      "CALINSKI-HARABASZ SCORE:  36249.40726125835\n"
     ]
    }
   ],
   "source": [
    "silhouette = silhouette_score(df_funcao_renal.values, y_funcao_renal, metric = \"cityblock\")\n",
    "davies_bouldin = davies_bouldin_score(df_funcao_renal.values, y_funcao_renal)\n",
    "calinski = calinski_harabasz_score(df_funcao_renal.values, y_funcao_renal)\n",
    "\n",
    "print(\"SILHOUETTE SCORE: \", silhouette, end = \"\\n\")\n",
    "print(\"DAVIS-BOULDIN SCORE: \", davies_bouldin, end = \"\\n\")\n",
    "print(\"CALINSKI-HARABASZ SCORE: \", calinski, end = \"\\n\")"
   ]
  },
  {
   "cell_type": "markdown",
   "metadata": {},
   "source": [
    "##### Quantidade de grupos gerado"
   ]
  },
  {
   "cell_type": "code",
   "execution_count": 37,
   "metadata": {},
   "outputs": [
    {
     "name": "stdout",
     "output_type": "stream",
     "text": [
      "Quantidade de Grupos: 16\n"
     ]
    }
   ],
   "source": [
    "print(\"Quantidade de Grupos:\", len(np.unique(y_funcao_renal)))"
   ]
  },
  {
   "cell_type": "markdown",
   "metadata": {},
   "source": [
    "##### Versão Gráfica"
   ]
  },
  {
   "cell_type": "code",
   "execution_count": 38,
   "metadata": {},
   "outputs": [
    {
     "data": {
      "image/png": "[encoded data removed]",
      "text/plain": [
       "<Figure size 1200x900 with 1 Axes>"
      ]
     },
     "metadata": {},
     "output_type": "display_data"
    }
   ],
   "source": [
    "plt.figure(figsize = (12, 9))\n",
    "\n",
    "### OS PONTOS GERAIS\n",
    "plt.scatter(df_funcao_renal.values[y_funcao_renal == 0, 0], df_funcao_renal.values[y_funcao_renal == 0, 1], s = 100, c = \"red\", label = \"GRUPO-1\")\n",
    "plt.scatter(df_funcao_renal.values[y_funcao_renal == 1, 0], df_funcao_renal.values[y_funcao_renal == 1, 1], s = 100, c = \"green\", label = \"GRUPO-2\")\n",
    "plt.scatter(df_funcao_renal.values[y_funcao_renal == 2, 0], df_funcao_renal.values[y_funcao_renal == 2, 1], s = 100, c = \"blue\", label = \"GRUPO-3\")\n",
    "plt.scatter(df_funcao_renal.values[y_funcao_renal == 3, 0], df_funcao_renal.values[y_funcao_renal == 3, 1], s = 100, c = \"pink\", label = \"GRUPO-4\")\n",
    "plt.scatter(df_funcao_renal.values[y_funcao_renal == 4, 0], df_funcao_renal.values[y_funcao_renal == 4, 1], s = 100, c = \"yellow\", label = \"GRUPO-5\")\n",
    "\n",
    "### OS CENTROIDES\n",
    "plt.scatter(meanshift_funcao_renal.getCentroides()[:, 0], meanshift_funcao_renal.getCentroides()[:, 1], s = 100, c = \"black\", label = \"Centroides\")\n",
    "\n",
    "plt.legend()\n",
    "plt.show()"
   ]
  },
  {
   "cell_type": "markdown",
   "metadata": {},
   "source": [
    "### DATASET Dieta Grupos"
   ]
  },
  {
   "cell_type": "markdown",
   "metadata": {},
   "source": [
    "#### Recebendo os hiper-parâmetros testados acima"
   ]
  },
  {
   "cell_type": "code",
   "execution_count": 39,
   "metadata": {},
   "outputs": [],
   "source": [
    "hiperparametros_meanshift = ParametrosMeanshift(path_arquivo_hiperparametros = \"./hiperparametros/hiperparametros_meanshift.txt\", nome_dataset = \"dieta_grupos\")"
   ]
  },
  {
   "cell_type": "markdown",
   "metadata": {},
   "source": [
    "#### Criando o modelo - seguindo o resultado alcançado nos testes acima"
   ]
  },
  {
   "cell_type": "code",
   "execution_count": 40,
   "metadata": {},
   "outputs": [],
   "source": [
    "bandwidth = estimate_bandwidth(X = df_dieta_grupos.values,\n",
    "                               quantile = hiperparametros_meanshift.getQuantil(),\n",
    "                               random_state = hiperparametros_meanshift.getSemente_randomica(),\n",
    "                               n_jobs = -1)\n",
    "\n",
    "meanshift_dieta_grupos = Meanshift(bandwidth = bandwidth,\n",
    "                                   usar_versao_discreta_pontos = hiperparametros_meanshift.getUsar_versao_discreta_pontos(),\n",
    "                                   frequencia_minima = hiperparametros_meanshift.getFrequencia_minima(),\n",
    "                                   clusterizar_todos_pontos = hiperparametros_meanshift.getClusterizar_todos_pontos(),\n",
    "                                   nro_threads = hiperparametros_meanshift.getNro_threads(),\n",
    "                                   nro_max_iteracoes = hiperparametros_meanshift.getNro_max_iteracoes())\n",
    "\n",
    "meanshift_dieta_grupos.fit(df_dieta_grupos.values)\n",
    "y_dieta_grupos = meanshift_dieta_grupos.fit_predict(df_dieta_grupos.values)"
   ]
  },
  {
   "cell_type": "markdown",
   "metadata": {},
   "source": [
    "##### Verificando resultados do modelo"
   ]
  },
  {
   "cell_type": "code",
   "execution_count": 41,
   "metadata": {},
   "outputs": [
    {
     "name": "stdout",
     "output_type": "stream",
     "text": [
      "SILHOUETTE SCORE:  0.6363630240666491\n",
      "DAVIS-BOULDIN SCORE:  0.9513520035275501\n",
      "CALINSKI-HARABASZ SCORE:  45.338656719227124\n"
     ]
    }
   ],
   "source": [
    "silhouette = silhouette_score(df_dieta_grupos.values, y_dieta_grupos, metric = \"euclidean\")\n",
    "davies_bouldin = davies_bouldin_score(df_dieta_grupos.values, y_dieta_grupos)\n",
    "calinski = calinski_harabasz_score(df_dieta_grupos.values, y_dieta_grupos)\n",
    "\n",
    "print(\"SILHOUETTE SCORE: \", silhouette, end = \"\\n\")\n",
    "print(\"DAVIS-BOULDIN SCORE: \", davies_bouldin, end = \"\\n\")\n",
    "print(\"CALINSKI-HARABASZ SCORE: \", calinski, end = \"\\n\")"
   ]
  },
  {
   "cell_type": "markdown",
   "metadata": {},
   "source": [
    "##### Quantidade de grupos gerado"
   ]
  },
  {
   "cell_type": "code",
   "execution_count": 42,
   "metadata": {},
   "outputs": [
    {
     "name": "stdout",
     "output_type": "stream",
     "text": [
      "Quantidade de Grupos: 4\n"
     ]
    }
   ],
   "source": [
    "print(\"Quantidade de Grupos:\", len(np.unique(y_dieta_grupos)))"
   ]
  },
  {
   "cell_type": "markdown",
   "metadata": {},
   "source": [
    "##### Versão Gráfica"
   ]
  },
  {
   "cell_type": "code",
   "execution_count": 44,
   "metadata": {},
   "outputs": [
    {
     "data": {
      "image/png": "[encoded data removed]",
      "text/plain": [
       "<Figure size 1200x900 with 1 Axes>"
      ]
     },
     "metadata": {},
     "output_type": "display_data"
    }
   ],
   "source": [
    "plt.figure(figsize = (12, 9))\n",
    "\n",
    "### OS PONTOS GERAIS\n",
    "plt.scatter(df_dieta_grupos.values[y_dieta_grupos == 0, 0], df_dieta_grupos.values[y_dieta_grupos == 0, 1], s = 100, c = \"red\", label = \"GRUPO-1\")\n",
    "plt.scatter(df_dieta_grupos.values[y_dieta_grupos == 1, 0], df_dieta_grupos.values[y_dieta_grupos == 1, 1], s = 100, c = \"green\", label = \"GRUPO-2\")\n",
    "plt.scatter(df_dieta_grupos.values[y_dieta_grupos == 2, 0], df_dieta_grupos.values[y_dieta_grupos == 2, 1], s = 100, c = \"blue\", label = \"GRUPO-3\")\n",
    "plt.scatter(df_dieta_grupos.values[y_dieta_grupos == 3, 0], df_dieta_grupos.values[y_dieta_grupos == 3, 1], s = 100, c = \"pink\", label = \"GRUPO-4\")\n",
    "\n",
    "### OS CENTROIDES\n",
    "plt.scatter(meanshift_dieta_grupos.getCentroides()[:, 0], meanshift_dieta_grupos.getCentroides()[:, 1], s = 100, c = \"black\", label = \"Centroides\")\n",
    "\n",
    "plt.legend()\n",
    "plt.show()"
   ]
  },
  {
   "cell_type": "markdown",
   "metadata": {},
   "source": [
    "### DATASET Perfil Hepatico"
   ]
  },
  {
   "cell_type": "markdown",
   "metadata": {},
   "source": [
    "#### Recebendo os hiper-parâmetros testados acima"
   ]
  },
  {
   "cell_type": "code",
   "execution_count": 45,
   "metadata": {},
   "outputs": [],
   "source": [
    "hiperparametros_meanshift = ParametrosMeanshift(path_arquivo_hiperparametros = \"./hiperparametros/hiperparametros_meanshift.txt\", nome_dataset = \"perfil_hepatico\")"
   ]
  },
  {
   "cell_type": "markdown",
   "metadata": {},
   "source": [
    "#### Criando o modelo - seguindo o resultado alcançado nos testes acima"
   ]
  },
  {
   "cell_type": "code",
   "execution_count": 46,
   "metadata": {},
   "outputs": [],
   "source": [
    "bandwidth = estimate_bandwidth(X = df_perfil_hepatico,\n",
    "                               quantile = hiperparametros_meanshift.getQuantil(),\n",
    "                               random_state = hiperparametros_meanshift.getSemente_randomica(),\n",
    "                               n_jobs = -1)\n",
    "\n",
    "meanshift_perfil_hepatico = Meanshift(bandwidth = bandwidth,\n",
    "                                      usar_versao_discreta_pontos = hiperparametros_meanshift.getUsar_versao_discreta_pontos(),\n",
    "                                      frequencia_minima = hiperparametros_meanshift.getFrequencia_minima(),\n",
    "                                      clusterizar_todos_pontos = hiperparametros_meanshift.getClusterizar_todos_pontos(),\n",
    "                                      nro_threads = hiperparametros_meanshift.getNro_threads(),\n",
    "                                      nro_max_iteracoes = hiperparametros_meanshift.getNro_max_iteracoes())\n",
    "\n",
    "meanshift_perfil_hepatico.fit(df_perfil_hepatico.values)\n",
    "y_perfil_hepatico = meanshift_perfil_hepatico.fit_predict(df_perfil_hepatico.values)"
   ]
  },
  {
   "cell_type": "markdown",
   "metadata": {},
   "source": [
    "##### Verificando resultados do modelo"
   ]
  },
  {
   "cell_type": "code",
   "execution_count": 47,
   "metadata": {},
   "outputs": [
    {
     "name": "stdout",
     "output_type": "stream",
     "text": [
      "SILHOUETTE SCORE:  0.6509502312202577\n",
      "DAVIS-BOULDIN SCORE:  0.8395679711104772\n",
      "CALINSKI-HARABASZ SCORE:  8324.27521262369\n"
     ]
    }
   ],
   "source": [
    "silhouette = silhouette_score(df_perfil_hepatico.values, y_perfil_hepatico, metric = \"cityblock\")\n",
    "davies_bouldin = davies_bouldin_score(df_perfil_hepatico.values, y_perfil_hepatico)\n",
    "calinski = calinski_harabasz_score(df_perfil_hepatico.values, y_perfil_hepatico)\n",
    "\n",
    "print(\"SILHOUETTE SCORE: \", silhouette, end = \"\\n\")\n",
    "print(\"DAVIS-BOULDIN SCORE: \", davies_bouldin, end = \"\\n\")\n",
    "print(\"CALINSKI-HARABASZ SCORE: \", calinski, end = \"\\n\")"
   ]
  },
  {
   "cell_type": "markdown",
   "metadata": {},
   "source": [
    "##### Quantidade de grupos gerado"
   ]
  },
  {
   "cell_type": "code",
   "execution_count": 48,
   "metadata": {},
   "outputs": [
    {
     "name": "stdout",
     "output_type": "stream",
     "text": [
      "Quantidade de Grupos: 2\n"
     ]
    }
   ],
   "source": [
    "print(\"Quantidade de Grupos:\", len(np.unique(y_perfil_hepatico)))"
   ]
  },
  {
   "cell_type": "markdown",
   "metadata": {},
   "source": [
    "##### Versão Gráfica"
   ]
  },
  {
   "cell_type": "code",
   "execution_count": 49,
   "metadata": {},
   "outputs": [
    {
     "data": {
      "image/png": "[encoded data removed]",
      "text/plain": [
       "<Figure size 1200x900 with 1 Axes>"
      ]
     },
     "metadata": {},
     "output_type": "display_data"
    }
   ],
   "source": [
    "plt.figure(figsize = (12, 9))\n",
    "\n",
    "### OS PONTOS GERAIS\n",
    "plt.scatter(df_perfil_hepatico.values[y_perfil_hepatico == 0, 0], df_perfil_hepatico.values[y_perfil_hepatico == 0, 1], s = 100, c = \"red\", label = \"GRUPO-1\")\n",
    "plt.scatter(df_perfil_hepatico.values[y_perfil_hepatico == 1, 0], df_perfil_hepatico.values[y_perfil_hepatico == 1, 1], s = 100, c = \"green\", label = \"GRUPO-2\")\n",
    "\n",
    "### OS CENTROIDES\n",
    "plt.scatter(meanshift_perfil_hepatico.getCentroides()[:, 0], meanshift_perfil_hepatico.getCentroides()[:, 1], s = 100, c = \"black\", label = \"Centroides\")\n",
    "\n",
    "plt.legend()\n",
    "plt.show()"
   ]
  },
  {
   "cell_type": "markdown",
   "metadata": {},
   "source": [
    "### DATASET ureia"
   ]
  },
  {
   "cell_type": "markdown",
   "metadata": {},
   "source": [
    "#### Recebendo os hiper-parâmetros testados acima"
   ]
  },
  {
   "cell_type": "code",
   "execution_count": 37,
   "metadata": {},
   "outputs": [],
   "source": [
    "hiperparametros_meanshift = ParametrosMeanshift(path_arquivo_hiperparametros = \"./hiperparametros/hiperparametros_meanshift.txt\", nome_dataset = \"ureia\")"
   ]
  },
  {
   "cell_type": "markdown",
   "metadata": {},
   "source": [
    "#### Criando o modelo - seguindo o resultado alcançado nos testes acima"
   ]
  },
  {
   "cell_type": "code",
   "execution_count": 38,
   "metadata": {},
   "outputs": [],
   "source": [
    "bandwidth = estimate_bandwidth(X = novo_df_ureia_tratado,\n",
    "                               quantile = hiperparametros_meanshift.getQuantil(),\n",
    "                               random_state = hiperparametros_meanshift.getSemente_randomica(),\n",
    "                               n_jobs = -1)\n",
    "\n",
    "meanshift_ureia = Meanshift(bandwidth = bandwidth,\n",
    "                            usar_versao_discreta_pontos = hiperparametros_meanshift.getUsar_versao_discreta_pontos(),\n",
    "                            frequencia_minima = hiperparametros_meanshift.getFrequencia_minima(),\n",
    "                            clusterizar_todos_pontos = hiperparametros_meanshift.getClusterizar_todos_pontos(),\n",
    "                            nro_threads = hiperparametros_meanshift.getNro_threads(),\n",
    "                            nro_max_iteracoes = hiperparametros_meanshift.getNro_max_iteracoes())\n",
    "\n",
    "meanshift_ureia.fit(novo_df_ureia_tratado)\n",
    "y_ureia = meanshift_ureia.predict(novo_df_ureia_tratado)"
   ]
  },
  {
   "cell_type": "markdown",
   "metadata": {},
   "source": [
    "##### Verificando resultados do modelo"
   ]
  },
  {
   "cell_type": "code",
   "execution_count": 39,
   "metadata": {},
   "outputs": [
    {
     "name": "stdout",
     "output_type": "stream",
     "text": [
      "SILHOUETTE SCORE:  0.6829472306055966\n",
      "DAVIS-BOULDIN SCORE:  0.4994504571080698\n",
      "CALINSKI-HARABASZ SCORE:  680.9836654851038\n"
     ]
    }
   ],
   "source": [
    "if len(np.unique(meanshift_ureia.getLabels())) > 1:\n",
    "    silhouette = silhouette_score(novo_df_ureia_tratado, y_ureia, metric = \"cityblock\")\n",
    "    davies_bouldin = davies_bouldin_score(novo_df_ureia_tratado, y_ureia)\n",
    "    calinski = calinski_harabasz_score(novo_df_ureia_tratado, y_ureia)\n",
    "\n",
    "    print(\"SILHOUETTE SCORE: \", silhouette, end = \"\\n\")\n",
    "    print(\"DAVIS-BOULDIN SCORE: \", davies_bouldin, end = \"\\n\")\n",
    "    print(\"CALINSKI-HARABASZ SCORE: \", calinski, end = \"\\n\")"
   ]
  },
  {
   "cell_type": "markdown",
   "metadata": {},
   "source": [
    "##### Quantidade de grupos gerado"
   ]
  },
  {
   "cell_type": "code",
   "execution_count": 40,
   "metadata": {},
   "outputs": [
    {
     "name": "stdout",
     "output_type": "stream",
     "text": [
      "Quantidade de Grupos: 2\n"
     ]
    }
   ],
   "source": [
    "print(\"Quantidade de Grupos:\", len(np.unique(y_ureia)))"
   ]
  },
  {
   "cell_type": "markdown",
   "metadata": {},
   "source": [
    "##### Versão Gráfica"
   ]
  },
  {
   "cell_type": "code",
   "execution_count": 41,
   "metadata": {},
   "outputs": [
    {
     "data": {
      "image/png": "[encoded data removed]",
      "text/plain": [
       "<Figure size 1200x900 with 1 Axes>"
      ]
     },
     "metadata": {},
     "output_type": "display_data"
    }
   ],
   "source": [
    "plt.figure(figsize = (12, 9))\n",
    "\n",
    "### OS PONTOS GERAIS\n",
    "plt.scatter(novo_df_ureia_tratado.values[y_ureia == 0, 0], novo_df_ureia_tratado.values[y_ureia == 0, 1], s = 100, c = \"red\", label = \"GRUPO-1\")\n",
    "plt.scatter(novo_df_ureia_tratado.values[y_ureia == 1, 0], novo_df_ureia_tratado.values[y_ureia == 1, 1], s = 100, c = \"green\", label = \"GRUPO-2\")\n",
    "\n",
    "### OS CENTROIDES\n",
    "plt.scatter(meanshift_ureia.getCentroides()[:, 0], meanshift_ureia.getCentroides()[:, 1], s = 100, c = \"black\", label = \"Centroides\")\n",
    "\n",
    "plt.legend()\n",
    "plt.show()"
   ]
  },
  {
   "cell_type": "markdown",
   "metadata": {},
   "source": [
    "### DATASET creatinina"
   ]
  },
  {
   "cell_type": "markdown",
   "metadata": {},
   "source": [
    "#### Recebendo os hiper-parâmetros testados acima"
   ]
  },
  {
   "cell_type": "code",
   "execution_count": 42,
   "metadata": {},
   "outputs": [],
   "source": [
    "hiperparametros_meanshift = ParametrosMeanshift(path_arquivo_hiperparametros = \"./hiperparametros/hiperparametros_meanshift.txt\", nome_dataset = \"creatinina\")"
   ]
  },
  {
   "cell_type": "markdown",
   "metadata": {},
   "source": [
    "#### Criando o modelo - seguindo o resultado alcançado nos testes acima"
   ]
  },
  {
   "cell_type": "code",
   "execution_count": 43,
   "metadata": {},
   "outputs": [],
   "source": [
    "bandwidth = estimate_bandwidth(X = novo_df_creatinina_tratado,\n",
    "                               quantile = hiperparametros_meanshift.getQuantil(),\n",
    "                               random_state = hiperparametros_meanshift.getSemente_randomica(),\n",
    "                               n_jobs = -1)\n",
    "\n",
    "meanshift_creatinina = Meanshift(bandwidth = bandwidth,\n",
    "                                 usar_versao_discreta_pontos = hiperparametros_meanshift.getUsar_versao_discreta_pontos(),\n",
    "                                 frequencia_minima = hiperparametros_meanshift.getFrequencia_minima(),\n",
    "                                 clusterizar_todos_pontos = hiperparametros_meanshift.getClusterizar_todos_pontos(),\n",
    "                                 nro_threads = hiperparametros_meanshift.getNro_threads(),\n",
    "                                 nro_max_iteracoes = hiperparametros_meanshift.getNro_max_iteracoes())\n",
    "\n",
    "meanshift_creatinina.fit(novo_df_creatinina_tratado)\n",
    "y_creatinina = meanshift_creatinina.predict(novo_df_creatinina_tratado)"
   ]
  },
  {
   "cell_type": "markdown",
   "metadata": {},
   "source": [
    "##### Verificando resultados do modelo"
   ]
  },
  {
   "cell_type": "code",
   "execution_count": 44,
   "metadata": {},
   "outputs": [
    {
     "name": "stdout",
     "output_type": "stream",
     "text": [
      "SILHOUETTE SCORE:  0.5676830168429768\n",
      "DAVIS-BOULDIN SCORE:  0.8374103344956438\n",
      "CALINSKI-HARABASZ SCORE:  267.22758891840095\n"
     ]
    }
   ],
   "source": [
    "if len(np.unique(meanshift_creatinina.getLabels())) > 1:\n",
    "    silhouette = silhouette_score(novo_df_creatinina_tratado, y_creatinina, metric = \"cityblock\")\n",
    "    davies_bouldin = davies_bouldin_score(novo_df_creatinina_tratado, y_creatinina)\n",
    "    calinski = calinski_harabasz_score(novo_df_creatinina_tratado, y_creatinina)\n",
    "\n",
    "    print(\"SILHOUETTE SCORE: \", silhouette, end = \"\\n\")\n",
    "    print(\"DAVIS-BOULDIN SCORE: \", davies_bouldin, end = \"\\n\")\n",
    "    print(\"CALINSKI-HARABASZ SCORE: \", calinski, end = \"\\n\")"
   ]
  },
  {
   "cell_type": "markdown",
   "metadata": {},
   "source": [
    "##### Quantidade de grupos gerado"
   ]
  },
  {
   "cell_type": "code",
   "execution_count": 45,
   "metadata": {},
   "outputs": [
    {
     "name": "stdout",
     "output_type": "stream",
     "text": [
      "Quantidade de Grupos: 26\n"
     ]
    }
   ],
   "source": [
    "print(\"Quantidade de Grupos:\", len(np.unique(y_creatinina)))"
   ]
  },
  {
   "cell_type": "markdown",
   "metadata": {},
   "source": [
    "##### Versão Gráfica"
   ]
  },
  {
   "cell_type": "code",
   "execution_count": 46,
   "metadata": {},
   "outputs": [
    {
     "data": {
      "image/png": "[encoded data removed]",
      "text/plain": [
       "<Figure size 1200x900 with 1 Axes>"
      ]
     },
     "metadata": {},
     "output_type": "display_data"
    }
   ],
   "source": [
    "plt.figure(figsize = (12, 9))\n",
    "\n",
    "### OS PONTOS GERAIS\n",
    "plt.scatter(novo_df_creatinina_tratado.values[y_creatinina == 0, 0], novo_df_creatinina_tratado.values[y_creatinina == 0, 1], s = 100, c = \"red\", label = \"GRUPO-1\")\n",
    "plt.scatter(novo_df_creatinina_tratado.values[y_creatinina == 1, 0], novo_df_creatinina_tratado.values[y_creatinina == 1, 1], s = 100, c = \"green\", label = \"GRUPO-2\")\n",
    "\n",
    "### OS CENTROIDES\n",
    "plt.scatter(meanshift_creatinina.getCentroides()[0:2, 0], meanshift_creatinina.getCentroides()[0:2, 1], s = 100, c = \"black\", label = \"Centroides\")\n",
    "\n",
    "plt.legend()\n",
    "plt.show()"
   ]
  },
  {
   "cell_type": "code",
   "execution_count": null,
   "metadata": {},
   "outputs": [],
   "source": []
  }
 ],
 "metadata": {
  "kernelspec": {
   "display_name": ".petca-venv",
   "language": "python",
   "name": "python3"
  },
  "language_info": {
   "codemirror_mode": {
    "name": "ipython",
    "version": 3
   },
   "file_extension": ".py",
   "mimetype": "text/x-python",
   "name": "python",
   "nbconvert_exporter": "python",
   "pygments_lexer": "ipython3",
   "version": "3.12.3"
  }
 },
 "nbformat": 4,
 "nbformat_minor": 2
}
