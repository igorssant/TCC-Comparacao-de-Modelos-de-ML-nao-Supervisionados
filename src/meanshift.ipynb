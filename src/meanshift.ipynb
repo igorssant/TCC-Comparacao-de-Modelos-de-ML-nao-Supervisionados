{
 "cells": [
  {
   "cell_type": "markdown",
   "metadata": {},
   "source": [
    "# Algoritmo MeanShift"
   ]
  },
  {
   "cell_type": "markdown",
   "metadata": {},
   "source": [
    "## Índice"
   ]
  },
  {
   "cell_type": "markdown",
   "metadata": {},
   "source": [
    "- [Link para retornar ao notebook principal](#retornar-para-notebook-principal---mainipynb)\n",
    "- [Importando bibliotecas e pacotes](#importando-bibliotecas-e-pacotes)\n",
    "- [Importando datasets](#importando-datasets)\n",
    "- [Testes com o algoritmo](#testes-com-o-algoritmo)\n",
    "- [Aplicando o algoritmo MeanShift]()"
   ]
  },
  {
   "cell_type": "markdown",
   "metadata": {},
   "source": [
    "## Retornar para notebook principal - main.ipynb"
   ]
  },
  {
   "cell_type": "markdown",
   "metadata": {},
   "source": [
    "[Link para notebook principal](./main.ipynb)"
   ]
  },
  {
   "cell_type": "markdown",
   "metadata": {},
   "source": [
    "## Importando bibliotecas e pacotes"
   ]
  },
  {
   "cell_type": "code",
   "execution_count": 1,
   "metadata": {},
   "outputs": [],
   "source": [
    "from sklearn.metrics import silhouette_score, davies_bouldin_score, calinski_harabasz_score\n",
    "from sklearn.model_selection import train_test_split\n",
    "from utils.parametros import ParametrosMeanshift\n",
    "from sklearn.cluster import estimate_bandwidth\n",
    "from sklearn.impute import SimpleImputer\n",
    "from models.meanshift import Meanshift\n",
    "from matplotlib import pyplot as plt\n",
    "import seaborn as sns\n",
    "import pandas as pd\n",
    "import numpy as np"
   ]
  },
  {
   "cell_type": "markdown",
   "metadata": {},
   "source": [
    "## Importando datasets"
   ]
  },
  {
   "cell_type": "code",
   "execution_count": 2,
   "metadata": {},
   "outputs": [],
   "source": [
    "df_funcao_renal = pd.read_csv(\"../databases/raw/InputFuncaoRenal.csv\", sep = \",\", index_col = \"subject_id\")\n",
    "df_dieta_grupos = pd.read_csv(\"../databases/raw/dva_dieta_grupos.csv\", sep = \",\", index_col = \"subject_id\")\n",
    "df_perfil_hepatico = pd.read_csv(\"../databases/raw/InputPerfilHepatico.csv\", sep = \",\", index_col = \"subject_id\")\n",
    "df_ureia = pd.read_csv(\"../databases/processed/ureia_pivoted.csv\", sep = \",\", index_col = \"subject_id\")\n",
    "df_creatinina = pd.read_csv(\"../databases/processed/creatinina_pivoted.csv\", sep = \",\", index_col = \"subject_id\")"
   ]
  },
  {
   "cell_type": "markdown",
   "metadata": {},
   "source": [
    "## Testes com o Algoritmo"
   ]
  },
  {
   "cell_type": "markdown",
   "metadata": {},
   "source": [
    "### DATASET Funcao Renal"
   ]
  },
  {
   "cell_type": "code",
   "execution_count": 3,
   "metadata": {},
   "outputs": [
    {
     "name": "stdout",
     "output_type": "stream",
     "text": [
      "PARA O QUANTIL < 0.2 > OS RESULTADOS SÃO:\n",
      "====================\n",
      "SILHOUETTE SCORE:  [1.0, -0.00013345789403449188, 1.0, 1.0, 1.0, 1.0]\n",
      "DAVIS-BOULDIN SCORE:  0.0\n",
      "CALINSKI-HARABASZ SCORE:  1.0\n",
      "====================\n",
      "\n",
      "\n",
      "PARA O QUANTIL < 0.25 > OS RESULTADOS SÃO:\n",
      "====================\n",
      "SILHOUETTE SCORE:  [0.767706173302503, 0.12370790505587803, 0.7645057772236232, 0.767706173302503, 0.7645057772236232, 0.767706173302503]\n",
      "DAVIS-BOULDIN SCORE:  0.7393294782399168\n",
      "CALINSKI-HARABASZ SCORE:  21579.78483257319\n",
      "====================\n",
      "\n",
      "\n",
      "PARA O QUANTIL < 0.3 > OS RESULTADOS SÃO:\n",
      "====================\n",
      "SILHOUETTE SCORE:  [0.7820985425449464, 0.02397030346205312, 0.7738723041669752, 0.7820985425449464, 0.7738723041669752, 0.7820985425449464]\n",
      "DAVIS-BOULDIN SCORE:  0.6926368214558204\n",
      "CALINSKI-HARABASZ SCORE:  21912.91814080217\n",
      "====================\n",
      "\n",
      "\n",
      "PARA O QUANTIL < 0.4 > OS RESULTADOS SÃO:\n",
      "====================\n",
      "SILHOUETTE SCORE:  [0.7445469068674132, 0.14252289831332657, 0.7189695777536332, 0.7445469068674132, 0.7189695777536332, 0.7445469068674132]\n",
      "DAVIS-BOULDIN SCORE:  0.8108048477735894\n",
      "CALINSKI-HARABASZ SCORE:  18584.83559834333\n",
      "====================\n",
      "\n",
      "\n",
      "PARA O QUANTIL < 0.5 > OS RESULTADOS SÃO:\n",
      "====================\n",
      "SILHOUETTE SCORE:  [0.7253300440512355, 0.15309601448814728, 0.7251926137912906, 0.7253300440512355, 0.7251926137912906, 0.7253300440512355]\n",
      "DAVIS-BOULDIN SCORE:  0.6113711182191346\n",
      "CALINSKI-HARABASZ SCORE:  25146.47999369303\n",
      "====================\n",
      "\n",
      "\n",
      "PARA O QUANTIL < 0.6 > OS RESULTADOS SÃO:\n",
      "====================\n",
      "SILHOUETTE SCORE:  [0.7380175135237754, 0.18810217728218312, 0.7141329406844735, 0.7380175135237754, 0.7141329406844735, 0.7380175135237754]\n",
      "DAVIS-BOULDIN SCORE:  0.5324779436270574\n",
      "CALINSKI-HARABASZ SCORE:  19704.887038093548\n",
      "====================\n",
      "\n",
      "\n"
     ]
    }
   ],
   "source": [
    "quantis_escolhidos = [0.2, 0.25, 0.3, 0.4, 0.5, 0.6]\n",
    "\n",
    "for quantil in quantis_escolhidos:\n",
    "    bandwidth = estimate_bandwidth(X = df_funcao_renal, quantile = quantil, random_state = 42)\n",
    "    meanshift = Meanshift(bandwidth = bandwidth,\n",
    "                          nro_max_iteracoes = 500)\n",
    "    meanshift.fit(df_funcao_renal)\n",
    "    y_funcao_renal = meanshift.fit_predict(df_funcao_renal)\n",
    "    \n",
    "    silhouette = []\n",
    "\n",
    "    for metrica in [\"cityblock\", \"cosine\", \"euclidean\", \"l1\", \"l2\", \"manhattan\"]:\n",
    "        silhouette.append(silhouette_score(df_funcao_renal, y_funcao_renal, metric = metrica))\n",
    "\n",
    "    davies_bouldin = davies_bouldin_score(df_funcao_renal, y_funcao_renal)\n",
    "    calinski = calinski_harabasz_score(df_funcao_renal, y_funcao_renal)\n",
    "\n",
    "    print(f\"PARA O QUANTIL < {quantil} > OS RESULTADOS SÃO:\", end = \"\\n\")\n",
    "    print(\"=\" * 20)\n",
    "    print(\"SILHOUETTE SCORE: \", silhouette, end = \"\\n\")\n",
    "    print(\"DAVIS-BOULDIN SCORE: \", davies_bouldin, end = \"\\n\")\n",
    "    print(\"CALINSKI-HARABASZ SCORE: \", calinski, end = \"\\n\")\n",
    "    print(\"=\" * 20, end = \"\\n\\n\\n\")"
   ]
  },
  {
   "cell_type": "markdown",
   "metadata": {},
   "source": [
    "Como podemos notar acima, os melhores parâmetros são:\n",
    "- métrica: qualquer uma, exceto \"cosine\";\n",
    "- quantil: 0.2;\n",
    "- frequência mínima: 1;\n",
    "- número máximo de iterações: 500;\n",
    "- semente randômica: 42."
   ]
  },
  {
   "cell_type": "markdown",
   "metadata": {},
   "source": [
    "### DATASET Dieta Grupos"
   ]
  },
  {
   "cell_type": "code",
   "execution_count": 4,
   "metadata": {},
   "outputs": [
    {
     "name": "stdout",
     "output_type": "stream",
     "text": [
      "PARA O QUANTIL < 0.2 > OS RESULTADOS SÃO:\n",
      "====================\n",
      "SILHOUETTE SCORE:  [0.14783360272991927, -0.586399347158496, 0.1893650130593205, 0.14783360272991927, 0.1893650130593205, 0.14783360272991927]\n",
      "DAVIS-BOULDIN SCORE:  1.1763008775949684\n",
      "CALINSKI-HARABASZ SCORE:  139.85322497688574\n",
      "====================\n",
      "\n",
      "\n",
      "PARA O QUANTIL < 0.25 > OS RESULTADOS SÃO:\n",
      "====================\n",
      "SILHOUETTE SCORE:  [0.22561520282267178, -0.5916939477539512, 0.2421173795311405, 0.22561520282267178, 0.2421173795311405, 0.22561520282267178]\n",
      "DAVIS-BOULDIN SCORE:  1.1147975968368442\n",
      "CALINSKI-HARABASZ SCORE:  153.98846696197288\n",
      "====================\n",
      "\n",
      "\n",
      "PARA O QUANTIL < 0.3 > OS RESULTADOS SÃO:\n",
      "====================\n",
      "SILHOUETTE SCORE:  [0.2386684790528939, -0.5870436959106852, 0.2645822490873655, 0.2386684790528939, 0.2645822490873655, 0.2386684790528939]\n",
      "DAVIS-BOULDIN SCORE:  1.052293240060704\n",
      "CALINSKI-HARABASZ SCORE:  134.09984291300785\n",
      "====================\n",
      "\n",
      "\n",
      "PARA O QUANTIL < 0.4 > OS RESULTADOS SÃO:\n",
      "====================\n",
      "SILHOUETTE SCORE:  [0.24317731149290167, -0.5927387201841084, 0.3359935243747827, 0.24317731149290167, 0.3359935243747827, 0.24317731149290167]\n",
      "DAVIS-BOULDIN SCORE:  0.825432158054771\n",
      "CALINSKI-HARABASZ SCORE:  99.32570469203793\n",
      "====================\n",
      "\n",
      "\n",
      "PARA O QUANTIL < 0.5 > OS RESULTADOS SÃO:\n",
      "====================\n",
      "SILHOUETTE SCORE:  [0.3108806642274857, -0.5808438428986116, 0.37222230845153675, 0.3108806642274857, 0.37222230845153675, 0.3108806642274857]\n",
      "DAVIS-BOULDIN SCORE:  0.785325678618163\n",
      "CALINSKI-HARABASZ SCORE:  68.5540104130139\n",
      "====================\n",
      "\n",
      "\n",
      "PARA O QUANTIL < 0.6 > OS RESULTADOS SÃO:\n",
      "====================\n",
      "SILHOUETTE SCORE:  [0.4284650267264221, -0.26393919500083574, 0.5088849303088104, 0.4284650267264221, 0.5088849303088104, 0.4284650267264221]\n",
      "DAVIS-BOULDIN SCORE:  0.6519725083905875\n",
      "CALINSKI-HARABASZ SCORE:  40.68426371136064\n",
      "====================\n",
      "\n",
      "\n"
     ]
    }
   ],
   "source": [
    "quantis_escolhidos = [0.2, 0.25, 0.3, 0.4, 0.5, 0.6]\n",
    "\n",
    "for quantil in quantis_escolhidos:\n",
    "    bandwidth = estimate_bandwidth(X = df_dieta_grupos, quantile = quantil, random_state = 42)\n",
    "    meanshift = Meanshift(bandwidth = bandwidth,\n",
    "                          nro_max_iteracoes = 500)\n",
    "    meanshift.fit(df_dieta_grupos)\n",
    "    y_dieta_grupos = meanshift.fit_predict(df_dieta_grupos)\n",
    "    \n",
    "    silhouette = []\n",
    "\n",
    "    for metrica in [\"cityblock\", \"cosine\", \"euclidean\", \"l1\", \"l2\", \"manhattan\"]:\n",
    "        silhouette.append(silhouette_score(df_dieta_grupos, y_dieta_grupos, metric = metrica))\n",
    "\n",
    "    davies_bouldin = davies_bouldin_score(df_dieta_grupos, y_dieta_grupos)\n",
    "    calinski = calinski_harabasz_score(df_dieta_grupos, y_dieta_grupos)\n",
    "\n",
    "    print(f\"PARA O QUANTIL < {quantil} > OS RESULTADOS SÃO:\", end = \"\\n\")\n",
    "    print(\"=\" * 20)\n",
    "    print(\"SILHOUETTE SCORE: \", silhouette, end = \"\\n\")\n",
    "    print(\"DAVIS-BOULDIN SCORE: \", davies_bouldin, end = \"\\n\")\n",
    "    print(\"CALINSKI-HARABASZ SCORE: \", calinski, end = \"\\n\")\n",
    "    print(\"=\" * 20, end = \"\\n\\n\\n\")"
   ]
  },
  {
   "cell_type": "markdown",
   "metadata": {},
   "source": [
    "Como podemos notar acima, os melhores parâmetros são:\n",
    "- métrica: qualquer uma, exceto \"euclidean\";\n",
    "- quantil: 0.6;\n",
    "- frequência mínima: 1;\n",
    "- número máximo de iterações: 500;\n",
    "- semente randômica: 42."
   ]
  },
  {
   "cell_type": "markdown",
   "metadata": {},
   "source": [
    "### DATASET Perfil Hepatico"
   ]
  },
  {
   "cell_type": "code",
   "execution_count": 5,
   "metadata": {},
   "outputs": [
    {
     "name": "stdout",
     "output_type": "stream",
     "text": [
      "PARA O QUANTIL < 0.2 > OS RESULTADOS SÃO:\n",
      "====================\n",
      "SILHOUETTE SCORE:  [0.5591197380759249, -0.09945565098983042, 0.5273898315871121, 0.5591197380759249, 0.5273898315871121, 0.5591197380759249]\n",
      "DAVIS-BOULDIN SCORE:  1.1573282447520783\n",
      "CALINSKI-HARABASZ SCORE:  1696.3939534258216\n",
      "====================\n",
      "\n",
      "\n",
      "PARA O QUANTIL < 0.25 > OS RESULTADOS SÃO:\n",
      "====================\n",
      "SILHOUETTE SCORE:  [0.5630997029087442, -0.085850168073472, 0.5319133748993254, 0.5630997029087442, 0.5319133748993254, 0.5630997029087442]\n",
      "DAVIS-BOULDIN SCORE:  1.2716137520125304\n",
      "CALINSKI-HARABASZ SCORE:  1753.888294547341\n",
      "====================\n",
      "\n",
      "\n",
      "PARA O QUANTIL < 0.3 > OS RESULTADOS SÃO:\n",
      "====================\n",
      "SILHOUETTE SCORE:  [0.5788718316128073, -0.09457566982501672, 0.5391172113839361, 0.5788718316128073, 0.5391172113839361, 0.5788718316128073]\n",
      "DAVIS-BOULDIN SCORE:  1.203818111350865\n",
      "CALINSKI-HARABASZ SCORE:  3009.7597145498235\n",
      "====================\n",
      "\n",
      "\n",
      "PARA O QUANTIL < 0.4 > OS RESULTADOS SÃO:\n",
      "====================\n",
      "SILHOUETTE SCORE:  [0.5998464517668343, -0.07679397691067627, 0.5680426285666547, 0.5998464517668343, 0.5680426285666547, 0.5998464517668343]\n",
      "DAVIS-BOULDIN SCORE:  1.0903237900449834\n",
      "CALINSKI-HARABASZ SCORE:  3733.1146655571683\n",
      "====================\n",
      "\n",
      "\n",
      "PARA O QUANTIL < 0.5 > OS RESULTADOS SÃO:\n",
      "====================\n",
      "SILHOUETTE SCORE:  [0.6470469709155162, -0.008104999952236066, 0.5991756060501237, 0.6470469709155162, 0.5991756060501237, 0.6470469709155162]\n",
      "DAVIS-BOULDIN SCORE:  0.8380482490018036\n",
      "CALINSKI-HARABASZ SCORE:  7848.236051058308\n",
      "====================\n",
      "\n",
      "\n",
      "PARA O QUANTIL < 0.6 > OS RESULTADOS SÃO:\n",
      "====================\n",
      "SILHOUETTE SCORE:  [0.6509502312202577, 0.011485006896757556, 0.6048649191054539, 0.6509502312202577, 0.6048649191054539, 0.6509502312202577]\n",
      "DAVIS-BOULDIN SCORE:  0.8395679711104772\n",
      "CALINSKI-HARABASZ SCORE:  8324.27521262369\n",
      "====================\n",
      "\n",
      "\n"
     ]
    }
   ],
   "source": [
    "quantis_escolhidos = [0.2, 0.25, 0.3, 0.4, 0.5, 0.6]\n",
    "\n",
    "for quantil in quantis_escolhidos:\n",
    "    bandwidth = estimate_bandwidth(X = df_perfil_hepatico, quantile = quantil, random_state = 42)\n",
    "    meanshift = Meanshift(bandwidth = bandwidth,\n",
    "                          nro_max_iteracoes = 500)\n",
    "    meanshift.fit(df_perfil_hepatico)\n",
    "    y_perfil_hepatico = meanshift.fit_predict(df_perfil_hepatico)\n",
    "    \n",
    "    silhouette = []\n",
    "\n",
    "    for metrica in [\"cityblock\", \"cosine\", \"euclidean\", \"l1\", \"l2\", \"manhattan\"]:\n",
    "        silhouette.append(silhouette_score(df_perfil_hepatico, y_perfil_hepatico, metric = metrica))\n",
    "\n",
    "    davies_bouldin = davies_bouldin_score(df_perfil_hepatico, y_perfil_hepatico)\n",
    "    calinski = calinski_harabasz_score(df_perfil_hepatico, y_perfil_hepatico)\n",
    "\n",
    "    print(f\"PARA O QUANTIL < {quantil} > OS RESULTADOS SÃO:\", end = \"\\n\")\n",
    "    print(\"=\" * 20)\n",
    "    print(\"SILHOUETTE SCORE: \", silhouette, end = \"\\n\")\n",
    "    print(\"DAVIS-BOULDIN SCORE: \", davies_bouldin, end = \"\\n\")\n",
    "    print(\"CALINSKI-HARABASZ SCORE: \", calinski, end = \"\\n\")\n",
    "    print(\"=\" * 20, end = \"\\n\\n\\n\")"
   ]
  },
  {
   "cell_type": "markdown",
   "metadata": {},
   "source": [
    "Como podemos notar acima, os melhores parâmetros são:\n",
    "- métrica: qualquer uma, exceto \"cityblock\";\n",
    "- quantil: 0.6;\n",
    "- frequência mínima: 1;\n",
    "- número máximo de iterações: 500;\n",
    "- semente randômica: 42."
   ]
  },
  {
   "cell_type": "markdown",
   "metadata": {},
   "source": [
    "### DATASET ureia"
   ]
  },
  {
   "cell_type": "code",
   "execution_count": 10,
   "metadata": {},
   "outputs": [],
   "source": [
    "simple_input = SimpleImputer(missing_values = np.nan, strategy = \"most_frequent\")\n",
    "df_ureia_sem_nulos = simple_input.fit_transform(df_ureia.values)"
   ]
  },
  {
   "cell_type": "code",
   "execution_count": 11,
   "metadata": {},
   "outputs": [],
   "source": [
    "X_train, X_test = train_test_split(df_ureia_sem_nulos, test_size = 0.3, random_state = 42)"
   ]
  },
  {
   "cell_type": "code",
   "execution_count": 12,
   "metadata": {},
   "outputs": [
    {
     "name": "stdout",
     "output_type": "stream",
     "text": [
      "PARA O QUANTIL < 0.2 > OS RESULTADOS SÃO:\n",
      "====================\n",
      "SILHOUETTE SCORE:  [0.9932981836582119, 0.8394643289350867, 0.9927749725165369, 0.9932981836582119, 0.9927749725165369, 0.9932981836582119]\n",
      "DAVIS-BOULDIN SCORE:  0.004757902844252656\n",
      "CALINSKI-HARABASZ SCORE:  330.66878203527716\n",
      "====================\n",
      "\n",
      "\n",
      "PARA O QUANTIL < 0.25 > OS RESULTADOS SÃO:\n",
      "====================\n",
      "SILHOUETTE SCORE:  [0.9932981836582119, 0.8394643289350867, 0.9927749725165369, 0.9932981836582119, 0.9927749725165369, 0.9932981836582119]\n",
      "DAVIS-BOULDIN SCORE:  0.004757902844252656\n",
      "CALINSKI-HARABASZ SCORE:  330.66878203527716\n",
      "====================\n",
      "\n",
      "\n",
      "PARA O QUANTIL < 0.3 > OS RESULTADOS SÃO:\n",
      "====================\n",
      "SILHOUETTE SCORE:  [0.9932981836582119, 0.8394643289350867, 0.9927749725165369, 0.9932981836582119, 0.9927749725165369, 0.9932981836582119]\n",
      "DAVIS-BOULDIN SCORE:  0.004757902844252656\n",
      "CALINSKI-HARABASZ SCORE:  330.66878203527716\n",
      "====================\n",
      "\n",
      "\n",
      "PARA O QUANTIL < 0.4 > OS RESULTADOS SÃO:\n",
      "====================\n",
      "SILHOUETTE SCORE:  [0.9932981836582119, 0.8394643289350867, 0.9927749725165369, 0.9932981836582119, 0.9927749725165369, 0.9932981836582119]\n",
      "DAVIS-BOULDIN SCORE:  0.004757902844252656\n",
      "CALINSKI-HARABASZ SCORE:  330.66878203527716\n",
      "====================\n",
      "\n",
      "\n",
      "PARA O QUANTIL < 0.5 > OS RESULTADOS SÃO:\n",
      "====================\n",
      "SILHOUETTE SCORE:  [0.9932981836582119, 0.8394643289350867, 0.9927749725165369, 0.9932981836582119, 0.9927749725165369, 0.9932981836582119]\n",
      "DAVIS-BOULDIN SCORE:  0.004757902844252656\n",
      "CALINSKI-HARABASZ SCORE:  330.66878203527716\n",
      "====================\n",
      "\n",
      "\n",
      "PARA O QUANTIL < 0.6 > OS RESULTADOS SÃO:\n",
      "====================\n",
      "SILHOUETTE SCORE:  [0.9932981836582119, 0.8394643289350867, 0.9927749725165369, 0.9932981836582119, 0.9927749725165369, 0.9932981836582119]\n",
      "DAVIS-BOULDIN SCORE:  0.004757902844252656\n",
      "CALINSKI-HARABASZ SCORE:  330.66878203527716\n",
      "====================\n",
      "\n",
      "\n"
     ]
    }
   ],
   "source": [
    "quantis_escolhidos = [0.2, 0.25, 0.3, 0.4, 0.5, 0.6]\n",
    "\n",
    "for quantil in quantis_escolhidos:\n",
    "    bandwidth = estimate_bandwidth(X = X_test, quantile = quantil, random_state = 42)\n",
    "    meanshift = Meanshift(bandwidth = bandwidth,\n",
    "                          nro_max_iteracoes = 500,\n",
    "                          nro_threads = -1)\n",
    "    meanshift.fit(X_train)\n",
    "    y_ureia = meanshift.predict(X_test)\n",
    "    \n",
    "    silhouette = []\n",
    "\n",
    "    for metrica in [\"cityblock\", \"cosine\", \"euclidean\", \"l1\", \"l2\", \"manhattan\"]:\n",
    "        silhouette.append(silhouette_score(X_test, y_ureia, metric = metrica))\n",
    "\n",
    "    davies_bouldin = davies_bouldin_score(X_test, y_ureia)\n",
    "    calinski = calinski_harabasz_score(X_test, y_ureia)\n",
    "\n",
    "    print(f\"PARA O QUANTIL < {quantil} > OS RESULTADOS SÃO:\", end = \"\\n\")\n",
    "    print(\"=\" * 20)\n",
    "    print(\"SILHOUETTE SCORE: \", silhouette, end = \"\\n\")\n",
    "    print(\"DAVIS-BOULDIN SCORE: \", davies_bouldin, end = \"\\n\")\n",
    "    print(\"CALINSKI-HARABASZ SCORE: \", calinski, end = \"\\n\")\n",
    "    print(\"=\" * 20, end = \"\\n\\n\\n\")"
   ]
  },
  {
   "cell_type": "markdown",
   "metadata": {},
   "source": [
    "Como podemos notar acima, os melhores parâmetros são:\n",
    "- métrica: qualquer uma;\n",
    "- quantil: 0.5;\n",
    "- frequência mínima: 2;\n",
    "- número máximo de iterações: 500;\n",
    "- semente randômica: 42."
   ]
  },
  {
   "cell_type": "markdown",
   "metadata": {},
   "source": [
    "### DATASET creatinina"
   ]
  },
  {
   "cell_type": "code",
   "execution_count": 15,
   "metadata": {},
   "outputs": [],
   "source": [
    "simple_input = SimpleImputer(missing_values = np.nan, strategy = \"most_frequent\")\n",
    "df_creatinina_sem_nulos = simple_input.fit_transform(df_creatinina.values)"
   ]
  },
  {
   "cell_type": "code",
   "execution_count": 16,
   "metadata": {},
   "outputs": [],
   "source": [
    "X_train, X_test = train_test_split(df_creatinina_sem_nulos, test_size = 0.3, random_state = 42)"
   ]
  },
  {
   "cell_type": "code",
   "execution_count": 17,
   "metadata": {},
   "outputs": [
    {
     "name": "stdout",
     "output_type": "stream",
     "text": [
      "PARA O QUANTIL < 0.2 > OS RESULTADOS SÃO:\n",
      "====================\n",
      "SILHOUETTE SCORE:  [0.9974775585973711, 0.9188348207078608, 0.997275062539165, 0.9974775585973711, 0.997275062539165, 0.9974775585973711]\n",
      "DAVIS-BOULDIN SCORE:  0.00201006102369348\n",
      "CALINSKI-HARABASZ SCORE:  993.0020264109411\n",
      "====================\n",
      "\n",
      "\n",
      "PARA O QUANTIL < 0.25 > OS RESULTADOS SÃO:\n",
      "====================\n",
      "SILHOUETTE SCORE:  [0.9974775585973711, 0.9188348207078608, 0.997275062539165, 0.9974775585973711, 0.997275062539165, 0.9974775585973711]\n",
      "DAVIS-BOULDIN SCORE:  0.00201006102369348\n",
      "CALINSKI-HARABASZ SCORE:  993.0020264109411\n",
      "====================\n",
      "\n",
      "\n",
      "PARA O QUANTIL < 0.3 > OS RESULTADOS SÃO:\n",
      "====================\n",
      "SILHOUETTE SCORE:  [0.9974775585973711, 0.9188348207078608, 0.997275062539165, 0.9974775585973711, 0.997275062539165, 0.9974775585973711]\n",
      "DAVIS-BOULDIN SCORE:  0.00201006102369348\n",
      "CALINSKI-HARABASZ SCORE:  993.0020264109411\n",
      "====================\n",
      "\n",
      "\n",
      "PARA O QUANTIL < 0.4 > OS RESULTADOS SÃO:\n",
      "====================\n",
      "SILHOUETTE SCORE:  [0.9974775585973711, 0.9188348207078608, 0.997275062539165, 0.9974775585973711, 0.997275062539165, 0.9974775585973711]\n",
      "DAVIS-BOULDIN SCORE:  0.00201006102369348\n",
      "CALINSKI-HARABASZ SCORE:  993.0020264109411\n",
      "====================\n",
      "\n",
      "\n",
      "PARA O QUANTIL < 0.5 > OS RESULTADOS SÃO:\n",
      "====================\n",
      "SILHOUETTE SCORE:  [0.9974775585973711, 0.9188348207078608, 0.997275062539165, 0.9974775585973711, 0.997275062539165, 0.9974775585973711]\n",
      "DAVIS-BOULDIN SCORE:  0.00201006102369348\n",
      "CALINSKI-HARABASZ SCORE:  993.0020264109411\n",
      "====================\n",
      "\n",
      "\n",
      "PARA O QUANTIL < 0.6 > OS RESULTADOS SÃO:\n",
      "====================\n",
      "SILHOUETTE SCORE:  [0.9974775585973711, 0.9188348207078608, 0.997275062539165, 0.9974775585973711, 0.997275062539165, 0.9974775585973711]\n",
      "DAVIS-BOULDIN SCORE:  0.00201006102369348\n",
      "CALINSKI-HARABASZ SCORE:  993.0020264109411\n",
      "====================\n",
      "\n",
      "\n"
     ]
    }
   ],
   "source": [
    "quantis_escolhidos = [0.2, 0.25, 0.3, 0.4, 0.5, 0.6]\n",
    "\n",
    "for quantil in quantis_escolhidos:\n",
    "    bandwidth = estimate_bandwidth(X = X_test, quantile = quantil, random_state = 42)\n",
    "    meanshift = Meanshift(bandwidth = bandwidth,\n",
    "                          nro_max_iteracoes = 500,\n",
    "                          nro_threads = -1)\n",
    "    meanshift.fit(X_train)\n",
    "    y_ureia = meanshift.predict(X_test)\n",
    "    \n",
    "    silhouette = []\n",
    "\n",
    "    for metrica in [\"cityblock\", \"cosine\", \"euclidean\", \"l1\", \"l2\", \"manhattan\"]:\n",
    "        silhouette.append(silhouette_score(X_test, y_ureia, metric = metrica))\n",
    "\n",
    "    davies_bouldin = davies_bouldin_score(X_test, y_ureia)\n",
    "    calinski = calinski_harabasz_score(X_test, y_ureia)\n",
    "\n",
    "    print(f\"PARA O QUANTIL < {quantil} > OS RESULTADOS SÃO:\", end = \"\\n\")\n",
    "    print(\"=\" * 20)\n",
    "    print(\"SILHOUETTE SCORE: \", silhouette, end = \"\\n\")\n",
    "    print(\"DAVIS-BOULDIN SCORE: \", davies_bouldin, end = \"\\n\")\n",
    "    print(\"CALINSKI-HARABASZ SCORE: \", calinski, end = \"\\n\")\n",
    "    print(\"=\" * 20, end = \"\\n\\n\\n\")"
   ]
  },
  {
   "cell_type": "markdown",
   "metadata": {},
   "source": [
    "Como podemos notar acima, os melhores parâmetros são:\n",
    "- métrica: qualquer uma;\n",
    "- quantil: 0.5;\n",
    "- frequência mínima: 3;\n",
    "- número máximo de iterações: 500;\n",
    "- semente randômica: 42."
   ]
  },
  {
   "cell_type": "markdown",
   "metadata": {},
   "source": [
    "## Implementação do Algoritmo"
   ]
  },
  {
   "cell_type": "markdown",
   "metadata": {},
   "source": [
    "### DATASET Funcao Renal"
   ]
  },
  {
   "cell_type": "markdown",
   "metadata": {},
   "source": [
    "#### Recebendo os hiper-parâmetros testados acima"
   ]
  },
  {
   "cell_type": "code",
   "execution_count": 17,
   "metadata": {},
   "outputs": [],
   "source": [
    "hiperparametros_meanshift = ParametrosMeanshift(path_arquivo_hiperparametros = \"./hiperparametros/hiperparametros_meanshift.txt\", nome_dataset = \"funcao_renal\")"
   ]
  },
  {
   "cell_type": "markdown",
   "metadata": {},
   "source": [
    "#### Criando o modelo - seguindo o resultado alcançado nos testes acima"
   ]
  },
  {
   "cell_type": "code",
   "execution_count": 19,
   "metadata": {},
   "outputs": [],
   "source": [
    "bandwidth = estimate_bandwidth(X = df_funcao_renal,\n",
    "                               quantile = hiperparametros_meanshift.getQuantil(),\n",
    "                               random_state = hiperparametros_meanshift.getSemente_randomica())\n",
    "\n",
    "meanshift_funcao_renal = Meanshift(bandwidth = bandwidth,\n",
    "                                   usar_versao_discreta_pontos = hiperparametros_meanshift.getUsar_versao_discreta_pontos(),\n",
    "                                   frequencia_minima = hiperparametros_meanshift.getFrequencia_minima(),\n",
    "                                   clusterizar_todos_pontos = hiperparametros_meanshift.getClusterizar_todos_pontos(),\n",
    "                                   nro_threads = hiperparametros_meanshift.getNro_threads(),\n",
    "                                   nro_max_iteracoes = hiperparametros_meanshift.getNro_max_iteracoes())\n",
    "\n",
    "meanshift_funcao_renal.fit(df_funcao_renal.values)\n",
    "y_funcao_renal = meanshift_funcao_renal.fit_predict(df_funcao_renal.values)"
   ]
  },
  {
   "cell_type": "markdown",
   "metadata": {},
   "source": [
    "##### Verificando resultados do modelo"
   ]
  },
  {
   "cell_type": "code",
   "execution_count": 20,
   "metadata": {},
   "outputs": [
    {
     "name": "stdout",
     "output_type": "stream",
     "text": [
      "SILHOUETTE SCORE:  0.03444965122870434\n",
      "DAVIS-BOULDIN SCORE:  0.6012694218729446\n",
      "CALINSKI-HARABASZ SCORE:  36249.40726125835\n"
     ]
    }
   ],
   "source": [
    "silhouette = silhouette_score(df_funcao_renal.values, y_funcao_renal, metric = \"cosine\")\n",
    "davies_bouldin = davies_bouldin_score(df_funcao_renal.values, y_funcao_renal)\n",
    "calinski = calinski_harabasz_score(df_funcao_renal.values, y_funcao_renal)\n",
    "\n",
    "print(\"SILHOUETTE SCORE: \", silhouette, end = \"\\n\")\n",
    "print(\"DAVIS-BOULDIN SCORE: \", davies_bouldin, end = \"\\n\")\n",
    "print(\"CALINSKI-HARABASZ SCORE: \", calinski, end = \"\\n\")"
   ]
  },
  {
   "cell_type": "markdown",
   "metadata": {},
   "source": [
    "### DATASET Dieta Grupos"
   ]
  },
  {
   "cell_type": "markdown",
   "metadata": {},
   "source": [
    "#### Recebendo os hiper-parâmetros testados acima"
   ]
  },
  {
   "cell_type": "code",
   "execution_count": 21,
   "metadata": {},
   "outputs": [],
   "source": [
    "hiperparametros_meanshift = ParametrosMeanshift(path_arquivo_hiperparametros = \"./hiperparametros/hiperparametros_meanshift.txt\", nome_dataset = \"dieta_grupos\")"
   ]
  },
  {
   "cell_type": "markdown",
   "metadata": {},
   "source": [
    "#### Criando o modelo - seguindo o resultado alcançado nos testes acima"
   ]
  },
  {
   "cell_type": "code",
   "execution_count": 22,
   "metadata": {},
   "outputs": [],
   "source": [
    "bandwidth = estimate_bandwidth(X = df_dieta_grupos,\n",
    "                               quantile = hiperparametros_meanshift.getQuantil(),\n",
    "                               random_state = hiperparametros_meanshift.getSemente_randomica())\n",
    "\n",
    "meanshift_dieta_grupos = Meanshift(bandwidth = bandwidth,\n",
    "                                   usar_versao_discreta_pontos = hiperparametros_meanshift.getUsar_versao_discreta_pontos(),\n",
    "                                   frequencia_minima = hiperparametros_meanshift.getFrequencia_minima(),\n",
    "                                   clusterizar_todos_pontos = hiperparametros_meanshift.getClusterizar_todos_pontos(),\n",
    "                                   nro_threads = hiperparametros_meanshift.getNro_threads(),\n",
    "                                   nro_max_iteracoes = hiperparametros_meanshift.getNro_max_iteracoes())\n",
    "\n",
    "meanshift_dieta_grupos.fit(df_dieta_grupos.values)\n",
    "y_dieta_grupos = meanshift_dieta_grupos.fit_predict(df_dieta_grupos.values)"
   ]
  },
  {
   "cell_type": "markdown",
   "metadata": {},
   "source": [
    "##### Verificando resultados do modelo"
   ]
  },
  {
   "cell_type": "code",
   "execution_count": 23,
   "metadata": {},
   "outputs": [
    {
     "name": "stdout",
     "output_type": "stream",
     "text": [
      "SILHOUETTE SCORE:  0.6363630240666491\n",
      "DAVIS-BOULDIN SCORE:  0.9513520035275501\n",
      "CALINSKI-HARABASZ SCORE:  45.338656719227124\n"
     ]
    }
   ],
   "source": [
    "silhouette = silhouette_score(df_dieta_grupos.values, y_dieta_grupos, metric = \"euclidean\")\n",
    "davies_bouldin = davies_bouldin_score(df_dieta_grupos.values, y_dieta_grupos)\n",
    "calinski = calinski_harabasz_score(df_dieta_grupos.values, y_dieta_grupos)\n",
    "\n",
    "print(\"SILHOUETTE SCORE: \", silhouette, end = \"\\n\")\n",
    "print(\"DAVIS-BOULDIN SCORE: \", davies_bouldin, end = \"\\n\")\n",
    "print(\"CALINSKI-HARABASZ SCORE: \", calinski, end = \"\\n\")"
   ]
  },
  {
   "cell_type": "markdown",
   "metadata": {},
   "source": [
    "### DATASET Perfil Hepatico"
   ]
  },
  {
   "cell_type": "markdown",
   "metadata": {},
   "source": [
    "#### Recebendo os hiper-parâmetros testados acima"
   ]
  },
  {
   "cell_type": "code",
   "execution_count": 24,
   "metadata": {},
   "outputs": [],
   "source": [
    "hiperparametros_meanshift = ParametrosMeanshift(path_arquivo_hiperparametros = \"./hiperparametros/hiperparametros_meanshift.txt\", nome_dataset = \"perfil_hepatico\")"
   ]
  },
  {
   "cell_type": "markdown",
   "metadata": {},
   "source": [
    "#### Criando o modelo - seguindo o resultado alcançado nos testes acima"
   ]
  },
  {
   "cell_type": "code",
   "execution_count": 25,
   "metadata": {},
   "outputs": [],
   "source": [
    "bandwidth = estimate_bandwidth(X = df_perfil_hepatico,\n",
    "                               quantile = hiperparametros_meanshift.getQuantil(),\n",
    "                               random_state = hiperparametros_meanshift.getSemente_randomica())\n",
    "\n",
    "meanshift_perfil_hepatico = Meanshift(bandwidth = bandwidth,\n",
    "                                      usar_versao_discreta_pontos = hiperparametros_meanshift.getUsar_versao_discreta_pontos(),\n",
    "                                      frequencia_minima = hiperparametros_meanshift.getFrequencia_minima(),\n",
    "                                      clusterizar_todos_pontos = hiperparametros_meanshift.getClusterizar_todos_pontos(),\n",
    "                                      nro_threads = hiperparametros_meanshift.getNro_threads(),\n",
    "                                      nro_max_iteracoes = hiperparametros_meanshift.getNro_max_iteracoes())\n",
    "\n",
    "meanshift_perfil_hepatico.fit(df_perfil_hepatico.values)\n",
    "y_perfil_hepatico = meanshift_perfil_hepatico.fit_predict(df_perfil_hepatico.values)"
   ]
  },
  {
   "cell_type": "markdown",
   "metadata": {},
   "source": [
    "##### Verificando resultados do modelo"
   ]
  },
  {
   "cell_type": "code",
   "execution_count": 26,
   "metadata": {},
   "outputs": [
    {
     "name": "stdout",
     "output_type": "stream",
     "text": [
      "SILHOUETTE SCORE:  0.6509502312202577\n",
      "DAVIS-BOULDIN SCORE:  0.8395679711104772\n",
      "CALINSKI-HARABASZ SCORE:  8324.27521262369\n"
     ]
    }
   ],
   "source": [
    "silhouette = silhouette_score(df_perfil_hepatico.values, y_perfil_hepatico, metric = \"cityblock\")\n",
    "davies_bouldin = davies_bouldin_score(df_perfil_hepatico.values, y_perfil_hepatico)\n",
    "calinski = calinski_harabasz_score(df_perfil_hepatico.values, y_perfil_hepatico)\n",
    "\n",
    "print(\"SILHOUETTE SCORE: \", silhouette, end = \"\\n\")\n",
    "print(\"DAVIS-BOULDIN SCORE: \", davies_bouldin, end = \"\\n\")\n",
    "print(\"CALINSKI-HARABASZ SCORE: \", calinski, end = \"\\n\")"
   ]
  },
  {
   "cell_type": "markdown",
   "metadata": {},
   "source": [
    "### DATASET ureia"
   ]
  },
  {
   "cell_type": "markdown",
   "metadata": {},
   "source": [
    "#### Recebendo os hiper-parâmetros testados acima"
   ]
  },
  {
   "cell_type": "code",
   "execution_count": 40,
   "metadata": {},
   "outputs": [],
   "source": [
    "hiperparametros_meanshift = ParametrosMeanshift(path_arquivo_hiperparametros = \"./hiperparametros/hiperparametros_meanshift.txt\", nome_dataset = \"ureia\")"
   ]
  },
  {
   "cell_type": "markdown",
   "metadata": {},
   "source": [
    "#### Criando o modelo - seguindo o resultado alcançado nos testes acima"
   ]
  },
  {
   "cell_type": "code",
   "execution_count": 41,
   "metadata": {},
   "outputs": [],
   "source": [
    "simple_input = SimpleImputer(missing_values = np.nan, strategy = \"most_frequent\")\n",
    "df_ureia_sem_nulos = simple_input.fit_transform(df_ureia.values)"
   ]
  },
  {
   "cell_type": "code",
   "execution_count": 42,
   "metadata": {},
   "outputs": [],
   "source": [
    "X_train, X_test = train_test_split(df_ureia_sem_nulos, test_size = 0.3, random_state = hiperparametros_meanshift.getSemente_randomica())"
   ]
  },
  {
   "cell_type": "code",
   "execution_count": 43,
   "metadata": {},
   "outputs": [],
   "source": [
    "bandwidth = estimate_bandwidth(X = df_ureia_sem_nulos,\n",
    "                               quantile = hiperparametros_meanshift.getQuantil(),\n",
    "                               random_state = hiperparametros_meanshift.getSemente_randomica())\n",
    "\n",
    "meanshift_ureia = Meanshift(bandwidth = bandwidth,\n",
    "                            usar_versao_discreta_pontos = hiperparametros_meanshift.getUsar_versao_discreta_pontos(),\n",
    "                            frequencia_minima = hiperparametros_meanshift.getFrequencia_minima(),\n",
    "                            clusterizar_todos_pontos = hiperparametros_meanshift.getClusterizar_todos_pontos(),\n",
    "                            nro_threads = hiperparametros_meanshift.getNro_threads(),\n",
    "                            nro_max_iteracoes = hiperparametros_meanshift.getNro_max_iteracoes())\n",
    "\n",
    "meanshift_ureia.fit(X_train)\n",
    "y_perfil_hepatico = meanshift_ureia.predict(X_test)"
   ]
  },
  {
   "cell_type": "markdown",
   "metadata": {},
   "source": [
    "##### Verificando resultados do modelo"
   ]
  },
  {
   "cell_type": "code",
   "execution_count": 44,
   "metadata": {},
   "outputs": [
    {
     "name": "stdout",
     "output_type": "stream",
     "text": [
      "SILHOUETTE SCORE:  0.992798917984213\n",
      "DAVIS-BOULDIN SCORE:  0.006024636348133094\n",
      "CALINSKI-HARABASZ SCORE:  248.25227691122095\n"
     ]
    }
   ],
   "source": [
    "if len(np.unique(meanshift_ureia.getLabels())) > 1:\n",
    "    silhouette = silhouette_score(X_test, y_perfil_hepatico, metric = \"cityblock\")\n",
    "    davies_bouldin = davies_bouldin_score(X_test, y_perfil_hepatico)\n",
    "    calinski = calinski_harabasz_score(X_test, y_perfil_hepatico)\n",
    "\n",
    "    print(\"SILHOUETTE SCORE: \", silhouette, end = \"\\n\")\n",
    "    print(\"DAVIS-BOULDIN SCORE: \", davies_bouldin, end = \"\\n\")\n",
    "    print(\"CALINSKI-HARABASZ SCORE: \", calinski, end = \"\\n\")"
   ]
  },
  {
   "cell_type": "markdown",
   "metadata": {},
   "source": [
    "### DATASET creatinina"
   ]
  },
  {
   "cell_type": "markdown",
   "metadata": {},
   "source": [
    "#### Recebendo os hiper-parâmetros testados acima"
   ]
  },
  {
   "cell_type": "code",
   "execution_count": 30,
   "metadata": {},
   "outputs": [],
   "source": [
    "hiperparametros_meanshift = ParametrosMeanshift(path_arquivo_hiperparametros = \"./hiperparametros/hiperparametros_meanshift.txt\", nome_dataset = \"creatinina\")"
   ]
  },
  {
   "cell_type": "markdown",
   "metadata": {},
   "source": [
    "#### Criando o modelo - seguindo o resultado alcançado nos testes acima"
   ]
  },
  {
   "cell_type": "code",
   "execution_count": 31,
   "metadata": {},
   "outputs": [],
   "source": [
    "simple_input = SimpleImputer(missing_values = np.nan, strategy = \"most_frequent\")\n",
    "df_creatinina_sem_nulos = simple_input.fit_transform(df_creatinina.values)"
   ]
  },
  {
   "cell_type": "code",
   "execution_count": 32,
   "metadata": {},
   "outputs": [],
   "source": [
    "X_train, X_test = train_test_split(df_creatinina_sem_nulos, test_size = 0.3, random_state = hiperparametros_meanshift.getSemente_randomica())"
   ]
  },
  {
   "cell_type": "code",
   "execution_count": 33,
   "metadata": {},
   "outputs": [],
   "source": [
    "bandwidth = estimate_bandwidth(X = df_perfil_hepatico,\n",
    "                               quantile = hiperparametros_meanshift.getQuantil(),\n",
    "                               random_state = hiperparametros_meanshift.getSemente_randomica())\n",
    "\n",
    "meanshift_creatinina = Meanshift(bandwidth = bandwidth,\n",
    "                                 usar_versao_discreta_pontos = hiperparametros_meanshift.getUsar_versao_discreta_pontos(),\n",
    "                                 frequencia_minima = hiperparametros_meanshift.getFrequencia_minima(),\n",
    "                                 clusterizar_todos_pontos = hiperparametros_meanshift.getClusterizar_todos_pontos(),\n",
    "                                 nro_threads = hiperparametros_meanshift.getNro_threads(),\n",
    "                                 nro_max_iteracoes = hiperparametros_meanshift.getNro_max_iteracoes())\n",
    "\n",
    "meanshift_creatinina.fit(X_train)\n",
    "y_creatinina = meanshift_creatinina.predict(X_test)"
   ]
  },
  {
   "cell_type": "markdown",
   "metadata": {},
   "source": [
    "##### Verificando resultados do modelo"
   ]
  },
  {
   "cell_type": "code",
   "execution_count": 34,
   "metadata": {},
   "outputs": [],
   "source": [
    "if len(np.unique(meanshift_creatinina.getLabels())) > 1:\n",
    "    silhouette = silhouette_score(X_test, y_creatinina, metric = \"cityblock\")\n",
    "    davies_bouldin = davies_bouldin_score(X_test, y_creatinina)\n",
    "    calinski = calinski_harabasz_score(X_test, y_creatinina)\n",
    "\n",
    "    print(\"SILHOUETTE SCORE: \", silhouette, end = \"\\n\")\n",
    "    print(\"DAVIS-BOULDIN SCORE: \", davies_bouldin, end = \"\\n\")\n",
    "    print(\"CALINSKI-HARABASZ SCORE: \", calinski, end = \"\\n\")"
   ]
  }
 ],
 "metadata": {
  "kernelspec": {
   "display_name": ".petca-venv",
   "language": "python",
   "name": "python3"
  },
  "language_info": {
   "codemirror_mode": {
    "name": "ipython",
    "version": 3
   },
   "file_extension": ".py",
   "mimetype": "text/x-python",
   "name": "python",
   "nbconvert_exporter": "python",
   "pygments_lexer": "ipython3",
   "version": "3.12.3"
  }
 },
 "nbformat": 4,
 "nbformat_minor": 2
}
