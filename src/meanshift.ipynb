{
 "cells": [
  {
   "cell_type": "markdown",
   "metadata": {},
   "source": [
    "# Algoritmo MeanShift"
   ]
  },
  {
   "cell_type": "markdown",
   "metadata": {},
   "source": [
    "## Índice"
   ]
  },
  {
   "cell_type": "markdown",
   "metadata": {},
   "source": [
    "- [Link para retornar ao notebook principal](#retornar-para-notebook-principal---mainipynb)\n",
    "- [Importando bibliotecas e pacotes](#importando-bibliotecas-e-pacotes)\n",
    "- [Importando datasets](#importando-datasets)\n",
    "- [Testes com o algoritmo](#testes-com-o-algoritmo)\n",
    "- [Aplicando o algoritmo MeanShift]()"
   ]
  },
  {
   "cell_type": "markdown",
   "metadata": {},
   "source": [
    "## Retornar para notebook principal - main.ipynb"
   ]
  },
  {
   "cell_type": "markdown",
   "metadata": {},
   "source": [
    "[Link para notebook principal](./main.ipynb)"
   ]
  },
  {
   "cell_type": "markdown",
   "metadata": {},
   "source": [
    "## Importando bibliotecas e pacotes"
   ]
  },
  {
   "cell_type": "code",
   "execution_count": 1,
   "metadata": {},
   "outputs": [],
   "source": [
    "from sklearn.metrics import silhouette_score, davies_bouldin_score, calinski_harabasz_score\n",
    "from sklearn.cluster import MeanShift, estimate_bandwidth\n",
    "from sklearn.model_selection import GridSearchCV\n",
    "from utils.parametros import ParametrosMeanshift\n",
    "from models.meanshift import Meanshift\n",
    "from matplotlib import pyplot as plt\n",
    "import seaborn as sns\n",
    "import pandas as pd\n",
    "import numpy as np"
   ]
  },
  {
   "cell_type": "markdown",
   "metadata": {},
   "source": [
    "## Importando datasets"
   ]
  },
  {
   "cell_type": "code",
   "execution_count": 2,
   "metadata": {},
   "outputs": [],
   "source": [
    "df_funcao_renal = pd.read_csv(\"../databases/raw/InputFuncaoRenal.csv\", sep = \",\", index_col = \"subject_id\")\n",
    "df_dieta_grupos = pd.read_csv(\"../databases/raw/dva_dieta_grupos.csv\", sep = \",\", index_col = \"subject_id\")\n",
    "df_perfil_hepatico = pd.read_csv(\"../databases/raw/InputPerfilHepatico.csv\", sep = \",\", index_col = \"subject_id\")"
   ]
  },
  {
   "cell_type": "markdown",
   "metadata": {},
   "source": [
    "## Testes com o Algoritmo"
   ]
  },
  {
   "cell_type": "markdown",
   "metadata": {},
   "source": [
    "### DATASET Funcao Renal"
   ]
  },
  {
   "cell_type": "code",
   "execution_count": 3,
   "metadata": {},
   "outputs": [
    {
     "name": "stdout",
     "output_type": "stream",
     "text": [
      "PARA O QUANTIL < 0.2 > OS RESULTADOS SÃO:\n",
      "====================\n",
      "SILHOUETTE SCORE:  [1.0, -0.00013345789403449188, 1.0, 1.0, 1.0, 1.0]\n",
      "DAVIS-BOULDIN SCORE:  0.0\n",
      "CALINSKI-HARABASZ SCORE:  1.0\n",
      "====================\n",
      "\n",
      "\n",
      "PARA O QUANTIL < 0.25 > OS RESULTADOS SÃO:\n",
      "====================\n",
      "SILHOUETTE SCORE:  [0.767706173302503, 0.12370790505587803, 0.7645057772236232, 0.767706173302503, 0.7645057772236232, 0.767706173302503]\n",
      "DAVIS-BOULDIN SCORE:  0.7393294782399168\n",
      "CALINSKI-HARABASZ SCORE:  21579.78483257319\n",
      "====================\n",
      "\n",
      "\n",
      "PARA O QUANTIL < 0.3 > OS RESULTADOS SÃO:\n",
      "====================\n",
      "SILHOUETTE SCORE:  [0.7820985425449464, 0.02397030346205312, 0.7738723041669752, 0.7820985425449464, 0.7738723041669752, 0.7820985425449464]\n",
      "DAVIS-BOULDIN SCORE:  0.6926368214558204\n",
      "CALINSKI-HARABASZ SCORE:  21912.91814080217\n",
      "====================\n",
      "\n",
      "\n",
      "PARA O QUANTIL < 0.4 > OS RESULTADOS SÃO:\n",
      "====================\n",
      "SILHOUETTE SCORE:  [0.7445469068674132, 0.14252289831332657, 0.7189695777536332, 0.7445469068674132, 0.7189695777536332, 0.7445469068674132]\n",
      "DAVIS-BOULDIN SCORE:  0.8108048477735894\n",
      "CALINSKI-HARABASZ SCORE:  18584.83559834333\n",
      "====================\n",
      "\n",
      "\n",
      "PARA O QUANTIL < 0.5 > OS RESULTADOS SÃO:\n",
      "====================\n",
      "SILHOUETTE SCORE:  [0.7253300440512355, 0.15309601448814728, 0.7251926137912906, 0.7253300440512355, 0.7251926137912906, 0.7253300440512355]\n",
      "DAVIS-BOULDIN SCORE:  0.6113711182191346\n",
      "CALINSKI-HARABASZ SCORE:  25146.47999369303\n",
      "====================\n",
      "\n",
      "\n",
      "PARA O QUANTIL < 0.6 > OS RESULTADOS SÃO:\n",
      "====================\n",
      "SILHOUETTE SCORE:  [0.7380175135237754, 0.18810217728218312, 0.7141329406844735, 0.7380175135237754, 0.7141329406844735, 0.7380175135237754]\n",
      "DAVIS-BOULDIN SCORE:  0.5324779436270574\n",
      "CALINSKI-HARABASZ SCORE:  19704.887038093548\n",
      "====================\n",
      "\n",
      "\n"
     ]
    }
   ],
   "source": [
    "quantis_escolhidos = [0.2, 0.25, 0.3, 0.4, 0.5, 0.6]\n",
    "\n",
    "for quantil in quantis_escolhidos:\n",
    "    bandwidth = estimate_bandwidth(X = df_funcao_renal, quantile = quantil, random_state = 42)\n",
    "    meanshift = Meanshift(bandwidth = bandwidth,\n",
    "                          nro_max_iteracoes = 500)\n",
    "    meanshift.fit(df_funcao_renal)\n",
    "    y_funcao_renal = meanshift.fit_predict(df_funcao_renal)\n",
    "    \n",
    "    silhouette = []\n",
    "\n",
    "    for metrica in [\"cityblock\", \"cosine\", \"euclidean\", \"l1\", \"l2\", \"manhattan\"]:\n",
    "        silhouette.append(silhouette_score(df_funcao_renal, y_funcao_renal, metric = metrica))\n",
    "\n",
    "    davies_bouldin = davies_bouldin_score(df_funcao_renal, y_funcao_renal)\n",
    "    calinski = calinski_harabasz_score(df_funcao_renal, y_funcao_renal)\n",
    "\n",
    "    print(f\"PARA O QUANTIL < {quantil} > OS RESULTADOS SÃO:\", end = \"\\n\")\n",
    "    print(\"=\" * 20)\n",
    "    print(\"SILHOUETTE SCORE: \", silhouette, end = \"\\n\")\n",
    "    print(\"DAVIS-BOULDIN SCORE: \", davies_bouldin, end = \"\\n\")\n",
    "    print(\"CALINSKI-HARABASZ SCORE: \", calinski, end = \"\\n\")\n",
    "    print(\"=\" * 20, end = \"\\n\\n\\n\")"
   ]
  }
 ],
 "metadata": {
  "kernelspec": {
   "display_name": ".petca-venv",
   "language": "python",
   "name": "python3"
  },
  "language_info": {
   "codemirror_mode": {
    "name": "ipython",
    "version": 3
   },
   "file_extension": ".py",
   "mimetype": "text/x-python",
   "name": "python",
   "nbconvert_exporter": "python",
   "pygments_lexer": "ipython3",
   "version": "3.12.3"
  }
 },
 "nbformat": 4,
 "nbformat_minor": 2
}
