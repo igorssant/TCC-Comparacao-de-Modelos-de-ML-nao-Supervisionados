{
 "cells": [
  {
   "cell_type": "markdown",
   "metadata": {},
   "source": [
    "# Gerando Datasets de Imagens"
   ]
  },
  {
   "cell_type": "markdown",
   "metadata": {},
   "source": [
    "## Índice"
   ]
  },
  {
   "cell_type": "markdown",
   "metadata": {},
   "source": [
    "- [Link para retornar ao notebook principal](#retornar-para-notebook-principal---mainipynb)\n",
    "- [Importando bibliotecas e pacotes](#importando-bibliotecas-e-pacotes)\n",
    "- [Importando datasets](#importando-datasets)\n",
    "- [Dataset Ureia (7 dias)](#dataset-ureia-7-dias)"
   ]
  },
  {
   "cell_type": "markdown",
   "metadata": {},
   "source": [
    "## Retornar para notebook principal - main.ipynb"
   ]
  },
  {
   "cell_type": "markdown",
   "metadata": {},
   "source": [
    "[Link para notebook principal](./main.ipynb)"
   ]
  },
  {
   "cell_type": "markdown",
   "metadata": {},
   "source": [
    "## Importando bibliotecas e pacotes"
   ]
  },
  {
   "cell_type": "code",
   "execution_count": 16,
   "metadata": {},
   "outputs": [],
   "source": [
    "from utils.alterar_dataset import  deletar_valores_absurdos, preencher_valores_faltantes_linha, despivotear_dataset\n",
    "from utils.gerar_grafico import gerar_dataframe_imagens_ureia\n",
    "from matplotlib import pyplot as plt\n",
    "from PIL import Image\n",
    "import pandas as pd\n",
    "import numpy as np\n",
    "import io"
   ]
  },
  {
   "cell_type": "markdown",
   "metadata": {},
   "source": [
    "## Importando datasets"
   ]
  },
  {
   "cell_type": "code",
   "execution_count": 2,
   "metadata": {},
   "outputs": [],
   "source": [
    "df_ureia_7_dias = pd.read_csv(\"../databases/raw/ureia.csv\", sep = \",\", index_col = \"subject_id\")\n",
    "df_creatinina_7_dias = pd.read_csv(\"../databases/raw/creatinina.csv\", sep = \",\", index_col = \"subject_id\")\n",
    "df_ureia_15_dias = pd.read_csv(\"../databases/raw/Ureia15dias.csv\", sep = \",\", index_col = \"subject_id\")\n",
    "df_creatinina_15_dias = pd.read_csv(\"../databases/raw/Creatinina15dias.csv\", sep = \",\", index_col = \"subject_id\")"
   ]
  },
  {
   "cell_type": "markdown",
   "metadata": {},
   "source": [
    "## DATASET ureia (7-dias)"
   ]
  },
  {
   "cell_type": "markdown",
   "metadata": {},
   "source": [
    "### Estrutura do dataset"
   ]
  },
  {
   "cell_type": "code",
   "execution_count": null,
   "metadata": {},
   "outputs": [],
   "source": [
    "df_ureia_7_dias.head()"
   ]
  },
  {
   "cell_type": "markdown",
   "metadata": {},
   "source": [
    "### Verificando existências de valores não numéricos & nulos"
   ]
  },
  {
   "cell_type": "code",
   "execution_count": null,
   "metadata": {},
   "outputs": [],
   "source": [
    "df_ureia_7_dias.isna().sum()"
   ]
  },
  {
   "cell_type": "markdown",
   "metadata": {},
   "source": [
    "### Despivoteando o dataset"
   ]
  },
  {
   "cell_type": "code",
   "execution_count": null,
   "metadata": {},
   "outputs": [],
   "source": [
    "df_ureia_7_dias = despivotear_dataset(df_ureia_7_dias.reset_index(inplace = False),\n",
    "                                      [\"subject_id\"],\n",
    "                                      df_ureia_7_dias.columns.to_list(),\n",
    "                                      \"ureia\",\n",
    "                                      \"dia\")\n",
    "\n",
    "df_ureia_7_dias = df_ureia_7_dias.iloc[0:51]\n",
    "df_ureia_7_dias.head(10)"
   ]
  },
  {
   "cell_type": "markdown",
   "metadata": {},
   "source": [
    "### Gerando DataSet de Imagens"
   ]
  },
  {
   "cell_type": "code",
   "execution_count": null,
   "metadata": {},
   "outputs": [],
   "source": [
    "df_ureia_7_dias_imagens = gerar_dataframe_imagens_ureia(\n",
    "    df_ureia_7_dias.set_index(\n",
    "        [\"subject_id\"],\n",
    "        inplace = False\n",
    "    )\n",
    ")\n",
    "df_ureia_7_dias_imagens.head()"
   ]
  },
  {
   "cell_type": "code",
   "execution_count": null,
   "metadata": {},
   "outputs": [],
   "source": [
    "image_data_bytes = df_ureia_7_dias_imagens[\"img_ureia\"][3]\n",
    "image = Image.open(io.BytesIO(image_data_bytes))\n",
    "plt.imshow(image)"
   ]
  }
 ],
 "metadata": {
  "kernelspec": {
   "display_name": ".petca-venv",
   "language": "python",
   "name": "python3"
  },
  "language_info": {
   "codemirror_mode": {
    "name": "ipython",
    "version": 3
   },
   "file_extension": ".py",
   "mimetype": "text/x-python",
   "name": "python",
   "nbconvert_exporter": "python",
   "pygments_lexer": "ipython3",
   "version": "3.12.3"
  }
 },
 "nbformat": 4,
 "nbformat_minor": 2
}
