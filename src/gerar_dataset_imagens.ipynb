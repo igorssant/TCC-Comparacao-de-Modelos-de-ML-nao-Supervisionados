{
 "cells": [
  {
   "cell_type": "markdown",
   "metadata": {},
   "source": [
    "# Gerando Datasets de Imagens"
   ]
  },
  {
   "cell_type": "markdown",
   "metadata": {},
   "source": [
    "## Índice"
   ]
  },
  {
   "cell_type": "markdown",
   "metadata": {},
   "source": [
    "- [Link para retornar ao notebook principal](#retornar-para-notebook-principal---mainipynb)\n",
    "- [Importando bibliotecas e pacotes](#importando-bibliotecas-e-pacotes)\n",
    "- [Importando datasets](#importando-datasets)\n",
    "- [Dataset Ureia (7 dias)](#dataset-ureia-7-dias)"
   ]
  },
  {
   "cell_type": "markdown",
   "metadata": {},
   "source": [
    "## Retornar para notebook principal - main.ipynb"
   ]
  },
  {
   "cell_type": "markdown",
   "metadata": {},
   "source": [
    "[Link para notebook principal](./main.ipynb)"
   ]
  },
  {
   "cell_type": "markdown",
   "metadata": {},
   "source": [
    "## Importando bibliotecas e pacotes"
   ]
  },
  {
   "cell_type": "code",
   "execution_count": 1,
   "metadata": {},
   "outputs": [],
   "source": [
    "from utils.alterar_dataset import  deletar_valores_absurdos, preencher_valores_faltantes_linha, despivotear_dataset\n",
    "from utils.gerar_grafico import gerar_dataframe_imagens_ureia_despivoteado, gerar_dataframe_imagens_ureia_pivoteado\n",
    "from matplotlib import pyplot as plt\n",
    "from PIL import Image\n",
    "import pandas as pd\n",
    "import numpy as np\n",
    "import io"
   ]
  },
  {
   "cell_type": "markdown",
   "metadata": {},
   "source": [
    "## Importando datasets"
   ]
  },
  {
   "cell_type": "code",
   "execution_count": 2,
   "metadata": {},
   "outputs": [],
   "source": [
    "df_ureia_7_dias = pd.read_csv(\"../databases/raw/ureia.csv\", sep = \",\", index_col = \"subject_id\")\n",
    "df_creatinina_7_dias = pd.read_csv(\"../databases/raw/creatinina.csv\", sep = \",\", index_col = \"subject_id\")\n",
    "df_ureia_15_dias = pd.read_csv(\"../databases/raw/Ureia15dias.csv\", sep = \",\", index_col = \"subject_id\")\n",
    "df_creatinina_15_dias = pd.read_csv(\"../databases/raw/Creatinina15dias.csv\", sep = \",\", index_col = \"subject_id\")"
   ]
  },
  {
   "cell_type": "markdown",
   "metadata": {},
   "source": [
    "## DATASET ureia (7-dias)"
   ]
  },
  {
   "cell_type": "markdown",
   "metadata": {},
   "source": [
    "### Quantidade de linhas"
   ]
  },
  {
   "cell_type": "code",
   "execution_count": 3,
   "metadata": {},
   "outputs": [
    {
     "data": {
      "text/plain": [
       "42392"
      ]
     },
     "execution_count": 3,
     "metadata": {},
     "output_type": "execute_result"
    }
   ],
   "source": [
    "df_ureia_7_dias.shape[0]"
   ]
  },
  {
   "cell_type": "markdown",
   "metadata": {},
   "source": [
    "Verificando possibilidade de divisão"
   ]
  },
  {
   "cell_type": "code",
   "execution_count": 4,
   "metadata": {},
   "outputs": [
    {
     "data": {
      "text/plain": [
       "3028.0"
      ]
     },
     "execution_count": 4,
     "metadata": {},
     "output_type": "execute_result"
    }
   ],
   "source": [
    "df_ureia_7_dias.shape[0] / 14"
   ]
  },
  {
   "cell_type": "markdown",
   "metadata": {},
   "source": [
    "O dataset original será dividido em 14 sub-datasets, para otimização na criação das imagens"
   ]
  },
  {
   "cell_type": "markdown",
   "metadata": {},
   "source": [
    "### Estrutura do dataset"
   ]
  },
  {
   "cell_type": "code",
   "execution_count": 5,
   "metadata": {},
   "outputs": [
    {
     "data": {
      "text/html": [
       "<div>\n",
       "<style scoped>\n",
       "    .dataframe tbody tr th:only-of-type {\n",
       "        vertical-align: middle;\n",
       "    }\n",
       "\n",
       "    .dataframe tbody tr th {\n",
       "        vertical-align: top;\n",
       "    }\n",
       "\n",
       "    .dataframe thead th {\n",
       "        text-align: right;\n",
       "    }\n",
       "</style>\n",
       "<table border=\"1\" class=\"dataframe\">\n",
       "  <thead>\n",
       "    <tr style=\"text-align: right;\">\n",
       "      <th></th>\n",
       "      <th>day</th>\n",
       "      <th>UreiaMaxDia</th>\n",
       "    </tr>\n",
       "    <tr>\n",
       "      <th>subject_id</th>\n",
       "      <th></th>\n",
       "      <th></th>\n",
       "    </tr>\n",
       "  </thead>\n",
       "  <tbody>\n",
       "    <tr>\n",
       "      <th>15158531</th>\n",
       "      <td>1</td>\n",
       "      <td>107.0</td>\n",
       "    </tr>\n",
       "    <tr>\n",
       "      <th>15158531</th>\n",
       "      <td>2</td>\n",
       "      <td>100.0</td>\n",
       "    </tr>\n",
       "    <tr>\n",
       "      <th>15158531</th>\n",
       "      <td>3</td>\n",
       "      <td>78.0</td>\n",
       "    </tr>\n",
       "    <tr>\n",
       "      <th>15158531</th>\n",
       "      <td>4</td>\n",
       "      <td>59.0</td>\n",
       "    </tr>\n",
       "    <tr>\n",
       "      <th>15158531</th>\n",
       "      <td>15</td>\n",
       "      <td>59.0</td>\n",
       "    </tr>\n",
       "  </tbody>\n",
       "</table>\n",
       "</div>"
      ],
      "text/plain": [
       "            day  UreiaMaxDia\n",
       "subject_id                  \n",
       "15158531      1        107.0\n",
       "15158531      2        100.0\n",
       "15158531      3         78.0\n",
       "15158531      4         59.0\n",
       "15158531     15         59.0"
      ]
     },
     "execution_count": 5,
     "metadata": {},
     "output_type": "execute_result"
    }
   ],
   "source": [
    "df_ureia_7_dias.head()"
   ]
  },
  {
   "cell_type": "markdown",
   "metadata": {},
   "source": [
    "### Verificando existências de valores não numéricos & nulos"
   ]
  },
  {
   "cell_type": "code",
   "execution_count": 6,
   "metadata": {},
   "outputs": [
    {
     "data": {
      "text/plain": [
       "day            0\n",
       "UreiaMaxDia    0\n",
       "dtype: int64"
      ]
     },
     "execution_count": 6,
     "metadata": {},
     "output_type": "execute_result"
    }
   ],
   "source": [
    "df_ureia_7_dias.isna().sum()"
   ]
  },
  {
   "cell_type": "markdown",
   "metadata": {},
   "source": [
    "### Dividindo o dataset"
   ]
  },
  {
   "cell_type": "code",
   "execution_count": 7,
   "metadata": {},
   "outputs": [],
   "source": [
    "passo = 3028\n",
    "parte_1 = df_ureia_7_dias.iloc[0:passo, :]\n",
    "parte_2 = df_ureia_7_dias.iloc[passo:(2*passo)]\n",
    "parte_3 = df_ureia_7_dias.iloc[(2*passo):(3*passo)]\n",
    "parte_4 = df_ureia_7_dias.iloc[(3*passo):(4*passo)]\n",
    "parte_5 = df_ureia_7_dias.iloc[(4*passo):(5*passo)]\n",
    "parte_6 = df_ureia_7_dias.iloc[(5*passo):(6*passo)]\n",
    "parte_7 = df_ureia_7_dias.iloc[(6*passo):(7*passo)]\n",
    "parte_8 = df_ureia_7_dias.iloc[(7*passo):(8*passo)]\n",
    "parte_9 = df_ureia_7_dias.iloc[(8*passo):(9*passo)]\n",
    "parte_10 = df_ureia_7_dias.iloc[(9*passo):(10*passo)]\n",
    "parte_11 = df_ureia_7_dias.iloc[(10*passo):(11*passo)]\n",
    "parte_12 = df_ureia_7_dias.iloc[(11*passo):(12*passo)]\n",
    "parte_13 = df_ureia_7_dias.iloc[(12*passo):(13*passo)]\n",
    "parte_14 = df_ureia_7_dias.iloc[(13*passo):(14*passo)]"
   ]
  },
  {
   "cell_type": "markdown",
   "metadata": {},
   "source": [
    "### Despivoteando o dataset"
   ]
  },
  {
   "cell_type": "code",
   "execution_count": 8,
   "metadata": {},
   "outputs": [
    {
     "data": {
      "text/html": [
       "<div>\n",
       "<style scoped>\n",
       "    .dataframe tbody tr th:only-of-type {\n",
       "        vertical-align: middle;\n",
       "    }\n",
       "\n",
       "    .dataframe tbody tr th {\n",
       "        vertical-align: top;\n",
       "    }\n",
       "\n",
       "    .dataframe thead th {\n",
       "        text-align: right;\n",
       "    }\n",
       "</style>\n",
       "<table border=\"1\" class=\"dataframe\">\n",
       "  <thead>\n",
       "    <tr style=\"text-align: right;\">\n",
       "      <th></th>\n",
       "      <th>subject_id</th>\n",
       "      <th>dia</th>\n",
       "      <th>ureia</th>\n",
       "    </tr>\n",
       "  </thead>\n",
       "  <tbody>\n",
       "    <tr>\n",
       "      <th>0</th>\n",
       "      <td>15158531</td>\n",
       "      <td>day</td>\n",
       "      <td>1.0</td>\n",
       "    </tr>\n",
       "    <tr>\n",
       "      <th>1</th>\n",
       "      <td>15158531</td>\n",
       "      <td>day</td>\n",
       "      <td>2.0</td>\n",
       "    </tr>\n",
       "    <tr>\n",
       "      <th>2</th>\n",
       "      <td>15158531</td>\n",
       "      <td>day</td>\n",
       "      <td>3.0</td>\n",
       "    </tr>\n",
       "    <tr>\n",
       "      <th>3</th>\n",
       "      <td>15158531</td>\n",
       "      <td>day</td>\n",
       "      <td>4.0</td>\n",
       "    </tr>\n",
       "    <tr>\n",
       "      <th>4</th>\n",
       "      <td>15158531</td>\n",
       "      <td>day</td>\n",
       "      <td>15.0</td>\n",
       "    </tr>\n",
       "    <tr>\n",
       "      <th>5</th>\n",
       "      <td>15158531</td>\n",
       "      <td>day</td>\n",
       "      <td>16.0</td>\n",
       "    </tr>\n",
       "    <tr>\n",
       "      <th>6</th>\n",
       "      <td>15158531</td>\n",
       "      <td>day</td>\n",
       "      <td>17.0</td>\n",
       "    </tr>\n",
       "    <tr>\n",
       "      <th>7</th>\n",
       "      <td>15158531</td>\n",
       "      <td>day</td>\n",
       "      <td>18.0</td>\n",
       "    </tr>\n",
       "    <tr>\n",
       "      <th>8</th>\n",
       "      <td>14800685</td>\n",
       "      <td>day</td>\n",
       "      <td>2.0</td>\n",
       "    </tr>\n",
       "    <tr>\n",
       "      <th>9</th>\n",
       "      <td>13697731</td>\n",
       "      <td>day</td>\n",
       "      <td>3.0</td>\n",
       "    </tr>\n",
       "  </tbody>\n",
       "</table>\n",
       "</div>"
      ],
      "text/plain": [
       "   subject_id  dia  ureia\n",
       "0    15158531  day    1.0\n",
       "1    15158531  day    2.0\n",
       "2    15158531  day    3.0\n",
       "3    15158531  day    4.0\n",
       "4    15158531  day   15.0\n",
       "5    15158531  day   16.0\n",
       "6    15158531  day   17.0\n",
       "7    15158531  day   18.0\n",
       "8    14800685  day    2.0\n",
       "9    13697731  day    3.0"
      ]
     },
     "execution_count": 8,
     "metadata": {},
     "output_type": "execute_result"
    }
   ],
   "source": [
    "df_ureia_7_dias = despivotear_dataset(df_ureia_7_dias.reset_index(inplace = False),\n",
    "                                      [\"subject_id\"],\n",
    "                                      df_ureia_7_dias.columns.to_list(),\n",
    "                                      \"ureia\",\n",
    "                                      \"dia\")\n",
    "\n",
    "df_ureia_7_dias = df_ureia_7_dias.iloc[0:51]\n",
    "df_ureia_7_dias.head(10)"
   ]
  },
  {
   "cell_type": "markdown",
   "metadata": {},
   "source": [
    "### Gerando DataSet de Imagens"
   ]
  },
  {
   "cell_type": "code",
   "execution_count": null,
   "metadata": {},
   "outputs": [],
   "source": [
    "parte_1 = gerar_dataframe_imagens_ureia_pivoteado(parte_1)\n",
    "parte_2 = gerar_dataframe_imagens_ureia_pivoteado(parte_2)\n",
    "parte_3 = gerar_dataframe_imagens_ureia_pivoteado(parte_3)\n",
    "parte_4 = gerar_dataframe_imagens_ureia_pivoteado(parte_4)\n",
    "parte_5 = gerar_dataframe_imagens_ureia_pivoteado(parte_5)\n",
    "parte_6 = gerar_dataframe_imagens_ureia_pivoteado(parte_6)\n",
    "parte_7 = gerar_dataframe_imagens_ureia_pivoteado(parte_7)\n",
    "parte_8 = gerar_dataframe_imagens_ureia_pivoteado(parte_8)\n",
    "parte_9 = gerar_dataframe_imagens_ureia_pivoteado(parte_9)\n",
    "parte_10 = gerar_dataframe_imagens_ureia_pivoteado(parte_10)\n",
    "parte_11 = gerar_dataframe_imagens_ureia_pivoteado(parte_11)\n",
    "parte_12 = gerar_dataframe_imagens_ureia_pivoteado(parte_12)\n",
    "parte_13 = gerar_dataframe_imagens_ureia_pivoteado(parte_13)\n",
    "parte_14 = gerar_dataframe_imagens_ureia_pivoteado(parte_14)"
   ]
  },
  {
   "cell_type": "code",
   "execution_count": 9,
   "metadata": {},
   "outputs": [
    {
     "data": {
      "text/html": [
       "<div>\n",
       "<style scoped>\n",
       "    .dataframe tbody tr th:only-of-type {\n",
       "        vertical-align: middle;\n",
       "    }\n",
       "\n",
       "    .dataframe tbody tr th {\n",
       "        vertical-align: top;\n",
       "    }\n",
       "\n",
       "    .dataframe thead th {\n",
       "        text-align: right;\n",
       "    }\n",
       "</style>\n",
       "<table border=\"1\" class=\"dataframe\">\n",
       "  <thead>\n",
       "    <tr style=\"text-align: right;\">\n",
       "      <th></th>\n",
       "      <th>subject_id</th>\n",
       "      <th>img_ureia</th>\n",
       "    </tr>\n",
       "  </thead>\n",
       "  <tbody>\n",
       "    <tr>\n",
       "      <th>0</th>\n",
       "      <td>15158531</td>\n",
       "      <td>b'\\xff\\xd8\\xff\\xe0\\x00\\x10JFIF\\x00\\x01\\x01\\x01...</td>\n",
       "    </tr>\n",
       "    <tr>\n",
       "      <th>1</th>\n",
       "      <td>15158531</td>\n",
       "      <td>b'\\xff\\xd8\\xff\\xe0\\x00\\x10JFIF\\x00\\x01\\x01\\x01...</td>\n",
       "    </tr>\n",
       "    <tr>\n",
       "      <th>2</th>\n",
       "      <td>15158531</td>\n",
       "      <td>b'\\xff\\xd8\\xff\\xe0\\x00\\x10JFIF\\x00\\x01\\x01\\x01...</td>\n",
       "    </tr>\n",
       "    <tr>\n",
       "      <th>3</th>\n",
       "      <td>15158531</td>\n",
       "      <td>b'\\xff\\xd8\\xff\\xe0\\x00\\x10JFIF\\x00\\x01\\x01\\x01...</td>\n",
       "    </tr>\n",
       "    <tr>\n",
       "      <th>4</th>\n",
       "      <td>15158531</td>\n",
       "      <td>b'\\xff\\xd8\\xff\\xe0\\x00\\x10JFIF\\x00\\x01\\x01\\x01...</td>\n",
       "    </tr>\n",
       "  </tbody>\n",
       "</table>\n",
       "</div>"
      ],
      "text/plain": [
       "   subject_id                                          img_ureia\n",
       "0    15158531  b'\\xff\\xd8\\xff\\xe0\\x00\\x10JFIF\\x00\\x01\\x01\\x01...\n",
       "1    15158531  b'\\xff\\xd8\\xff\\xe0\\x00\\x10JFIF\\x00\\x01\\x01\\x01...\n",
       "2    15158531  b'\\xff\\xd8\\xff\\xe0\\x00\\x10JFIF\\x00\\x01\\x01\\x01...\n",
       "3    15158531  b'\\xff\\xd8\\xff\\xe0\\x00\\x10JFIF\\x00\\x01\\x01\\x01...\n",
       "4    15158531  b'\\xff\\xd8\\xff\\xe0\\x00\\x10JFIF\\x00\\x01\\x01\\x01..."
      ]
     },
     "execution_count": 9,
     "metadata": {},
     "output_type": "execute_result"
    }
   ],
   "source": [
    "df_ureia_7_dias_imagens = gerar_dataframe_imagens_ureia_despivoteado(\n",
    "    df_ureia_7_dias.set_index(\n",
    "        [\"subject_id\"],\n",
    "        inplace = False\n",
    "    )\n",
    ")\n",
    "df_ureia_7_dias_imagens.head()"
   ]
  },
  {
   "cell_type": "code",
   "execution_count": 10,
   "metadata": {},
   "outputs": [
    {
     "data": {
      "text/plain": [
       "<matplotlib.image.AxesImage at 0x779318d8a0f0>"
      ]
     },
     "execution_count": 10,
     "metadata": {},
     "output_type": "execute_result"
    },
    {
     "data": {
      "image/png": "[encoded data removed]",
      "text/plain": [
       "<Figure size 640x480 with 1 Axes>"
      ]
     },
     "metadata": {},
     "output_type": "display_data"
    }
   ],
   "source": [
    "image_data_bytes = df_ureia_7_dias_imagens[\"img_ureia\"][3]\n",
    "image = Image.open(io.BytesIO(image_data_bytes))\n",
    "plt.imshow(image)"
   ]
  }
 ],
 "metadata": {
  "kernelspec": {
   "display_name": ".petca-venv",
   "language": "python",
   "name": "python3"
  },
  "language_info": {
   "codemirror_mode": {
    "name": "ipython",
    "version": 3
   },
   "file_extension": ".py",
   "mimetype": "text/x-python",
   "name": "python",
   "nbconvert_exporter": "python",
   "pygments_lexer": "ipython3",
   "version": "3.12.3"
  }
 },
 "nbformat": 4,
 "nbformat_minor": 2
}
