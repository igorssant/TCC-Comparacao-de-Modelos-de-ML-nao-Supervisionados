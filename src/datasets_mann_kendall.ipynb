{
 "cells": [
  {
   "cell_type": "markdown",
   "metadata": {},
   "source": [
    "# Análise Exploratória dos Dados"
   ]
  },
  {
   "cell_type": "markdown",
   "metadata": {},
   "source": [
    "## Índice"
   ]
  },
  {
   "cell_type": "markdown",
   "metadata": {},
   "source": [
    "- [Link para retornar ao notebook principal](#retornar-para-notebook-principal---mainipynb)\n",
    "- [Importando bibliotecas e pacotes](#importando-bibliotecas-e-pacotes)\n",
    "- [Importando datasets](#importando-datasets)\n",
    "- [Breve apresentação dos dados](#breve-apresentacao-dos-dados)\n",
    "- [MeanShift](#meanshift)\n",
    "- [KMeans](#kmeans)\n",
    "- [Fuzzy C-Means](#fuzzy-c-means)\n",
    "- [DBSCAN](#dbscan)"
   ]
  },
  {
   "cell_type": "markdown",
   "metadata": {},
   "source": [
    "## Retornar para notebook principal - main.ipynb"
   ]
  },
  {
   "cell_type": "markdown",
   "metadata": {},
   "source": [
    "[Link para notebook principal](./main.ipynb)"
   ]
  },
  {
   "cell_type": "markdown",
   "metadata": {},
   "source": [
    "## Importando bibliotecas e pacotes"
   ]
  },
  {
   "cell_type": "code",
   "execution_count": 1,
   "metadata": {},
   "outputs": [],
   "source": [
    "from sklearn.cluster import KMeans, MeanShift, DBSCAN\n",
    "from matplotlib import pyplot as plt\n",
    "from fcmeans import FCM\n",
    "import seaborn as sns\n",
    "import pandas as pd\n",
    "import numpy as np"
   ]
  },
  {
   "cell_type": "markdown",
   "metadata": {},
   "source": [
    "## Importando datasets"
   ]
  },
  {
   "cell_type": "code",
   "execution_count": 2,
   "metadata": {},
   "outputs": [],
   "source": [
    "df_ureia = pd.read_csv(\"../databases/processed/ureia_valores_mann_kendall.csv\", sep = \",\", index_col = \"subject_id\")\n",
    "df_creatinina = pd.read_csv(\"../databases/processed/cretinina_valores_mann_kendall.csv\", sep = \",\", index_col = \"subject_id\")"
   ]
  },
  {
   "cell_type": "markdown",
   "metadata": {},
   "source": [
    "## Breve apresentacao dos dados"
   ]
  },
  {
   "cell_type": "markdown",
   "metadata": {},
   "source": [
    "### DATASET ureia"
   ]
  },
  {
   "cell_type": "code",
   "execution_count": 3,
   "metadata": {},
   "outputs": [
    {
     "data": {
      "text/html": [
       "<div>\n",
       "<style scoped>\n",
       "    .dataframe tbody tr th:only-of-type {\n",
       "        vertical-align: middle;\n",
       "    }\n",
       "\n",
       "    .dataframe tbody tr th {\n",
       "        vertical-align: top;\n",
       "    }\n",
       "\n",
       "    .dataframe thead th {\n",
       "        text-align: right;\n",
       "    }\n",
       "</style>\n",
       "<table border=\"1\" class=\"dataframe\">\n",
       "  <thead>\n",
       "    <tr style=\"text-align: right;\">\n",
       "      <th></th>\n",
       "      <th>Unnamed: 0</th>\n",
       "      <th>tendencia</th>\n",
       "      <th>p</th>\n",
       "      <th>z</th>\n",
       "      <th>Tau</th>\n",
       "      <th>inclinacao</th>\n",
       "      <th>intercepto</th>\n",
       "      <th>gender</th>\n",
       "      <th>dias_ureia_alta</th>\n",
       "    </tr>\n",
       "    <tr>\n",
       "      <th>subject_id</th>\n",
       "      <th></th>\n",
       "      <th></th>\n",
       "      <th></th>\n",
       "      <th></th>\n",
       "      <th></th>\n",
       "      <th></th>\n",
       "      <th></th>\n",
       "      <th></th>\n",
       "      <th></th>\n",
       "    </tr>\n",
       "  </thead>\n",
       "  <tbody>\n",
       "    <tr>\n",
       "      <th>10001884</th>\n",
       "      <td>0</td>\n",
       "      <td>0</td>\n",
       "      <td>0.094718</td>\n",
       "      <td>-1.671020</td>\n",
       "      <td>-0.571429</td>\n",
       "      <td>-3.20</td>\n",
       "      <td>39.60</td>\n",
       "      <td>1</td>\n",
       "      <td>0</td>\n",
       "    </tr>\n",
       "    <tr>\n",
       "      <th>10004422</th>\n",
       "      <td>1</td>\n",
       "      <td>0</td>\n",
       "      <td>0.171563</td>\n",
       "      <td>1.367198</td>\n",
       "      <td>0.476190</td>\n",
       "      <td>1.75</td>\n",
       "      <td>14.75</td>\n",
       "      <td>1</td>\n",
       "      <td>0</td>\n",
       "    </tr>\n",
       "    <tr>\n",
       "      <th>10004733</th>\n",
       "      <td>2</td>\n",
       "      <td>2</td>\n",
       "      <td>0.009809</td>\n",
       "      <td>-2.582485</td>\n",
       "      <td>-0.857143</td>\n",
       "      <td>-2.75</td>\n",
       "      <td>45.25</td>\n",
       "      <td>0</td>\n",
       "      <td>0</td>\n",
       "    </tr>\n",
       "    <tr>\n",
       "      <th>10005606</th>\n",
       "      <td>3</td>\n",
       "      <td>1</td>\n",
       "      <td>0.026224</td>\n",
       "      <td>2.222876</td>\n",
       "      <td>0.714286</td>\n",
       "      <td>1.25</td>\n",
       "      <td>6.25</td>\n",
       "      <td>1</td>\n",
       "      <td>0</td>\n",
       "    </tr>\n",
       "    <tr>\n",
       "      <th>10010867</th>\n",
       "      <td>4</td>\n",
       "      <td>0</td>\n",
       "      <td>0.272341</td>\n",
       "      <td>1.097688</td>\n",
       "      <td>0.380952</td>\n",
       "      <td>0.50</td>\n",
       "      <td>4.50</td>\n",
       "      <td>0</td>\n",
       "      <td>0</td>\n",
       "    </tr>\n",
       "    <tr>\n",
       "      <th>10019777</th>\n",
       "      <td>5</td>\n",
       "      <td>0</td>\n",
       "      <td>0.356441</td>\n",
       "      <td>-0.922168</td>\n",
       "      <td>-0.333333</td>\n",
       "      <td>-1.00</td>\n",
       "      <td>20.00</td>\n",
       "      <td>0</td>\n",
       "      <td>0</td>\n",
       "    </tr>\n",
       "    <tr>\n",
       "      <th>10020944</th>\n",
       "      <td>6</td>\n",
       "      <td>2</td>\n",
       "      <td>0.002667</td>\n",
       "      <td>-3.003757</td>\n",
       "      <td>-1.000000</td>\n",
       "      <td>-2.00</td>\n",
       "      <td>28.00</td>\n",
       "      <td>0</td>\n",
       "      <td>0</td>\n",
       "    </tr>\n",
       "    <tr>\n",
       "      <th>10023486</th>\n",
       "      <td>7</td>\n",
       "      <td>1</td>\n",
       "      <td>0.002667</td>\n",
       "      <td>3.003757</td>\n",
       "      <td>1.000000</td>\n",
       "      <td>5.25</td>\n",
       "      <td>47.25</td>\n",
       "      <td>1</td>\n",
       "      <td>7</td>\n",
       "    </tr>\n",
       "    <tr>\n",
       "      <th>10032381</th>\n",
       "      <td>8</td>\n",
       "      <td>1</td>\n",
       "      <td>0.007680</td>\n",
       "      <td>2.665813</td>\n",
       "      <td>0.857143</td>\n",
       "      <td>3.00</td>\n",
       "      <td>5.00</td>\n",
       "      <td>0</td>\n",
       "      <td>0</td>\n",
       "    </tr>\n",
       "    <tr>\n",
       "      <th>10035747</th>\n",
       "      <td>9</td>\n",
       "      <td>0</td>\n",
       "      <td>1.000000</td>\n",
       "      <td>0.000000</td>\n",
       "      <td>-0.047619</td>\n",
       "      <td>0.00</td>\n",
       "      <td>18.00</td>\n",
       "      <td>0</td>\n",
       "      <td>0</td>\n",
       "    </tr>\n",
       "  </tbody>\n",
       "</table>\n",
       "</div>"
      ],
      "text/plain": [
       "            Unnamed: 0  tendencia         p         z       Tau  inclinacao  \\\n",
       "subject_id                                                                    \n",
       "10001884             0          0  0.094718 -1.671020 -0.571429       -3.20   \n",
       "10004422             1          0  0.171563  1.367198  0.476190        1.75   \n",
       "10004733             2          2  0.009809 -2.582485 -0.857143       -2.75   \n",
       "10005606             3          1  0.026224  2.222876  0.714286        1.25   \n",
       "10010867             4          0  0.272341  1.097688  0.380952        0.50   \n",
       "10019777             5          0  0.356441 -0.922168 -0.333333       -1.00   \n",
       "10020944             6          2  0.002667 -3.003757 -1.000000       -2.00   \n",
       "10023486             7          1  0.002667  3.003757  1.000000        5.25   \n",
       "10032381             8          1  0.007680  2.665813  0.857143        3.00   \n",
       "10035747             9          0  1.000000  0.000000 -0.047619        0.00   \n",
       "\n",
       "            intercepto  gender  dias_ureia_alta  \n",
       "subject_id                                       \n",
       "10001884         39.60       1                0  \n",
       "10004422         14.75       1                0  \n",
       "10004733         45.25       0                0  \n",
       "10005606          6.25       1                0  \n",
       "10010867          4.50       0                0  \n",
       "10019777         20.00       0                0  \n",
       "10020944         28.00       0                0  \n",
       "10023486         47.25       1                7  \n",
       "10032381          5.00       0                0  \n",
       "10035747         18.00       0                0  "
      ]
     },
     "execution_count": 3,
     "metadata": {},
     "output_type": "execute_result"
    }
   ],
   "source": [
    "df_ureia.head(10)"
   ]
  },
  {
   "cell_type": "code",
   "execution_count": 4,
   "metadata": {},
   "outputs": [
    {
     "name": "stdout",
     "output_type": "stream",
     "text": [
      "<class 'pandas.core.frame.DataFrame'>\n",
      "Index: 3259 entries, 10001884 to 19999442\n",
      "Data columns (total 9 columns):\n",
      " #   Column           Non-Null Count  Dtype  \n",
      "---  ------           --------------  -----  \n",
      " 0   Unnamed: 0       3259 non-null   int64  \n",
      " 1   tendencia        3259 non-null   int64  \n",
      " 2   p                3259 non-null   float64\n",
      " 3   z                3259 non-null   float64\n",
      " 4   Tau              3259 non-null   float64\n",
      " 5   inclinacao       3259 non-null   float64\n",
      " 6   intercepto       3259 non-null   float64\n",
      " 7   gender           3259 non-null   int64  \n",
      " 8   dias_ureia_alta  3259 non-null   int64  \n",
      "dtypes: float64(5), int64(4)\n",
      "memory usage: 254.6 KB\n"
     ]
    }
   ],
   "source": [
    "df_ureia.info()"
   ]
  },
  {
   "cell_type": "markdown",
   "metadata": {},
   "source": [
    "### DATASET creatinina"
   ]
  },
  {
   "cell_type": "code",
   "execution_count": 5,
   "metadata": {},
   "outputs": [
    {
     "data": {
      "text/html": [
       "<div>\n",
       "<style scoped>\n",
       "    .dataframe tbody tr th:only-of-type {\n",
       "        vertical-align: middle;\n",
       "    }\n",
       "\n",
       "    .dataframe tbody tr th {\n",
       "        vertical-align: top;\n",
       "    }\n",
       "\n",
       "    .dataframe thead th {\n",
       "        text-align: right;\n",
       "    }\n",
       "</style>\n",
       "<table border=\"1\" class=\"dataframe\">\n",
       "  <thead>\n",
       "    <tr style=\"text-align: right;\">\n",
       "      <th></th>\n",
       "      <th>Unnamed: 0</th>\n",
       "      <th>tendencia</th>\n",
       "      <th>p</th>\n",
       "      <th>z</th>\n",
       "      <th>Tau</th>\n",
       "      <th>inclinacao</th>\n",
       "      <th>intercepto</th>\n",
       "      <th>gender</th>\n",
       "      <th>dias_creatinina_alta</th>\n",
       "    </tr>\n",
       "    <tr>\n",
       "      <th>subject_id</th>\n",
       "      <th></th>\n",
       "      <th></th>\n",
       "      <th></th>\n",
       "      <th></th>\n",
       "      <th></th>\n",
       "      <th></th>\n",
       "      <th></th>\n",
       "      <th></th>\n",
       "      <th></th>\n",
       "    </tr>\n",
       "  </thead>\n",
       "  <tbody>\n",
       "    <tr>\n",
       "      <th>10001884</th>\n",
       "      <td>0</td>\n",
       "      <td>2</td>\n",
       "      <td>0.022687</td>\n",
       "      <td>-2.278664</td>\n",
       "      <td>-0.761905</td>\n",
       "      <td>-0.100000</td>\n",
       "      <td>1.200</td>\n",
       "      <td>1</td>\n",
       "      <td>1</td>\n",
       "    </tr>\n",
       "    <tr>\n",
       "      <th>10004422</th>\n",
       "      <td>1</td>\n",
       "      <td>0</td>\n",
       "      <td>0.846451</td>\n",
       "      <td>-0.193649</td>\n",
       "      <td>-0.095238</td>\n",
       "      <td>0.000000</td>\n",
       "      <td>0.700</td>\n",
       "      <td>1</td>\n",
       "      <td>0</td>\n",
       "    </tr>\n",
       "    <tr>\n",
       "      <th>10004733</th>\n",
       "      <td>2</td>\n",
       "      <td>0</td>\n",
       "      <td>0.124306</td>\n",
       "      <td>-1.536947</td>\n",
       "      <td>-0.523810</td>\n",
       "      <td>-0.200000</td>\n",
       "      <td>4.000</td>\n",
       "      <td>0</td>\n",
       "      <td>7</td>\n",
       "    </tr>\n",
       "    <tr>\n",
       "      <th>10005606</th>\n",
       "      <td>3</td>\n",
       "      <td>0</td>\n",
       "      <td>0.180392</td>\n",
       "      <td>-1.339549</td>\n",
       "      <td>-0.428571</td>\n",
       "      <td>-0.025000</td>\n",
       "      <td>0.575</td>\n",
       "      <td>1</td>\n",
       "      <td>0</td>\n",
       "    </tr>\n",
       "    <tr>\n",
       "      <th>10010867</th>\n",
       "      <td>4</td>\n",
       "      <td>0</td>\n",
       "      <td>0.340762</td>\n",
       "      <td>-0.952661</td>\n",
       "      <td>-0.333333</td>\n",
       "      <td>-0.040000</td>\n",
       "      <td>0.620</td>\n",
       "      <td>0</td>\n",
       "      <td>0</td>\n",
       "    </tr>\n",
       "    <tr>\n",
       "      <th>10019777</th>\n",
       "      <td>5</td>\n",
       "      <td>2</td>\n",
       "      <td>0.031419</td>\n",
       "      <td>-2.151725</td>\n",
       "      <td>-0.714286</td>\n",
       "      <td>-0.100000</td>\n",
       "      <td>1.000</td>\n",
       "      <td>0</td>\n",
       "      <td>0</td>\n",
       "    </tr>\n",
       "    <tr>\n",
       "      <th>10020944</th>\n",
       "      <td>6</td>\n",
       "      <td>0</td>\n",
       "      <td>0.525358</td>\n",
       "      <td>0.635107</td>\n",
       "      <td>0.238095</td>\n",
       "      <td>0.025000</td>\n",
       "      <td>1.525</td>\n",
       "      <td>0</td>\n",
       "      <td>7</td>\n",
       "    </tr>\n",
       "    <tr>\n",
       "      <th>10023486</th>\n",
       "      <td>7</td>\n",
       "      <td>0</td>\n",
       "      <td>0.094718</td>\n",
       "      <td>-1.671020</td>\n",
       "      <td>-0.571429</td>\n",
       "      <td>-0.200000</td>\n",
       "      <td>3.700</td>\n",
       "      <td>1</td>\n",
       "      <td>7</td>\n",
       "    </tr>\n",
       "    <tr>\n",
       "      <th>10032381</th>\n",
       "      <td>8</td>\n",
       "      <td>0</td>\n",
       "      <td>0.211300</td>\n",
       "      <td>-1.250000</td>\n",
       "      <td>-0.285714</td>\n",
       "      <td>0.000000</td>\n",
       "      <td>1.200</td>\n",
       "      <td>0</td>\n",
       "      <td>0</td>\n",
       "    </tr>\n",
       "    <tr>\n",
       "      <th>10035747</th>\n",
       "      <td>9</td>\n",
       "      <td>0</td>\n",
       "      <td>0.126370</td>\n",
       "      <td>-1.528574</td>\n",
       "      <td>-0.476190</td>\n",
       "      <td>-0.033333</td>\n",
       "      <td>1.000</td>\n",
       "      <td>0</td>\n",
       "      <td>0</td>\n",
       "    </tr>\n",
       "  </tbody>\n",
       "</table>\n",
       "</div>"
      ],
      "text/plain": [
       "            Unnamed: 0  tendencia         p         z       Tau  inclinacao  \\\n",
       "subject_id                                                                    \n",
       "10001884             0          2  0.022687 -2.278664 -0.761905   -0.100000   \n",
       "10004422             1          0  0.846451 -0.193649 -0.095238    0.000000   \n",
       "10004733             2          0  0.124306 -1.536947 -0.523810   -0.200000   \n",
       "10005606             3          0  0.180392 -1.339549 -0.428571   -0.025000   \n",
       "10010867             4          0  0.340762 -0.952661 -0.333333   -0.040000   \n",
       "10019777             5          2  0.031419 -2.151725 -0.714286   -0.100000   \n",
       "10020944             6          0  0.525358  0.635107  0.238095    0.025000   \n",
       "10023486             7          0  0.094718 -1.671020 -0.571429   -0.200000   \n",
       "10032381             8          0  0.211300 -1.250000 -0.285714    0.000000   \n",
       "10035747             9          0  0.126370 -1.528574 -0.476190   -0.033333   \n",
       "\n",
       "            intercepto  gender  dias_creatinina_alta  \n",
       "subject_id                                            \n",
       "10001884         1.200       1                     1  \n",
       "10004422         0.700       1                     0  \n",
       "10004733         4.000       0                     7  \n",
       "10005606         0.575       1                     0  \n",
       "10010867         0.620       0                     0  \n",
       "10019777         1.000       0                     0  \n",
       "10020944         1.525       0                     7  \n",
       "10023486         3.700       1                     7  \n",
       "10032381         1.200       0                     0  \n",
       "10035747         1.000       0                     0  "
      ]
     },
     "execution_count": 5,
     "metadata": {},
     "output_type": "execute_result"
    }
   ],
   "source": [
    "df_creatinina.head(10)"
   ]
  },
  {
   "cell_type": "code",
   "execution_count": 6,
   "metadata": {},
   "outputs": [
    {
     "name": "stdout",
     "output_type": "stream",
     "text": [
      "<class 'pandas.core.frame.DataFrame'>\n",
      "Index: 3262 entries, 10001884 to 19999442\n",
      "Data columns (total 9 columns):\n",
      " #   Column                Non-Null Count  Dtype  \n",
      "---  ------                --------------  -----  \n",
      " 0   Unnamed: 0            3262 non-null   int64  \n",
      " 1   tendencia             3262 non-null   int64  \n",
      " 2   p                     3262 non-null   float64\n",
      " 3   z                     3262 non-null   float64\n",
      " 4   Tau                   3262 non-null   float64\n",
      " 5   inclinacao            3262 non-null   float64\n",
      " 6   intercepto            3262 non-null   float64\n",
      " 7   gender                3262 non-null   int64  \n",
      " 8   dias_creatinina_alta  3262 non-null   int64  \n",
      "dtypes: float64(5), int64(4)\n",
      "memory usage: 254.8 KB\n"
     ]
    }
   ],
   "source": [
    "df_creatinina.info()"
   ]
  },
  {
   "cell_type": "markdown",
   "metadata": {},
   "source": [
    "## Aplicação dos Algoritmos de Agrupamento"
   ]
  },
  {
   "cell_type": "markdown",
   "metadata": {},
   "source": [
    "### MeanShift"
   ]
  },
  {
   "cell_type": "markdown",
   "metadata": {},
   "source": [
    "#### DATASET ureia"
   ]
  },
  {
   "cell_type": "code",
   "execution_count": null,
   "metadata": {},
   "outputs": [],
   "source": []
  },
  {
   "cell_type": "markdown",
   "metadata": {},
   "source": [
    "#### DATASET creatinina"
   ]
  },
  {
   "cell_type": "code",
   "execution_count": null,
   "metadata": {},
   "outputs": [],
   "source": []
  },
  {
   "cell_type": "markdown",
   "metadata": {},
   "source": [
    "### KMeans"
   ]
  },
  {
   "cell_type": "markdown",
   "metadata": {},
   "source": [
    "#### DATASET ureia"
   ]
  },
  {
   "cell_type": "code",
   "execution_count": null,
   "metadata": {},
   "outputs": [],
   "source": []
  },
  {
   "cell_type": "markdown",
   "metadata": {},
   "source": [
    "#### DATASET creatinina"
   ]
  },
  {
   "cell_type": "code",
   "execution_count": null,
   "metadata": {},
   "outputs": [],
   "source": []
  },
  {
   "cell_type": "markdown",
   "metadata": {},
   "source": [
    "### Fuzzy C-Means"
   ]
  },
  {
   "cell_type": "markdown",
   "metadata": {},
   "source": [
    "#### DATASET ureia"
   ]
  },
  {
   "cell_type": "code",
   "execution_count": null,
   "metadata": {},
   "outputs": [],
   "source": []
  },
  {
   "cell_type": "markdown",
   "metadata": {},
   "source": [
    "#### DATASET creatinina"
   ]
  },
  {
   "cell_type": "code",
   "execution_count": null,
   "metadata": {},
   "outputs": [],
   "source": []
  },
  {
   "cell_type": "markdown",
   "metadata": {},
   "source": [
    "### DBSCAN"
   ]
  },
  {
   "cell_type": "markdown",
   "metadata": {},
   "source": [
    "#### DATASET ureia"
   ]
  },
  {
   "cell_type": "code",
   "execution_count": null,
   "metadata": {},
   "outputs": [],
   "source": []
  },
  {
   "cell_type": "markdown",
   "metadata": {},
   "source": [
    "#### DATASET creatinina"
   ]
  },
  {
   "cell_type": "code",
   "execution_count": null,
   "metadata": {},
   "outputs": [],
   "source": []
  }
 ],
 "metadata": {
  "kernelspec": {
   "display_name": ".petca-venv",
   "language": "python",
   "name": "python3"
  },
  "language_info": {
   "codemirror_mode": {
    "name": "ipython",
    "version": 3
   },
   "file_extension": ".py",
   "mimetype": "text/x-python",
   "name": "python",
   "nbconvert_exporter": "python",
   "pygments_lexer": "ipython3",
   "version": "3.12.3"
  }
 },
 "nbformat": 4,
 "nbformat_minor": 2
}
