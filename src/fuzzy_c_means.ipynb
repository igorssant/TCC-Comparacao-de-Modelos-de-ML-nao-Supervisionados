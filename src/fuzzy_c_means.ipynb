{
 "cells": [
  {
   "cell_type": "markdown",
   "metadata": {},
   "source": [
    "# Algoritmo Fuzzy C Means"
   ]
  },
  {
   "cell_type": "markdown",
   "metadata": {},
   "source": [
    "## Índice"
   ]
  },
  {
   "cell_type": "markdown",
   "metadata": {},
   "source": [
    "- [Link para retornar ao notebook principal](#retornar-para-notebook-principal---mainipynb)\n",
    "- [Importando bibliotecas e pacotes](#importando-bibliotecas-e-pacotes)\n",
    "- [Importando datasets](#importando-datasets)\n",
    "- [Testes com o algoritmo](#testes-com-o-algoritmo)\n",
    "- [Aplicando o algoritmo Fuzzy C Means](#implementação-do-algoritmo)"
   ]
  },
  {
   "cell_type": "markdown",
   "metadata": {},
   "source": [
    "## Retornar para notebook principal - main.ipynb"
   ]
  },
  {
   "cell_type": "markdown",
   "metadata": {},
   "source": [
    "[Link para notebook principal](./main.ipynb)"
   ]
  },
  {
   "cell_type": "markdown",
   "metadata": {},
   "source": [
    "## Importando bibliotecas e pacotes"
   ]
  },
  {
   "cell_type": "code",
   "execution_count": 2,
   "metadata": {},
   "outputs": [],
   "source": [
    "from sklearn.metrics import silhouette_score, davies_bouldin_score, calinski_harabasz_score\n",
    "from sklearn.model_selection import train_test_split\n",
    "from utils.parametros import ParametrosCmeans\n",
    "from matplotlib import pyplot as plt\n",
    "from fcmeans import FCM\n",
    "import seaborn as sns\n",
    "import pandas as pd\n",
    "import numpy as np"
   ]
  },
  {
   "cell_type": "markdown",
   "metadata": {},
   "source": [
    "## Importando datasets"
   ]
  },
  {
   "cell_type": "code",
   "execution_count": 3,
   "metadata": {},
   "outputs": [],
   "source": [
    "df_funcao_renal = pd.read_csv(\"../databases/raw/InputFuncaoRenal.csv\", sep = \",\", index_col = \"subject_id\")\n",
    "df_dieta_grupos = pd.read_csv(\"../databases/raw/dva_dieta_grupos.csv\", sep = \",\", index_col = \"subject_id\")\n",
    "df_perfil_hepatico = pd.read_csv(\"../databases/raw/InputPerfilHepatico.csv\", sep = \",\", index_col = \"subject_id\")"
   ]
  },
  {
   "cell_type": "markdown",
   "metadata": {},
   "source": [
    "## Testes com o Algoritmo"
   ]
  },
  {
   "cell_type": "markdown",
   "metadata": {},
   "source": [
    "### DATASET Funcao Renal"
   ]
  },
  {
   "cell_type": "code",
   "execution_count": null,
   "metadata": {},
   "outputs": [],
   "source": [
    "X_train, X_test, y_train, y_test = train_test_split(df_funcao_renal, test_size = 0.3, random_state = 42)"
   ]
  },
  {
   "cell_type": "code",
   "execution_count": null,
   "metadata": {},
   "outputs": [],
   "source": [
    "lista_y = []\n",
    "\n",
    "for i in range(2, 20):\n",
    "    fcmeans = FCM(n_clusters = i,\n",
    "                  max_iter = 500,\n",
    "                  error = 0.0004,\n",
    "                  random_state = 42)\n",
    "    fcmeans.fix(X_train)\n",
    "    y_fcmeans = fcmeans.predict(X_test)\n",
    "    centros = fcmeans.centers"
   ]
  },
  {
   "cell_type": "code",
   "execution_count": null,
   "metadata": {},
   "outputs": [],
   "source": [
    "figura, eixos = plt.subplots(nrows = 17, ncols = 1, figsize = (16, 12))\n",
    "\n",
    "lista_y = []\n",
    "\n",
    "for i in range(2, 20):\n",
    "    fcmeans = FCM(n_clusters = i,\n",
    "                  max_iter = 500,\n",
    "                  error = 0.0004,\n",
    "                  random_state = 42)\n",
    "    fcmeans.fix(X_train)\n",
    "    y_fcmeans = fcmeans.predict(X_test)\n",
    "    centros = fcmeans.centers\n",
    "    \n",
    "    eixos[i].scatter(centros[:, 0], centros[:, 1], s = 100, c = \"black\", label = \"Centroides\")\n"
   ]
  },
  {
   "cell_type": "code",
   "execution_count": null,
   "metadata": {},
   "outputs": [],
   "source": [
    "metricas_distancia = [\n",
    "    \"cosine\",\n",
    "    \"minkowski\",\n",
    "    \"euclidean\"\n",
    "]\n",
    "\n",
    "parametros_fuzzy = [i for i in np.arange(1.0, 3.0, 0.5)]\n",
    "\n",
    "parametros_minkowski = [\n",
    "    {\"p\": 0.25},\n",
    "    {\"p\": 0.50},\n",
    "    {\"p\": 1.0},\n",
    "    {\"p\": 2.0},\n",
    "]"
   ]
  }
 ],
 "metadata": {
  "kernelspec": {
   "display_name": ".petca-venv",
   "language": "python",
   "name": "python3"
  },
  "language_info": {
   "codemirror_mode": {
    "name": "ipython",
    "version": 3
   },
   "file_extension": ".py",
   "mimetype": "text/x-python",
   "name": "python",
   "nbconvert_exporter": "python",
   "pygments_lexer": "ipython3",
   "version": "3.12.3"
  }
 },
 "nbformat": 4,
 "nbformat_minor": 2
}
