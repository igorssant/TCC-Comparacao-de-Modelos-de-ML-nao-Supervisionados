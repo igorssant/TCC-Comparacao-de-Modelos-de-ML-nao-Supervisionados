{
 "cells": [
  {
   "cell_type": "markdown",
   "metadata": {},
   "source": [
    "# T.C.C.: Comparação de Modelos de Aprendizado de Máquina não Supervisionados"
   ]
  },
  {
   "cell_type": "markdown",
   "metadata": {},
   "source": [
    "## Índice"
   ]
  },
  {
   "cell_type": "markdown",
   "metadata": {},
   "source": [
    "- [Importando bibliotecas e pacotes](#importando-as-bibliotecas-e-pacotes)\n",
    "- [Importando os datasets](#importando-os-datasets)\n",
    "- [Breve apresentação dos datasets](#breve-apresentação-dos-datasets)\n",
    "- [Análise Exmploratória dos Dados](#analise-exploratoria-dos-dados)\n",
    "- [Algoritmo KMeans](#algoritmo-k-means)\n",
    "- [Algoritmo MeanShift](#algoritmo-meanshift)\n",
    "- [Algoritmo Fuzzy C Means](#algoritmo-fuzzy-c-means)\n",
    "- [Algoritmo DBSCAN](#algoritmo-dbscan)\n",
    "- [Bibliografia](#bibliografia)"
   ]
  },
  {
   "cell_type": "markdown",
   "metadata": {},
   "source": [
    "- OS INDICES VAO AQUI"
   ]
  },
  {
   "cell_type": "markdown",
   "metadata": {},
   "source": [
    "## Importando as bibliotecas e pacotes"
   ]
  },
  {
   "cell_type": "code",
   "execution_count": null,
   "metadata": {},
   "outputs": [],
   "source": [
    "import pandas as pd\n",
    "import numpy as np"
   ]
  },
  {
   "cell_type": "markdown",
   "metadata": {},
   "source": [
    "## Importando os datasets"
   ]
  },
  {
   "cell_type": "code",
   "execution_count": null,
   "metadata": {},
   "outputs": [],
   "source": []
  },
  {
   "cell_type": "markdown",
   "metadata": {},
   "source": [
    "## Breve apresentação dos datasets"
   ]
  },
  {
   "cell_type": "code",
   "execution_count": null,
   "metadata": {},
   "outputs": [],
   "source": []
  },
  {
   "cell_type": "code",
   "execution_count": null,
   "metadata": {},
   "outputs": [],
   "source": []
  },
  {
   "cell_type": "markdown",
   "metadata": {},
   "source": [
    "## Analise Exploratoria dos Dados"
   ]
  },
  {
   "cell_type": "markdown",
   "metadata": {},
   "source": [
    "[Link para o notebook onde foi realizada a Análise Exploratória dos Dados](./analise_exploratoria.ipynb)"
   ]
  },
  {
   "cell_type": "markdown",
   "metadata": {},
   "source": [
    "## Algoritmo K-means"
   ]
  },
  {
   "cell_type": "markdown",
   "metadata": {},
   "source": [
    "[Link para o notebook onde foi utilizado o algoritmo KMeans](./kmeans.ipynb)"
   ]
  },
  {
   "cell_type": "markdown",
   "metadata": {},
   "source": [
    "## Algoritmo MeanShift"
   ]
  },
  {
   "cell_type": "markdown",
   "metadata": {},
   "source": [
    "[Link para o notebook onde foi utilizado o algoritmo MeanShift](./meanshift.ipynb)"
   ]
  },
  {
   "cell_type": "markdown",
   "metadata": {},
   "source": [
    "## Algoritmo Fuzzy C Means"
   ]
  },
  {
   "cell_type": "markdown",
   "metadata": {},
   "source": [
    "[Link para o notebook onde foi utilizado o algoritmo Fuzzy C Means](./fuzzy_c_means.ipynb)"
   ]
  },
  {
   "cell_type": "markdown",
   "metadata": {},
   "source": [
    "## Algoritmo DBSCAN"
   ]
  },
  {
   "cell_type": "markdown",
   "metadata": {},
   "source": [
    "[Link para o notebook onde foi utilizado o algoritmo DBSCAN](./dbscan.ipynb)"
   ]
  },
  {
   "cell_type": "markdown",
   "metadata": {},
   "source": [
    "## Bibliografia"
   ]
  },
  {
   "cell_type": "markdown",
   "metadata": {},
   "source": [
    "A bibliografia vai aqui\n"
   ]
  }
 ],
 "metadata": {
  "kernelspec": {
   "display_name": ".petca-venv",
   "language": "python",
   "name": "python3"
  },
  "language_info": {
   "name": "python",
   "version": "3.12.3"
  }
 },
 "nbformat": 4,
 "nbformat_minor": 2
}
