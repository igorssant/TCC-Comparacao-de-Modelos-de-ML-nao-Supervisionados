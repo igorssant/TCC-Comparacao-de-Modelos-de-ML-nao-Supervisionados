{
 "cells": [
  {
   "cell_type": "markdown",
   "metadata": {},
   "source": [
    "# Análise Exploratória dos Dados"
   ]
  },
  {
   "cell_type": "markdown",
   "metadata": {},
   "source": [
    "## Índice"
   ]
  },
  {
   "cell_type": "markdown",
   "metadata": {},
   "source": [
    "- [Link para retornar ao notebook principal](#retornar-para-notebook-principal---mainipynb)\n",
    "- [Importando bibliotecas e pacotes](#importando-bibliotecas-e-pacotes)\n",
    "- [Importando datasets](#importando-datasets)\n",
    "- [Breve apresentação dos dados](#breve-apresentacao-dos-dados)\n",
    "- [Realizando a análise exploratória](#analise-exploratoria-dos-dados)"
   ]
  },
  {
   "cell_type": "markdown",
   "metadata": {},
   "source": [
    "## Retornar para notebook principal - main.ipynb"
   ]
  },
  {
   "cell_type": "markdown",
   "metadata": {},
   "source": [
    "[Link para notebook principal](./main.ipynb)"
   ]
  },
  {
   "cell_type": "markdown",
   "metadata": {},
   "source": [
    "## Importando bibliotecas e pacotes"
   ]
  },
  {
   "cell_type": "code",
   "execution_count": 4,
   "metadata": {},
   "outputs": [],
   "source": [
    "from matplotlib import pyplot as plt\n",
    "import seaborn as sns\n",
    "import pandas as pd\n",
    "import numpy as np"
   ]
  },
  {
   "cell_type": "markdown",
   "metadata": {},
   "source": [
    "## Importando datasets"
   ]
  },
  {
   "cell_type": "code",
   "execution_count": 5,
   "metadata": {},
   "outputs": [],
   "source": [
    "df_funcao_renal = pd.read_csv(\"../databases/raw/InputFuncaoRenal.csv\", sep = \",\", index_col = \"subject_id\")\n",
    "df_dieta_grupos = pd.read_csv(\"../databases/raw/dva_dieta_grupos.csv\", sep = \",\", index_col = \"subject_id\")\n",
    "df_perfil_hepatico = pd.read_csv(\"../databases/raw/InputPerfilHepatico.csv\", sep = \",\", index_col = \"subject_id\")"
   ]
  },
  {
   "cell_type": "markdown",
   "metadata": {},
   "source": [
    "## Breve apresentacao dos dados"
   ]
  },
  {
   "cell_type": "markdown",
   "metadata": {},
   "source": [
    "### DATASET Funcao Renal"
   ]
  },
  {
   "cell_type": "code",
   "execution_count": 6,
   "metadata": {},
   "outputs": [
    {
     "data": {
      "text/html": [
       "<div>\n",
       "<style scoped>\n",
       "    .dataframe tbody tr th:only-of-type {\n",
       "        vertical-align: middle;\n",
       "    }\n",
       "\n",
       "    .dataframe tbody tr th {\n",
       "        vertical-align: top;\n",
       "    }\n",
       "\n",
       "    .dataframe thead th {\n",
       "        text-align: right;\n",
       "    }\n",
       "</style>\n",
       "<table border=\"1\" class=\"dataframe\">\n",
       "  <thead>\n",
       "    <tr style=\"text-align: right;\">\n",
       "      <th></th>\n",
       "      <th>high_urea_days</th>\n",
       "      <th>high_creatinine_days</th>\n",
       "    </tr>\n",
       "    <tr>\n",
       "      <th>subject_id</th>\n",
       "      <th></th>\n",
       "      <th></th>\n",
       "    </tr>\n",
       "  </thead>\n",
       "  <tbody>\n",
       "    <tr>\n",
       "      <th>10730901</th>\n",
       "      <td>0</td>\n",
       "      <td>0</td>\n",
       "    </tr>\n",
       "    <tr>\n",
       "      <th>16000868</th>\n",
       "      <td>0</td>\n",
       "      <td>0</td>\n",
       "    </tr>\n",
       "    <tr>\n",
       "      <th>13394692</th>\n",
       "      <td>0</td>\n",
       "      <td>0</td>\n",
       "    </tr>\n",
       "    <tr>\n",
       "      <th>13174810</th>\n",
       "      <td>1</td>\n",
       "      <td>3</td>\n",
       "    </tr>\n",
       "    <tr>\n",
       "      <th>11758268</th>\n",
       "      <td>0</td>\n",
       "      <td>0</td>\n",
       "    </tr>\n",
       "    <tr>\n",
       "      <th>15704322</th>\n",
       "      <td>0</td>\n",
       "      <td>0</td>\n",
       "    </tr>\n",
       "    <tr>\n",
       "      <th>14518794</th>\n",
       "      <td>2</td>\n",
       "      <td>4</td>\n",
       "    </tr>\n",
       "    <tr>\n",
       "      <th>18741255</th>\n",
       "      <td>3</td>\n",
       "      <td>4</td>\n",
       "    </tr>\n",
       "    <tr>\n",
       "      <th>12883917</th>\n",
       "      <td>0</td>\n",
       "      <td>0</td>\n",
       "    </tr>\n",
       "    <tr>\n",
       "      <th>18092291</th>\n",
       "      <td>3</td>\n",
       "      <td>3</td>\n",
       "    </tr>\n",
       "  </tbody>\n",
       "</table>\n",
       "</div>"
      ],
      "text/plain": [
       "            high_urea_days  high_creatinine_days\n",
       "subject_id                                      \n",
       "10730901                 0                     0\n",
       "16000868                 0                     0\n",
       "13394692                 0                     0\n",
       "13174810                 1                     3\n",
       "11758268                 0                     0\n",
       "15704322                 0                     0\n",
       "14518794                 2                     4\n",
       "18741255                 3                     4\n",
       "12883917                 0                     0\n",
       "18092291                 3                     3"
      ]
     },
     "execution_count": 6,
     "metadata": {},
     "output_type": "execute_result"
    }
   ],
   "source": [
    "df_funcao_renal.sample(10)"
   ]
  },
  {
   "cell_type": "code",
   "execution_count": 7,
   "metadata": {},
   "outputs": [
    {
     "name": "stdout",
     "output_type": "stream",
     "text": [
      "<class 'pandas.core.frame.DataFrame'>\n",
      "Index: 7493 entries, 18135694 to 12767768\n",
      "Data columns (total 2 columns):\n",
      " #   Column                Non-Null Count  Dtype\n",
      "---  ------                --------------  -----\n",
      " 0   high_urea_days        7493 non-null   int64\n",
      " 1   high_creatinine_days  7493 non-null   int64\n",
      "dtypes: int64(2)\n",
      "memory usage: 175.6 KB\n"
     ]
    }
   ],
   "source": [
    "df_funcao_renal.info()"
   ]
  },
  {
   "cell_type": "markdown",
   "metadata": {},
   "source": [
    "### DATASET dva Dieta Grupos"
   ]
  },
  {
   "cell_type": "code",
   "execution_count": 8,
   "metadata": {},
   "outputs": [
    {
     "data": {
      "text/html": [
       "<div>\n",
       "<style scoped>\n",
       "    .dataframe tbody tr th:only-of-type {\n",
       "        vertical-align: middle;\n",
       "    }\n",
       "\n",
       "    .dataframe tbody tr th {\n",
       "        vertical-align: top;\n",
       "    }\n",
       "\n",
       "    .dataframe thead th {\n",
       "        text-align: right;\n",
       "    }\n",
       "</style>\n",
       "<table border=\"1\" class=\"dataframe\">\n",
       "  <thead>\n",
       "    <tr style=\"text-align: right;\">\n",
       "      <th></th>\n",
       "      <th>firstnutrition</th>\n",
       "      <th>noramaxday1</th>\n",
       "      <th>noramaxday2</th>\n",
       "      <th>noramaxday3</th>\n",
       "      <th>noramaxday4</th>\n",
       "      <th>noramaxday5</th>\n",
       "      <th>noramaxday6</th>\n",
       "      <th>noramaxday7</th>\n",
       "      <th>vasoday1</th>\n",
       "      <th>vasoday2</th>\n",
       "      <th>...</th>\n",
       "      <th>vasoday5</th>\n",
       "      <th>vasoday6</th>\n",
       "      <th>vasoday7</th>\n",
       "      <th>kcalkgday1</th>\n",
       "      <th>kcalkgday2</th>\n",
       "      <th>kcalkgday3</th>\n",
       "      <th>kcalkgday4</th>\n",
       "      <th>kcalkgday5</th>\n",
       "      <th>kcalkgday6</th>\n",
       "      <th>kcalkgday7</th>\n",
       "    </tr>\n",
       "    <tr>\n",
       "      <th>subject_id</th>\n",
       "      <th></th>\n",
       "      <th></th>\n",
       "      <th></th>\n",
       "      <th></th>\n",
       "      <th></th>\n",
       "      <th></th>\n",
       "      <th></th>\n",
       "      <th></th>\n",
       "      <th></th>\n",
       "      <th></th>\n",
       "      <th></th>\n",
       "      <th></th>\n",
       "      <th></th>\n",
       "      <th></th>\n",
       "      <th></th>\n",
       "      <th></th>\n",
       "      <th></th>\n",
       "      <th></th>\n",
       "      <th></th>\n",
       "      <th></th>\n",
       "      <th></th>\n",
       "    </tr>\n",
       "  </thead>\n",
       "  <tbody>\n",
       "    <tr>\n",
       "      <th>14194723</th>\n",
       "      <td>1</td>\n",
       "      <td>1</td>\n",
       "      <td>1</td>\n",
       "      <td>1</td>\n",
       "      <td>0</td>\n",
       "      <td>0</td>\n",
       "      <td>1</td>\n",
       "      <td>0</td>\n",
       "      <td>1</td>\n",
       "      <td>0</td>\n",
       "      <td>...</td>\n",
       "      <td>0</td>\n",
       "      <td>0</td>\n",
       "      <td>0</td>\n",
       "      <td>10.952</td>\n",
       "      <td>2.841</td>\n",
       "      <td>1.422</td>\n",
       "      <td>1.345</td>\n",
       "      <td>0.891</td>\n",
       "      <td>0.975</td>\n",
       "      <td>0.842</td>\n",
       "    </tr>\n",
       "    <tr>\n",
       "      <th>15856547</th>\n",
       "      <td>1</td>\n",
       "      <td>0</td>\n",
       "      <td>0</td>\n",
       "      <td>0</td>\n",
       "      <td>0</td>\n",
       "      <td>0</td>\n",
       "      <td>0</td>\n",
       "      <td>0</td>\n",
       "      <td>0</td>\n",
       "      <td>0</td>\n",
       "      <td>...</td>\n",
       "      <td>0</td>\n",
       "      <td>0</td>\n",
       "      <td>0</td>\n",
       "      <td>3.633</td>\n",
       "      <td>14.714</td>\n",
       "      <td>2.298</td>\n",
       "      <td>4.432</td>\n",
       "      <td>13.354</td>\n",
       "      <td>11.577</td>\n",
       "      <td>13.604</td>\n",
       "    </tr>\n",
       "    <tr>\n",
       "      <th>10517237</th>\n",
       "      <td>1</td>\n",
       "      <td>2</td>\n",
       "      <td>1</td>\n",
       "      <td>1</td>\n",
       "      <td>0</td>\n",
       "      <td>0</td>\n",
       "      <td>0</td>\n",
       "      <td>0</td>\n",
       "      <td>1</td>\n",
       "      <td>0</td>\n",
       "      <td>...</td>\n",
       "      <td>0</td>\n",
       "      <td>0</td>\n",
       "      <td>0</td>\n",
       "      <td>2.493</td>\n",
       "      <td>2.478</td>\n",
       "      <td>2.671</td>\n",
       "      <td>2.263</td>\n",
       "      <td>1.662</td>\n",
       "      <td>1.754</td>\n",
       "      <td>0.596</td>\n",
       "    </tr>\n",
       "    <tr>\n",
       "      <th>13369123</th>\n",
       "      <td>1</td>\n",
       "      <td>1</td>\n",
       "      <td>0</td>\n",
       "      <td>0</td>\n",
       "      <td>0</td>\n",
       "      <td>0</td>\n",
       "      <td>0</td>\n",
       "      <td>0</td>\n",
       "      <td>1</td>\n",
       "      <td>0</td>\n",
       "      <td>...</td>\n",
       "      <td>0</td>\n",
       "      <td>0</td>\n",
       "      <td>0</td>\n",
       "      <td>4.216</td>\n",
       "      <td>3.636</td>\n",
       "      <td>0.877</td>\n",
       "      <td>1.582</td>\n",
       "      <td>1.342</td>\n",
       "      <td>2.672</td>\n",
       "      <td>10.933</td>\n",
       "    </tr>\n",
       "    <tr>\n",
       "      <th>10352416</th>\n",
       "      <td>1</td>\n",
       "      <td>1</td>\n",
       "      <td>0</td>\n",
       "      <td>0</td>\n",
       "      <td>0</td>\n",
       "      <td>0</td>\n",
       "      <td>0</td>\n",
       "      <td>0</td>\n",
       "      <td>1</td>\n",
       "      <td>0</td>\n",
       "      <td>...</td>\n",
       "      <td>0</td>\n",
       "      <td>0</td>\n",
       "      <td>0</td>\n",
       "      <td>6.502</td>\n",
       "      <td>4.356</td>\n",
       "      <td>2.247</td>\n",
       "      <td>1.669</td>\n",
       "      <td>1.431</td>\n",
       "      <td>0.954</td>\n",
       "      <td>5.727</td>\n",
       "    </tr>\n",
       "    <tr>\n",
       "      <th>13526177</th>\n",
       "      <td>1</td>\n",
       "      <td>1</td>\n",
       "      <td>1</td>\n",
       "      <td>1</td>\n",
       "      <td>1</td>\n",
       "      <td>1</td>\n",
       "      <td>1</td>\n",
       "      <td>0</td>\n",
       "      <td>0</td>\n",
       "      <td>0</td>\n",
       "      <td>...</td>\n",
       "      <td>0</td>\n",
       "      <td>0</td>\n",
       "      <td>0</td>\n",
       "      <td>1.177</td>\n",
       "      <td>3.850</td>\n",
       "      <td>5.169</td>\n",
       "      <td>6.384</td>\n",
       "      <td>6.592</td>\n",
       "      <td>8.538</td>\n",
       "      <td>9.062</td>\n",
       "    </tr>\n",
       "    <tr>\n",
       "      <th>10291098</th>\n",
       "      <td>1</td>\n",
       "      <td>1</td>\n",
       "      <td>1</td>\n",
       "      <td>1</td>\n",
       "      <td>1</td>\n",
       "      <td>0</td>\n",
       "      <td>0</td>\n",
       "      <td>0</td>\n",
       "      <td>0</td>\n",
       "      <td>0</td>\n",
       "      <td>...</td>\n",
       "      <td>0</td>\n",
       "      <td>0</td>\n",
       "      <td>0</td>\n",
       "      <td>5.342</td>\n",
       "      <td>16.148</td>\n",
       "      <td>35.031</td>\n",
       "      <td>42.808</td>\n",
       "      <td>17.451</td>\n",
       "      <td>8.145</td>\n",
       "      <td>38.928</td>\n",
       "    </tr>\n",
       "    <tr>\n",
       "      <th>16014838</th>\n",
       "      <td>1</td>\n",
       "      <td>2</td>\n",
       "      <td>2</td>\n",
       "      <td>0</td>\n",
       "      <td>0</td>\n",
       "      <td>0</td>\n",
       "      <td>0</td>\n",
       "      <td>0</td>\n",
       "      <td>1</td>\n",
       "      <td>1</td>\n",
       "      <td>...</td>\n",
       "      <td>0</td>\n",
       "      <td>0</td>\n",
       "      <td>0</td>\n",
       "      <td>7.438</td>\n",
       "      <td>5.083</td>\n",
       "      <td>1.767</td>\n",
       "      <td>4.604</td>\n",
       "      <td>2.866</td>\n",
       "      <td>0.434</td>\n",
       "      <td>2.602</td>\n",
       "    </tr>\n",
       "    <tr>\n",
       "      <th>12103431</th>\n",
       "      <td>1</td>\n",
       "      <td>1</td>\n",
       "      <td>1</td>\n",
       "      <td>1</td>\n",
       "      <td>1</td>\n",
       "      <td>2</td>\n",
       "      <td>1</td>\n",
       "      <td>1</td>\n",
       "      <td>0</td>\n",
       "      <td>0</td>\n",
       "      <td>...</td>\n",
       "      <td>0</td>\n",
       "      <td>0</td>\n",
       "      <td>0</td>\n",
       "      <td>3.389</td>\n",
       "      <td>32.842</td>\n",
       "      <td>35.758</td>\n",
       "      <td>35.300</td>\n",
       "      <td>30.453</td>\n",
       "      <td>32.553</td>\n",
       "      <td>13.816</td>\n",
       "    </tr>\n",
       "    <tr>\n",
       "      <th>10950332</th>\n",
       "      <td>1</td>\n",
       "      <td>0</td>\n",
       "      <td>0</td>\n",
       "      <td>0</td>\n",
       "      <td>0</td>\n",
       "      <td>0</td>\n",
       "      <td>0</td>\n",
       "      <td>0</td>\n",
       "      <td>0</td>\n",
       "      <td>0</td>\n",
       "      <td>...</td>\n",
       "      <td>0</td>\n",
       "      <td>0</td>\n",
       "      <td>0</td>\n",
       "      <td>12.584</td>\n",
       "      <td>5.719</td>\n",
       "      <td>17.599</td>\n",
       "      <td>26.225</td>\n",
       "      <td>1.932</td>\n",
       "      <td>3.865</td>\n",
       "      <td>14.741</td>\n",
       "    </tr>\n",
       "  </tbody>\n",
       "</table>\n",
       "<p>10 rows × 22 columns</p>\n",
       "</div>"
      ],
      "text/plain": [
       "            firstnutrition  noramaxday1  noramaxday2  noramaxday3  \\\n",
       "subject_id                                                          \n",
       "14194723                 1            1            1            1   \n",
       "15856547                 1            0            0            0   \n",
       "10517237                 1            2            1            1   \n",
       "13369123                 1            1            0            0   \n",
       "10352416                 1            1            0            0   \n",
       "13526177                 1            1            1            1   \n",
       "10291098                 1            1            1            1   \n",
       "16014838                 1            2            2            0   \n",
       "12103431                 1            1            1            1   \n",
       "10950332                 1            0            0            0   \n",
       "\n",
       "            noramaxday4  noramaxday5  noramaxday6  noramaxday7  vasoday1  \\\n",
       "subject_id                                                                 \n",
       "14194723              0            0            1            0         1   \n",
       "15856547              0            0            0            0         0   \n",
       "10517237              0            0            0            0         1   \n",
       "13369123              0            0            0            0         1   \n",
       "10352416              0            0            0            0         1   \n",
       "13526177              1            1            1            0         0   \n",
       "10291098              1            0            0            0         0   \n",
       "16014838              0            0            0            0         1   \n",
       "12103431              1            2            1            1         0   \n",
       "10950332              0            0            0            0         0   \n",
       "\n",
       "            vasoday2  ...  vasoday5  vasoday6  vasoday7  kcalkgday1  \\\n",
       "subject_id            ...                                             \n",
       "14194723           0  ...         0         0         0      10.952   \n",
       "15856547           0  ...         0         0         0       3.633   \n",
       "10517237           0  ...         0         0         0       2.493   \n",
       "13369123           0  ...         0         0         0       4.216   \n",
       "10352416           0  ...         0         0         0       6.502   \n",
       "13526177           0  ...         0         0         0       1.177   \n",
       "10291098           0  ...         0         0         0       5.342   \n",
       "16014838           1  ...         0         0         0       7.438   \n",
       "12103431           0  ...         0         0         0       3.389   \n",
       "10950332           0  ...         0         0         0      12.584   \n",
       "\n",
       "            kcalkgday2  kcalkgday3  kcalkgday4  kcalkgday5  kcalkgday6  \\\n",
       "subject_id                                                               \n",
       "14194723         2.841       1.422       1.345       0.891       0.975   \n",
       "15856547        14.714       2.298       4.432      13.354      11.577   \n",
       "10517237         2.478       2.671       2.263       1.662       1.754   \n",
       "13369123         3.636       0.877       1.582       1.342       2.672   \n",
       "10352416         4.356       2.247       1.669       1.431       0.954   \n",
       "13526177         3.850       5.169       6.384       6.592       8.538   \n",
       "10291098        16.148      35.031      42.808      17.451       8.145   \n",
       "16014838         5.083       1.767       4.604       2.866       0.434   \n",
       "12103431        32.842      35.758      35.300      30.453      32.553   \n",
       "10950332         5.719      17.599      26.225       1.932       3.865   \n",
       "\n",
       "            kcalkgday7  \n",
       "subject_id              \n",
       "14194723         0.842  \n",
       "15856547        13.604  \n",
       "10517237         0.596  \n",
       "13369123        10.933  \n",
       "10352416         5.727  \n",
       "13526177         9.062  \n",
       "10291098        38.928  \n",
       "16014838         2.602  \n",
       "12103431        13.816  \n",
       "10950332        14.741  \n",
       "\n",
       "[10 rows x 22 columns]"
      ]
     },
     "execution_count": 8,
     "metadata": {},
     "output_type": "execute_result"
    }
   ],
   "source": [
    "df_dieta_grupos.sample(10)"
   ]
  },
  {
   "cell_type": "code",
   "execution_count": 9,
   "metadata": {},
   "outputs": [
    {
     "name": "stdout",
     "output_type": "stream",
     "text": [
      "<class 'pandas.core.frame.DataFrame'>\n",
      "Index: 3316 entries, 12306709 to 12748404\n",
      "Data columns (total 22 columns):\n",
      " #   Column          Non-Null Count  Dtype  \n",
      "---  ------          --------------  -----  \n",
      " 0   firstnutrition  3316 non-null   int64  \n",
      " 1   noramaxday1     3316 non-null   int64  \n",
      " 2   noramaxday2     3316 non-null   int64  \n",
      " 3   noramaxday3     3316 non-null   int64  \n",
      " 4   noramaxday4     3316 non-null   int64  \n",
      " 5   noramaxday5     3316 non-null   int64  \n",
      " 6   noramaxday6     3316 non-null   int64  \n",
      " 7   noramaxday7     3316 non-null   int64  \n",
      " 8   vasoday1        3316 non-null   int64  \n",
      " 9   vasoday2        3316 non-null   int64  \n",
      " 10  vasoday3        3316 non-null   int64  \n",
      " 11  vasoday4        3316 non-null   int64  \n",
      " 12  vasoday5        3316 non-null   int64  \n",
      " 13  vasoday6        3316 non-null   int64  \n",
      " 14  vasoday7        3316 non-null   int64  \n",
      " 15  kcalkgday1      3316 non-null   float64\n",
      " 16  kcalkgday2      3316 non-null   float64\n",
      " 17  kcalkgday3      3316 non-null   float64\n",
      " 18  kcalkgday4      3316 non-null   float64\n",
      " 19  kcalkgday5      3316 non-null   float64\n",
      " 20  kcalkgday6      3316 non-null   float64\n",
      " 21  kcalkgday7      3316 non-null   float64\n",
      "dtypes: float64(7), int64(15)\n",
      "memory usage: 595.8 KB\n"
     ]
    }
   ],
   "source": [
    "df_dieta_grupos.info()"
   ]
  },
  {
   "cell_type": "markdown",
   "metadata": {},
   "source": [
    "### DATASET Perfil Hepatico"
   ]
  },
  {
   "cell_type": "code",
   "execution_count": 10,
   "metadata": {},
   "outputs": [
    {
     "data": {
      "text/html": [
       "<div>\n",
       "<style scoped>\n",
       "    .dataframe tbody tr th:only-of-type {\n",
       "        vertical-align: middle;\n",
       "    }\n",
       "\n",
       "    .dataframe tbody tr th {\n",
       "        vertical-align: top;\n",
       "    }\n",
       "\n",
       "    .dataframe thead th {\n",
       "        text-align: right;\n",
       "    }\n",
       "</style>\n",
       "<table border=\"1\" class=\"dataframe\">\n",
       "  <thead>\n",
       "    <tr style=\"text-align: right;\">\n",
       "      <th></th>\n",
       "      <th>max_alkaline</th>\n",
       "      <th>max_alt</th>\n",
       "      <th>max_ast</th>\n",
       "      <th>high_bilirubins_days</th>\n",
       "      <th>high_triglycerides_days</th>\n",
       "    </tr>\n",
       "    <tr>\n",
       "      <th>subject_id</th>\n",
       "      <th></th>\n",
       "      <th></th>\n",
       "      <th></th>\n",
       "      <th></th>\n",
       "      <th></th>\n",
       "    </tr>\n",
       "  </thead>\n",
       "  <tbody>\n",
       "    <tr>\n",
       "      <th>10835377</th>\n",
       "      <td>0</td>\n",
       "      <td>0</td>\n",
       "      <td>0</td>\n",
       "      <td>0</td>\n",
       "      <td>0</td>\n",
       "    </tr>\n",
       "    <tr>\n",
       "      <th>12766828</th>\n",
       "      <td>0</td>\n",
       "      <td>1</td>\n",
       "      <td>2</td>\n",
       "      <td>0</td>\n",
       "      <td>0</td>\n",
       "    </tr>\n",
       "    <tr>\n",
       "      <th>17097285</th>\n",
       "      <td>0</td>\n",
       "      <td>1</td>\n",
       "      <td>3</td>\n",
       "      <td>0</td>\n",
       "      <td>0</td>\n",
       "    </tr>\n",
       "    <tr>\n",
       "      <th>12850967</th>\n",
       "      <td>0</td>\n",
       "      <td>0</td>\n",
       "      <td>0</td>\n",
       "      <td>0</td>\n",
       "      <td>0</td>\n",
       "    </tr>\n",
       "    <tr>\n",
       "      <th>14102384</th>\n",
       "      <td>0</td>\n",
       "      <td>0</td>\n",
       "      <td>0</td>\n",
       "      <td>0</td>\n",
       "      <td>0</td>\n",
       "    </tr>\n",
       "    <tr>\n",
       "      <th>16123073</th>\n",
       "      <td>1</td>\n",
       "      <td>0</td>\n",
       "      <td>0</td>\n",
       "      <td>0</td>\n",
       "      <td>0</td>\n",
       "    </tr>\n",
       "    <tr>\n",
       "      <th>10878101</th>\n",
       "      <td>0</td>\n",
       "      <td>0</td>\n",
       "      <td>0</td>\n",
       "      <td>0</td>\n",
       "      <td>0</td>\n",
       "    </tr>\n",
       "    <tr>\n",
       "      <th>11797617</th>\n",
       "      <td>0</td>\n",
       "      <td>0</td>\n",
       "      <td>1</td>\n",
       "      <td>0</td>\n",
       "      <td>0</td>\n",
       "    </tr>\n",
       "    <tr>\n",
       "      <th>10545556</th>\n",
       "      <td>0</td>\n",
       "      <td>0</td>\n",
       "      <td>0</td>\n",
       "      <td>0</td>\n",
       "      <td>0</td>\n",
       "    </tr>\n",
       "    <tr>\n",
       "      <th>19696084</th>\n",
       "      <td>0</td>\n",
       "      <td>0</td>\n",
       "      <td>0</td>\n",
       "      <td>0</td>\n",
       "      <td>0</td>\n",
       "    </tr>\n",
       "  </tbody>\n",
       "</table>\n",
       "</div>"
      ],
      "text/plain": [
       "            max_alkaline  max_alt  max_ast  high_bilirubins_days  \\\n",
       "subject_id                                                         \n",
       "10835377               0        0        0                     0   \n",
       "12766828               0        1        2                     0   \n",
       "17097285               0        1        3                     0   \n",
       "12850967               0        0        0                     0   \n",
       "14102384               0        0        0                     0   \n",
       "16123073               1        0        0                     0   \n",
       "10878101               0        0        0                     0   \n",
       "11797617               0        0        1                     0   \n",
       "10545556               0        0        0                     0   \n",
       "19696084               0        0        0                     0   \n",
       "\n",
       "            high_triglycerides_days  \n",
       "subject_id                           \n",
       "10835377                          0  \n",
       "12766828                          0  \n",
       "17097285                          0  \n",
       "12850967                          0  \n",
       "14102384                          0  \n",
       "16123073                          0  \n",
       "10878101                          0  \n",
       "11797617                          0  \n",
       "10545556                          0  \n",
       "19696084                          0  "
      ]
     },
     "execution_count": 10,
     "metadata": {},
     "output_type": "execute_result"
    }
   ],
   "source": [
    "df_perfil_hepatico.sample(10)"
   ]
  },
  {
   "cell_type": "code",
   "execution_count": 11,
   "metadata": {},
   "outputs": [
    {
     "name": "stdout",
     "output_type": "stream",
     "text": [
      "<class 'pandas.core.frame.DataFrame'>\n",
      "Index: 7493 entries, 18135694 to 12767768\n",
      "Data columns (total 5 columns):\n",
      " #   Column                   Non-Null Count  Dtype\n",
      "---  ------                   --------------  -----\n",
      " 0   max_alkaline             7493 non-null   int64\n",
      " 1   max_alt                  7493 non-null   int64\n",
      " 2   max_ast                  7493 non-null   int64\n",
      " 3   high_bilirubins_days     7493 non-null   int64\n",
      " 4   high_triglycerides_days  7493 non-null   int64\n",
      "dtypes: int64(5)\n",
      "memory usage: 351.2 KB\n"
     ]
    }
   ],
   "source": [
    "df_perfil_hepatico.info()"
   ]
  },
  {
   "cell_type": "markdown",
   "metadata": {},
   "source": [
    "## Analise Exploratoria dos Dados"
   ]
  },
  {
   "cell_type": "markdown",
   "metadata": {},
   "source": [
    "### DATASET Funcao Renal"
   ]
  },
  {
   "cell_type": "markdown",
   "metadata": {},
   "source": [
    "#### Colunas"
   ]
  },
  {
   "cell_type": "code",
   "execution_count": 12,
   "metadata": {},
   "outputs": [
    {
     "data": {
      "text/plain": [
       "Index(['high_urea_days', 'high_creatinine_days'], dtype='object')"
      ]
     },
     "execution_count": 12,
     "metadata": {},
     "output_type": "execute_result"
    }
   ],
   "source": [
    "df_funcao_renal.columns"
   ]
  },
  {
   "cell_type": "markdown",
   "metadata": {},
   "source": [
    "#### Valores únicos das colunas"
   ]
  },
  {
   "cell_type": "markdown",
   "metadata": {},
   "source": [
    "##### Coluna: \"high_urea_days\""
   ]
  },
  {
   "cell_type": "code",
   "execution_count": 18,
   "metadata": {},
   "outputs": [
    {
     "data": {
      "text/plain": [
       "array([0, 4, 3, 2, 1])"
      ]
     },
     "execution_count": 18,
     "metadata": {},
     "output_type": "execute_result"
    }
   ],
   "source": [
    "df_funcao_renal[\"high_urea_days\"].unique()"
   ]
  },
  {
   "cell_type": "markdown",
   "metadata": {},
   "source": [
    "##### Coluna: \"high_creatinine_days\""
   ]
  },
  {
   "cell_type": "code",
   "execution_count": 19,
   "metadata": {},
   "outputs": [
    {
     "data": {
      "text/plain": [
       "array([0, 4, 1, 2, 3])"
      ]
     },
     "execution_count": 19,
     "metadata": {},
     "output_type": "execute_result"
    }
   ],
   "source": [
    "df_funcao_renal[\"high_creatinine_days\"].unique()"
   ]
  },
  {
   "cell_type": "markdown",
   "metadata": {},
   "source": [
    "#### Quantidade de cada um dos valores únicos das colunas"
   ]
  },
  {
   "cell_type": "markdown",
   "metadata": {},
   "source": [
    "##### Coluna: \"high_urea_days\""
   ]
  },
  {
   "cell_type": "code",
   "execution_count": 20,
   "metadata": {},
   "outputs": [
    {
     "data": {
      "text/plain": [
       "high_urea_days\n",
       "0    5273\n",
       "4     605\n",
       "2     589\n",
       "1     555\n",
       "3     471\n",
       "Name: count, dtype: int64"
      ]
     },
     "execution_count": 20,
     "metadata": {},
     "output_type": "execute_result"
    }
   ],
   "source": [
    "df_funcao_renal[\"high_urea_days\"].value_counts()"
   ]
  },
  {
   "cell_type": "markdown",
   "metadata": {},
   "source": [
    "##### Coluna: \"high_urea_days\""
   ]
  },
  {
   "cell_type": "code",
   "execution_count": 21,
   "metadata": {},
   "outputs": [
    {
     "data": {
      "text/plain": [
       "high_creatinine_days\n",
       "0    3908\n",
       "4    1763\n",
       "1     666\n",
       "3     593\n",
       "2     563\n",
       "Name: count, dtype: int64"
      ]
     },
     "execution_count": 21,
     "metadata": {},
     "output_type": "execute_result"
    }
   ],
   "source": [
    "df_funcao_renal[\"high_creatinine_days\"].value_counts()"
   ]
  },
  {
   "cell_type": "markdown",
   "metadata": {},
   "source": [
    "Acima, podemos ver que:\n",
    "- Ambas colunas tem valores que variam de 0 a 4;\n",
    "- Em ambas colunas, o valor `0` é o mais recorrente;\n",
    "- Em ambas colunas, o valor `3` é o menos recorrente;\n",
    "- Ambas colunas apresentam quantidades de valores na mesma ordem decrescente, isto é:\n",
    "    - O valor `0` é o que mais apresenta dados;\n",
    "    - Logo em seguida o valor `4`;\n",
    "    - O valor `2`;\n",
    "    - O valor `1`;\n",
    "    - E por fim o valor `3` com a menor quantidade de dados."
   ]
  },
  {
   "cell_type": "markdown",
   "metadata": {},
   "source": [
    "## BoxPlot"
   ]
  },
  {
   "cell_type": "markdown",
   "metadata": {},
   "source": [
    "### DATASET Funcao Renal"
   ]
  },
  {
   "cell_type": "code",
   "execution_count": 24,
   "metadata": {},
   "outputs": [
    {
     "data": {
      "image/png": "[encoded data removed]",
      "text/plain": [
       "<Figure size 800x600 with 1 Axes>"
      ]
     },
     "metadata": {},
     "output_type": "display_data"
    }
   ],
   "source": [
    "plt.figure(figsize = (8, 6))\n",
    "\n",
    "sns.boxplot(data = df_funcao_renal)\n",
    "\n",
    "plt.show()"
   ]
  },
  {
   "cell_type": "markdown",
   "metadata": {},
   "source": [
    "Como podemos ver acima, a enorme maioria dos dados, em ambas colunas, está entre o primeiro e o segundo quartil.\n",
    "A distribuição dos dados na coluna `high_urea_days` está muito mais aglutinada do que a coluna `high_creatine_days`.\n",
    "Além disso, conseguimos notar que somente a coluna `high_urea_days` possui outliers."
   ]
  },
  {
   "cell_type": "markdown",
   "metadata": {},
   "source": [
    "## ViolinPlot"
   ]
  },
  {
   "cell_type": "markdown",
   "metadata": {},
   "source": [
    "### DATASET Funcao Renal"
   ]
  },
  {
   "cell_type": "code",
   "execution_count": 25,
   "metadata": {},
   "outputs": [
    {
     "data": {
      "image/png": "[encoded data removed]",
      "text/plain": [
       "<Figure size 800x600 with 1 Axes>"
      ]
     },
     "metadata": {},
     "output_type": "display_data"
    }
   ],
   "source": [
    "plt.figure(figsize = (8, 6))\n",
    "\n",
    "sns.violinplot(data = df_funcao_renal)\n",
    "\n",
    "plt.show()"
   ]
  },
  {
   "cell_type": "markdown",
   "metadata": {},
   "source": [
    "Como podemos ver acima, a coluna `high_urea_days` tem sua concentração de dados entre o primeiro e o segundo quartil, com poucos dados expalhados acima de sua mediana.\n",
    "Enquanto a coluna `high_creatine_days` possui duas concentrações de dados:\n",
    "- entre o primeiro e o segundo quartil (onde grande parte de seus dados está);\n",
    "- ao redor do terceiro quartil (há uma segunda concentração)."
   ]
  },
  {
   "cell_type": "markdown",
   "metadata": {},
   "source": [
    "## Grafico de dispersao"
   ]
  },
  {
   "cell_type": "markdown",
   "metadata": {},
   "source": [
    "### DATASET Funcao Renal"
   ]
  },
  {
   "cell_type": "code",
   "execution_count": 28,
   "metadata": {},
   "outputs": [
    {
     "data": {
      "text/plain": [
       "<Figure size 1200x900 with 0 Axes>"
      ]
     },
     "metadata": {},
     "output_type": "display_data"
    },
    {
     "data": {
      "image/png": "[encoded data removed]",
      "text/plain": [
       "<Figure size 800x800 with 6 Axes>"
      ]
     },
     "metadata": {},
     "output_type": "display_data"
    }
   ],
   "source": [
    "plt.figure(figsize = (12, 9))\n",
    "\n",
    "sns.set_style(\"whitegrid\")\n",
    "sns.pairplot(df_funcao_renal,  height = 4)\n",
    "\n",
    "plt.show()"
   ]
  },
  {
   "cell_type": "markdown",
   "metadata": {},
   "source": [
    "## Mapa de Calor"
   ]
  },
  {
   "cell_type": "markdown",
   "metadata": {},
   "source": [
    "### DATASET Funcao Renal"
   ]
  },
  {
   "cell_type": "code",
   "execution_count": 36,
   "metadata": {},
   "outputs": [
    {
     "data": {
      "image/png": "[encoded data removed]",
      "text/plain": [
       "<Figure size 800x600 with 2 Axes>"
      ]
     },
     "metadata": {},
     "output_type": "display_data"
    }
   ],
   "source": [
    "plt.figure(figsize = (8, 6))\n",
    "\n",
    "sns.heatmap(data = df_funcao_renal.corr(), vmin = -1, vmax = 1, center = 0)\n",
    "\n",
    "plt.show()"
   ]
  },
  {
   "cell_type": "markdown",
   "metadata": {},
   "source": [
    "Como podemos ver acima, ambas colunas são positivamente relacionadas."
   ]
  },
  {
   "cell_type": "code",
   "execution_count": null,
   "metadata": {},
   "outputs": [],
   "source": []
  }
 ],
 "metadata": {
  "kernelspec": {
   "display_name": ".petca-venv",
   "language": "python",
   "name": "python3"
  },
  "language_info": {
   "codemirror_mode": {
    "name": "ipython",
    "version": 3
   },
   "file_extension": ".py",
   "mimetype": "text/x-python",
   "name": "python",
   "nbconvert_exporter": "python",
   "pygments_lexer": "ipython3",
   "version": "3.12.3"
  }
 },
 "nbformat": 4,
 "nbformat_minor": 2
}
